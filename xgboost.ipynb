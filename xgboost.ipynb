{
 "cells": [
  {
   "cell_type": "code",
   "execution_count": 2,
   "id": "13aed560-3c0f-4d1f-bd54-3a085ccad7a2",
   "metadata": {
    "tags": []
   },
   "outputs": [],
   "source": [
    "import xgboost\n",
    "import pkgutil\n",
    "import os\n",
    "import numpy as np\n",
    "import importlib, inspect\n",
    "import warnings\n",
    "warnings.filterwarnings(\"ignore\")\n",
    "import pickle"
   ]
  },
  {
   "cell_type": "code",
   "execution_count": 8,
   "id": "18441bb0-576f-4c7c-a1c0-5a24d1a65496",
   "metadata": {
    "tags": []
   },
   "outputs": [],
   "source": [
    "compas_training = pickle.load(open(\"./data/pickle_pandas_tabular_compas_training.sav\", \"rb\"))\n",
    "compas_testing = pickle.load(open(\"./data/pickle_pandas_tabular_compas_testing.sav\", \"rb\"))\n",
    "\n",
    "# Consider to do more tests\n",
    "# cardio_testing = pickle.load(open(\"./data/pickle_pandas_tabular_cardio_testing.sav\", \"rb\"))\n",
    "# cardio_training = pickle.load(open(\"./data/pickle_pandas_tabular_cardio_training.sav\", \"rb\"))\n",
    "\n",
    "X_train = compas_training.drop(\"two_year_recid\", axis=1)\n",
    "y_train = compas_training[[\"two_year_recid\"]]\n",
    "X_test = compas_testing.drop(\"two_year_recid\", axis=1)\n",
    "y_test = compas_testing[[\"two_year_recid\"]]\n",
    "\n",
    "save_dir = \"./models/xgboost/{0}\".format(xgboost.__version__)\n",
    "os.mkdir(save_dir)"
   ]
  },
  {
   "cell_type": "markdown",
   "id": "3898eb1f-31aa-47f8-88cc-0bf7bb9707e4",
   "metadata": {},
   "source": [
    "# Generate xgboost model samples for rocket"
   ]
  },
  {
   "cell_type": "code",
   "execution_count": 4,
   "id": "3e9570b9-4f29-4067-9250-c51cedd56ced",
   "metadata": {},
   "outputs": [
    {
     "data": {
      "text/plain": [
       "['DMatrix',\n",
       " 'DeviceQuantileDMatrix',\n",
       " 'QuantileDMatrix',\n",
       " 'Booster',\n",
       " 'DataIter',\n",
       " 'train',\n",
       " 'cv',\n",
       " 'RabitTracker',\n",
       " 'build_info',\n",
       " 'plot_importance',\n",
       " 'plot_tree',\n",
       " 'to_graphviz',\n",
       " 'set_config',\n",
       " 'get_config',\n",
       " 'config_context',\n",
       " 'XGBModel',\n",
       " 'XGBClassifier',\n",
       " 'XGBRegressor',\n",
       " 'XGBRanker',\n",
       " 'XGBRFClassifier',\n",
       " 'XGBRFRegressor',\n",
       " 'dask',\n",
       " 'collective']"
      ]
     },
     "execution_count": 4,
     "metadata": {},
     "output_type": "execute_result"
    }
   ],
   "source": [
    "xgboost.__all__"
   ]
  },
  {
   "cell_type": "code",
   "execution_count": 9,
   "id": "29e2917d-13d9-4a9c-8c96-b7da36e04f1b",
   "metadata": {
    "tags": []
   },
   "outputs": [
    {
     "name": "stdout",
     "output_type": "stream",
     "text": [
      "[0]\teval-logloss:0.63330\ttrain-logloss:0.62683\n",
      "[1]\teval-logloss:0.62669\ttrain-logloss:0.61763\n",
      "[2]\teval-logloss:0.62169\ttrain-logloss:0.61114\n",
      "[3]\teval-logloss:0.61613\ttrain-logloss:0.60872\n",
      "[4]\teval-logloss:0.61560\ttrain-logloss:0.60734\n",
      "[5]\teval-logloss:0.61458\ttrain-logloss:0.60498\n",
      "[6]\teval-logloss:0.61250\ttrain-logloss:0.60392\n",
      "[7]\teval-logloss:0.61243\ttrain-logloss:0.60355\n",
      "[8]\teval-logloss:0.61119\ttrain-logloss:0.60307\n",
      "[9]\teval-logloss:0.61126\ttrain-logloss:0.60280\n",
      "type: <class 'xgboost.core.Booster'>\n"
     ]
    }
   ],
   "source": [
    "param = {\n",
    "    \"max_depth\": 2,\n",
    "    \"eta\": 1,\n",
    "    \"objective\": \"binary:logistic\"\n",
    "}\n",
    "# prepare the data in xgboost manner\n",
    "dtrain = xgboost.DMatrix(X_train, y_train)\n",
    "dtest = xgboost.DMatrix(X_test, y_test)\n",
    "\n",
    "watchlist = [(dtest, \"eval\"), (dtrain, \"train\")]\n",
    "bst = xgboost.train(param, dtrain, evals=watchlist) # train using booster class\n",
    "print(\"type: {0}\".format(type(bst)))\n",
    "\n",
    "with open(\"algorithm.txt\", \"a+\") as f:\n",
    "    f.write(\"xgboost.core.Booster\\n\")\n",
    "\n",
    "pickle.dump(bst, open(\"{0}/binary_classification_compas_logistic_xgboost.core.Booster.sav\".format(save_dir), \"wb+\"))"
   ]
  },
  {
   "cell_type": "code",
   "execution_count": 10,
   "id": "1aa40245-8e64-441e-9945-47311130f5bd",
   "metadata": {
    "tags": []
   },
   "outputs": [
    {
     "name": "stdout",
     "output_type": "stream",
     "text": [
      "[0]\teval-logloss:6.13873\ttrain-logloss:6.01503\n",
      "[1]\teval-logloss:7.25572\ttrain-logloss:7.24620\n",
      "[2]\teval-logloss:7.04316\ttrain-logloss:6.95921\n",
      "[3]\teval-logloss:7.28631\ttrain-logloss:7.29401\n",
      "[4]\teval-logloss:7.72789\ttrain-logloss:7.73330\n",
      "[5]\teval-logloss:7.61887\ttrain-logloss:7.62365\n",
      "[6]\teval-logloss:7.62035\ttrain-logloss:7.58637\n",
      "[7]\teval-logloss:7.68383\ttrain-logloss:7.62564\n",
      "[8]\teval-logloss:7.63306\ttrain-logloss:7.62119\n",
      "[9]\teval-logloss:7.72224\ttrain-logloss:7.67107\n",
      "type: <class 'xgboost.core.Booster'>\n"
     ]
    }
   ],
   "source": [
    "param = {\n",
    "    \"max_depth\": 2,\n",
    "    \"eta\": 1,\n",
    "    \"objective\": \"binary:logitraw\"\n",
    "}\n",
    "\n",
    "watchlist = [(dtest, \"eval\"), (dtrain, \"train\")]\n",
    "bst = xgboost.train(param, dtrain, evals=watchlist) # train using booster class\n",
    "print(\"type: {0}\".format(type(bst)))\n",
    "\n",
    "with open(\"algorithm.txt\", \"a+\") as f:\n",
    "    f.write(\"xgboost.core.Booster\\n\")\n",
    "\n",
    "pickle.dump(bst, open(\"{0}/binary_classification_compas_logitraw_xgboost.core.Booster.sav\".format(save_dir), \"wb+\"))"
   ]
  },
  {
   "cell_type": "markdown",
   "id": "59dd7022-82af-41a5-8103-e057cc1069b6",
   "metadata": {},
   "source": [
    "## Classifier with reference to sklearn"
   ]
  },
  {
   "cell_type": "code",
   "execution_count": 11,
   "id": "bc30180b-7e3e-4973-8fb5-b82772165102",
   "metadata": {
    "tags": []
   },
   "outputs": [
    {
     "name": "stdout",
     "output_type": "stream",
     "text": [
      "type: <class 'xgboost.sklearn.XGBClassifier'>\n",
      "score: 0.6647773279352227\n"
     ]
    }
   ],
   "source": [
    "classifier = xgboost.XGBClassifier().fit(X_train, y_train)  # train using booster class\n",
    "predictions = classifier.predict(X_test)\n",
    "print(\"type: {0}\".format(type(classifier)))\n",
    "print(\"score: {0}\".format(classifier.score(X_test, y_test)))\n",
    "\n",
    "with open(\"algorithm.txt\", \"a+\") as f:\n",
    "    f.write(\"xgboost.sklearn.XGBClassifier\\n\")\n",
    "pickle.dump(classifier, open(\"{0}/binary_classification_compas_xgboost.sklearn.XGBClassifier.sav\".format(save_dir), \"wb+\"))"
   ]
  },
  {
   "cell_type": "code",
   "execution_count": 12,
   "id": "b4c3c2b3-fc57-4ae1-bfbc-55f081736869",
   "metadata": {
    "tags": []
   },
   "outputs": [
    {
     "name": "stdout",
     "output_type": "stream",
     "text": [
      "type: <class 'xgboost.sklearn.XGBRFClassifier'>\n",
      "score: 0.6696356275303643\n"
     ]
    }
   ],
   "source": [
    "fclassifier = xgboost.XGBRFClassifier().fit(X_train, y_train)  # train using booster class\n",
    "predictions = fclassifier.predict(X_test)\n",
    "print(\"type: {0}\".format(type(fclassifier)))\n",
    "print(\"score: {0}\".format(fclassifier.score(X_test, y_test)))\n",
    "\n",
    "with open(\"algorithm.txt\", \"a+\") as f:\n",
    "    f.write(\"xgboost.sklearn.XGBRFClassifier\\n\")\n",
    "pickle.dump(fclassifier, open(\"{0}/binary_classification_compas_xgboost.sklearn.XGBRFClassifier.sav\".format(save_dir), \"wb+\"))"
   ]
  },
  {
   "cell_type": "markdown",
   "id": "f3b3ad24-2e90-49ef-a329-1c3f7258e236",
   "metadata": {},
   "source": [
    "## Multiclass Classification with reference to sklearn"
   ]
  },
  {
   "cell_type": "code",
   "execution_count": 13,
   "id": "a8b31ab9-7d3b-4acb-a28b-837aa9f733a6",
   "metadata": {
    "tags": []
   },
   "outputs": [
    {
     "name": "stdout",
     "output_type": "stream",
     "text": [
      "[0]\teval-mlogloss:1.01658\ttrain-mlogloss:1.01468\n",
      "[1]\teval-mlogloss:0.98784\ttrain-mlogloss:0.98607\n",
      "[2]\teval-mlogloss:0.97057\ttrain-mlogloss:0.96665\n",
      "[3]\teval-mlogloss:0.96594\ttrain-mlogloss:0.95502\n",
      "[4]\teval-mlogloss:0.95925\ttrain-mlogloss:0.94334\n",
      "[5]\teval-mlogloss:0.95362\ttrain-mlogloss:0.93342\n",
      "[6]\teval-mlogloss:0.95234\ttrain-mlogloss:0.92574\n",
      "[7]\teval-mlogloss:0.94932\ttrain-mlogloss:0.92016\n",
      "[8]\teval-mlogloss:0.94830\ttrain-mlogloss:0.91428\n",
      "[9]\teval-mlogloss:0.94736\ttrain-mlogloss:0.90989\n",
      "type: <class 'xgboost.core.Booster'>\n"
     ]
    }
   ],
   "source": [
    "loan_training = pickle.load(open(\"./data/pickle_pandas_tabular_loan_training.sav\", \"rb\")).sample(5000)\n",
    "loan_testing = pickle.load(open(\"./data/pickle_pandas_tabular_loan_testing.sav\", \"rb\")).sample(2000)\n",
    "\n",
    "multiclass_X_train = loan_training.drop(\"Interest_Rate\", axis=1)\n",
    "multiclass_y_train = loan_training[[\"Interest_Rate\"]]\n",
    "multiclass_X_test = loan_testing.drop(\"Interest_Rate\", axis=1)\n",
    "multiclass_y_test = loan_testing[[\"Interest_Rate\"]]\n",
    "\n",
    "param = {\n",
    "    \"max_depth\": 2,\n",
    "    \"eta\": 1,\n",
    "    \"objective\": \"multi:softmax\",\n",
    "    \"num_class\": 3\n",
    "}\n",
    "\n",
    "dtrain = xgboost.DMatrix(multiclass_X_train, multiclass_y_train)\n",
    "dtest = xgboost.DMatrix(multiclass_X_test, multiclass_y_test)\n",
    "\n",
    "watchlist = [(dtest, \"eval\"), (dtrain, \"train\")]\n",
    "bst = xgboost.train(param, dtrain, evals=watchlist) # train using booster class\n",
    "print(\"type: {0}\".format(type(bst)))\n",
    "\n",
    "with open(\"algorithm.txt\", \"a+\") as f:\n",
    "    f.write(\"xgboost.core.Booster\\n\")\n",
    "\n",
    "pickle.dump(bst, open(\"{0}/multiclass_classification_insurance_softmax_xgboost.core.Booster.sav\".format(save_dir), \"wb+\"))"
   ]
  },
  {
   "cell_type": "code",
   "execution_count": 14,
   "id": "5a9625fd-4b5a-4ca6-8ef1-5d6ffce295e8",
   "metadata": {
    "tags": []
   },
   "outputs": [
    {
     "name": "stdout",
     "output_type": "stream",
     "text": [
      "[0]\teval-mlogloss:1.01658\ttrain-mlogloss:1.01468\n",
      "[1]\teval-mlogloss:0.98784\ttrain-mlogloss:0.98607\n",
      "[2]\teval-mlogloss:0.97057\ttrain-mlogloss:0.96665\n",
      "[3]\teval-mlogloss:0.96594\ttrain-mlogloss:0.95502\n",
      "[4]\teval-mlogloss:0.95925\ttrain-mlogloss:0.94334\n",
      "[5]\teval-mlogloss:0.95362\ttrain-mlogloss:0.93342\n",
      "[6]\teval-mlogloss:0.95234\ttrain-mlogloss:0.92574\n",
      "[7]\teval-mlogloss:0.94932\ttrain-mlogloss:0.92016\n",
      "[8]\teval-mlogloss:0.94830\ttrain-mlogloss:0.91428\n",
      "[9]\teval-mlogloss:0.94736\ttrain-mlogloss:0.90989\n",
      "type: <class 'xgboost.core.Booster'>\n"
     ]
    }
   ],
   "source": [
    "param = {\n",
    "    \"max_depth\": 2,\n",
    "    \"eta\": 1,\n",
    "    \"objective\": \"multi:softprob\",\n",
    "    \"num_class\": 3\n",
    "}\n",
    "\n",
    "dtrain = xgboost.DMatrix(multiclass_X_train, multiclass_y_train)\n",
    "dtest = xgboost.DMatrix(multiclass_X_test, multiclass_y_test)\n",
    "\n",
    "watchlist = [(dtest, \"eval\"), (dtrain, \"train\")]\n",
    "bst = xgboost.train(param, dtrain, evals=watchlist) # train using booster class\n",
    "print(\"type: {0}\".format(type(bst)))\n",
    "\n",
    "with open(\"algorithm.txt\", \"a+\") as f:\n",
    "    f.write(\"xgboost.core.Booster\\n\")\n",
    "\n",
    "pickle.dump(bst, open(\"{0}/multiclass_classification_insurance_softprob_xgboost.core.Booster.sav\".format(save_dir), \"wb+\"))"
   ]
  },
  {
   "cell_type": "code",
   "execution_count": 15,
   "id": "e6aa6c96-cfe7-4463-8fc4-5a06049b5f94",
   "metadata": {
    "tags": []
   },
   "outputs": [
    {
     "name": "stdout",
     "output_type": "stream",
     "text": [
      "type: <class 'xgboost.sklearn.XGBClassifier'>\n",
      "score: 0.501\n"
     ]
    }
   ],
   "source": [
    "classifier = xgboost.XGBClassifier().fit(multiclass_X_train, multiclass_y_train)  # train using booster class\n",
    "predictions = classifier.predict(multiclass_X_test)\n",
    "print(\"type: {0}\".format(type(classifier)))\n",
    "print(\"score: {0}\".format(classifier.score(multiclass_X_test, multiclass_y_test)))\n",
    "\n",
    "with open(\"algorithm.txt\", \"a+\") as f:\n",
    "    f.write(\"xgboost.sklearn.XGBClassifier\\n\")\n",
    "pickle.dump(classifier, open(\"{0}/multiclass_classification_insurance_xgboost.sklearn.XGBClassifier.sav\".format(save_dir), \"wb+\"))"
   ]
  },
  {
   "cell_type": "code",
   "execution_count": 16,
   "id": "4b8eaf56-8fef-42b4-a7f0-2b0caf638fdf",
   "metadata": {
    "tags": []
   },
   "outputs": [
    {
     "name": "stdout",
     "output_type": "stream",
     "text": [
      "type: <class 'xgboost.sklearn.XGBRFClassifier'>\n",
      "score: 0.518\n"
     ]
    }
   ],
   "source": [
    "fclassifier = xgboost.XGBRFClassifier().fit(multiclass_X_train, multiclass_y_train)  # train using booster class\n",
    "predictions = fclassifier.predict(multiclass_X_test)\n",
    "print(\"type: {0}\".format(type(fclassifier)))\n",
    "print(\"score: {0}\".format(fclassifier.score(multiclass_X_test, multiclass_y_test)))\n",
    "\n",
    "with open(\"algorithm.txt\", \"a+\") as f:\n",
    "    f.write(\"xgboost.sklearn.XGBRFClassifier\\n\")\n",
    "pickle.dump(fclassifier, open(\"{0}/multiclass_classification_compas_xgboost.sklearn.XGBRFClassifier.sav\".format(save_dir), \"wb+\"))"
   ]
  },
  {
   "cell_type": "markdown",
   "id": "95bc270f-8951-4ce6-8933-4bca8c851e1f",
   "metadata": {
    "tags": []
   },
   "source": [
    "## Regressor with reference to sklearn"
   ]
  },
  {
   "cell_type": "code",
   "execution_count": 18,
   "id": "1a1e537d-b8f2-4bbd-9f01-8338c9ad137f",
   "metadata": {
    "tags": []
   },
   "outputs": [],
   "source": [
    "insurance_training = pickle.load(open(\"./data/pickle_pandas_tabular_insurance_training.sav\", \"rb\"))\n",
    "insurance_testing = pickle.load(open(\"./data/pickle_pandas_tabular_insurance_testing.sav\", \"rb\"))\n",
    "insurance_testing.describe()\n",
    "\n",
    "regression_X_train = insurance_training.drop(\"charges\", axis=1)\n",
    "regression_y_train = insurance_training[[\"charges\"]]\n",
    "regression_X_test = insurance_testing.drop(\"charges\", axis=1)\n",
    "regression_y_test = insurance_testing[[\"charges\"]]"
   ]
  },
  {
   "cell_type": "code",
   "execution_count": 20,
   "id": "bdd14df8-fafd-4fe3-b898-6b0798f95369",
   "metadata": {
    "tags": []
   },
   "outputs": [
    {
     "name": "stdout",
     "output_type": "stream",
     "text": [
      "[0]\teval-mae:8326.12205\ttrain-mae:8356.67071\n",
      "[1]\teval-mae:8325.44141\ttrain-mae:8355.92917\n",
      "[2]\teval-mae:8324.76047\ttrain-mae:8355.18728\n",
      "[3]\teval-mae:8324.07983\ttrain-mae:8354.44574\n",
      "[4]\teval-mae:8323.39890\ttrain-mae:8353.70386\n",
      "[5]\teval-mae:8322.71826\ttrain-mae:8352.96231\n",
      "[6]\teval-mae:8322.03732\ttrain-mae:8352.22043\n",
      "[7]\teval-mae:8321.35668\ttrain-mae:8351.47888\n",
      "[8]\teval-mae:8320.67575\ttrain-mae:8350.73700\n",
      "[9]\teval-mae:8319.99510\ttrain-mae:8349.99545\n",
      "type: <class 'xgboost.core.Booster'>\n"
     ]
    }
   ],
   "source": [
    "param = {\n",
    "    \"max_depth\": 2,\n",
    "    \"eta\": 1,\n",
    "    \"objective\": \"reg:absoluteerror\"\n",
    "}\n",
    "\n",
    "dtrain = xgboost.DMatrix(regression_X_train, regression_y_train)\n",
    "dtest = xgboost.DMatrix(regression_X_test, regression_y_test)\n",
    "\n",
    "watchlist = [(dtest, \"eval\"), (dtrain, \"train\")]\n",
    "bst = xgboost.train(param, dtrain, evals=watchlist) # train using booster class\n",
    "print(\"type: {0}\".format(type(bst)))\n",
    "\n",
    "pickle.dump(bst, open(\"{0}/regression_insurance_absoluteerror_xgboost.core.Booster.sav\".format(save_dir), \"wb+\"))"
   ]
  },
  {
   "cell_type": "code",
   "execution_count": 22,
   "id": "0a87b7ec-0173-461b-af1c-9e738b741778",
   "metadata": {
    "tags": []
   },
   "outputs": [
    {
     "name": "stdout",
     "output_type": "stream",
     "text": [
      "[0]\teval-rmse:5888.70176\ttrain-rmse:4831.93904\n",
      "[1]\teval-rmse:5728.07701\ttrain-rmse:4486.40488\n",
      "[2]\teval-rmse:5619.48775\ttrain-rmse:4356.84327\n",
      "[3]\teval-rmse:5468.14877\ttrain-rmse:4248.49912\n",
      "[4]\teval-rmse:5464.81089\ttrain-rmse:4183.63028\n",
      "[5]\teval-rmse:5372.62076\ttrain-rmse:4133.60689\n",
      "[6]\teval-rmse:5348.71832\ttrain-rmse:4114.79173\n",
      "[7]\teval-rmse:5288.35878\ttrain-rmse:4095.70893\n",
      "[8]\teval-rmse:5325.66886\ttrain-rmse:4071.27483\n",
      "[9]\teval-rmse:5314.62754\ttrain-rmse:4053.73999\n",
      "type: <class 'xgboost.core.Booster'>\n"
     ]
    }
   ],
   "source": [
    "param = {\n",
    "    \"max_depth\": 2,\n",
    "    \"eta\": 1,\n",
    "    \"objective\": \"reg:squarederror\"\n",
    "}\n",
    "\n",
    "dtrain = xgboost.DMatrix(regression_X_train, regression_y_train)\n",
    "dtest = xgboost.DMatrix(regression_X_test, regression_y_test)\n",
    "\n",
    "watchlist = [(dtest, \"eval\"), (dtrain, \"train\")]\n",
    "bst = xgboost.train(param, dtrain, evals=watchlist) # train using booster class\n",
    "print(\"type: {0}\".format(type(bst)))\n",
    "\n",
    "pickle.dump(bst, open(\"{0}/regression_insurance_squarederror_xgboost.core.Booster.sav\".format(save_dir), \"wb+\"))"
   ]
  },
  {
   "cell_type": "code",
   "execution_count": 23,
   "id": "dd1caee0-1f99-4262-a632-b1b444bb34e1",
   "metadata": {
    "tags": []
   },
   "outputs": [
    {
     "name": "stdout",
     "output_type": "stream",
     "text": [
      "[0]\teval-mphe:13166.37782\ttrain-mphe:13294.60636\n",
      "[1]\teval-mphe:13166.37782\ttrain-mphe:13294.60636\n",
      "[2]\teval-mphe:13166.37782\ttrain-mphe:13294.60636\n",
      "[3]\teval-mphe:13166.37782\ttrain-mphe:13294.60636\n",
      "[4]\teval-mphe:13166.37782\ttrain-mphe:13294.60636\n",
      "[5]\teval-mphe:13166.37782\ttrain-mphe:13294.60636\n",
      "[6]\teval-mphe:13166.37782\ttrain-mphe:13294.60636\n",
      "[7]\teval-mphe:13166.37782\ttrain-mphe:13294.60636\n",
      "[8]\teval-mphe:13166.37782\ttrain-mphe:13294.60636\n",
      "[9]\teval-mphe:13166.37782\ttrain-mphe:13294.60636\n",
      "type: <class 'xgboost.core.Booster'>\n"
     ]
    }
   ],
   "source": [
    "param = {\n",
    "    \"max_depth\": 2,\n",
    "    \"eta\": 1,\n",
    "    \"objective\": \"reg:pseudohubererror\"\n",
    "}\n",
    "\n",
    "dtrain = xgboost.DMatrix(regression_X_train, regression_y_train)\n",
    "dtest = xgboost.DMatrix(regression_X_test, regression_y_test)\n",
    "\n",
    "watchlist = [(dtest, \"eval\"), (dtrain, \"train\")]\n",
    "bst = xgboost.train(param, dtrain, evals=watchlist) # train using booster class\n",
    "print(\"type: {0}\".format(type(bst)))\n",
    "\n",
    "pickle.dump(bst, open(\"{0}/regression_insurance_pseudohubererror_xgboost.core.Booster.sav\".format(save_dir), \"wb+\"))"
   ]
  },
  {
   "cell_type": "code",
   "execution_count": 24,
   "id": "39dc7056-658c-49e7-91b9-38ce9bef55d5",
   "metadata": {
    "tags": []
   },
   "outputs": [
    {
     "name": "stdout",
     "output_type": "stream",
     "text": [
      "[0]\teval-gamma-nloglik:9689.05343\ttrain-gamma-nloglik:9783.40224\n",
      "[1]\teval-gamma-nloglik:3565.96291\ttrain-gamma-nloglik:3600.67547\n",
      "[2]\teval-gamma-nloglik:1314.03492\ttrain-gamma-nloglik:1326.80851\n",
      "[3]\teval-gamma-nloglik:486.22844\ttrain-gamma-nloglik:490.93113\n",
      "[4]\teval-gamma-nloglik:182.32602\ttrain-gamma-nloglik:184.05960\n",
      "[5]\teval-gamma-nloglik:71.18666\ttrain-gamma-nloglik:71.79382\n",
      "[6]\teval-gamma-nloglik:30.91453\ttrain-gamma-nloglik:31.10788\n",
      "[7]\teval-gamma-nloglik:16.67969\ttrain-gamma-nloglik:16.72585\n",
      "[8]\teval-gamma-nloglik:11.95898\ttrain-gamma-nloglik:11.95158\n",
      "[9]\teval-gamma-nloglik:10.59402\ttrain-gamma-nloglik:10.57332\n",
      "type: <class 'xgboost.core.Booster'>\n"
     ]
    }
   ],
   "source": [
    "param = {\n",
    "    \"max_depth\": 2,\n",
    "    \"eta\": 1,\n",
    "    \"objective\": \"reg:gamma\"\n",
    "}\n",
    "\n",
    "dtrain = xgboost.DMatrix(regression_X_train, regression_y_train)\n",
    "dtest = xgboost.DMatrix(regression_X_test, regression_y_test)\n",
    "\n",
    "watchlist = [(dtest, \"eval\"), (dtrain, \"train\")]\n",
    "bst = xgboost.train(param, dtrain, evals=watchlist) # train using booster class\n",
    "print(\"type: {0}\".format(type(bst)))\n",
    "\n",
    "pickle.dump(bst, open(\"{0}/regression_insurance__xgboost.core.Booster.sav\".format(save_dir), \"wb+\"))"
   ]
  },
  {
   "cell_type": "code",
   "execution_count": 25,
   "id": "3bcf47d2-de61-4524-98a6-e9be8783302a",
   "metadata": {
    "tags": []
   },
   "outputs": [
    {
     "name": "stdout",
     "output_type": "stream",
     "text": [
      "type: <class 'xgboost.sklearn.XGBRegressor'>\n",
      "score: 0.7735655792746694\n"
     ]
    }
   ],
   "source": [
    "regressor = xgboost.XGBRegressor().fit(regression_X_train, regression_y_train)  # train using booster class\n",
    "predictions = regressor.predict(regression_X_test)\n",
    "print(\"type: {0}\".format(type(regressor)))\n",
    "print(\"score: {0}\".format(regressor.score(regression_X_test, regression_y_test)))\n",
    "\n",
    "with open(\"algorithm.txt\", \"a+\") as f:\n",
    "    f.write(\"xgboost.sklearn.XGBRegressor\\n\")\n",
    "pickle.dump(regressor, open(\"{0}/regression_insurance_xgboost.sklearn.XGBRegressor.sav\".format(save_dir), \"wb+\"))"
   ]
  },
  {
   "cell_type": "code",
   "execution_count": 26,
   "id": "c4ecdd46-e42c-4282-ab8d-e8fb120619a2",
   "metadata": {
    "tags": []
   },
   "outputs": [
    {
     "name": "stdout",
     "output_type": "stream",
     "text": [
      "type: <class 'xgboost.sklearn.XGBRFRegressor'>\n",
      "score: 0.8109099634953153\n"
     ]
    }
   ],
   "source": [
    "regressor = xgboost.XGBRFRegressor().fit(regression_X_train, regression_y_train)  # train using booster class\n",
    "predictions = regressor.predict(regression_X_test)\n",
    "print(\"type: {0}\".format(type(regressor)))\n",
    "print(\"score: {0}\".format(regressor.score(regression_X_test, regression_y_test)))\n",
    "\n",
    "with open(\"algorithm.txt\", \"a+\") as f:\n",
    "    f.write(\"xgboost.sklearn.XGBRFRegressor\\n\")\n",
    "pickle.dump(regressor, open(\"{0}/regression_insurance_xgboost.sklearn.XGBRFRegressor.sav\".format(save_dir), \"wb+\"))"
   ]
  }
 ],
 "metadata": {
  "kernelspec": {
   "display_name": "Python 3 (ipykernel)",
   "language": "python",
   "name": "python3"
  },
  "language_info": {
   "codemirror_mode": {
    "name": "ipython",
    "version": 3
   },
   "file_extension": ".py",
   "mimetype": "text/x-python",
   "name": "python",
   "nbconvert_exporter": "python",
   "pygments_lexer": "ipython3",
   "version": "3.10.10"
  }
 },
 "nbformat": 4,
 "nbformat_minor": 5
}
