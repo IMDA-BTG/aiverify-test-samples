{
 "cells": [
  {
   "cell_type": "code",
   "execution_count": 1,
   "id": "12a7a8d9-bf64-4ef8-afea-13c9a5b25831",
   "metadata": {
    "tags": []
   },
   "outputs": [
    {
     "ename": "FileExistsError",
     "evalue": "[Errno 17] File exists: './models/sklearnpipeline/1.2.2'",
     "output_type": "error",
     "traceback": [
      "\u001b[0;31m---------------------------------------------------------------------------\u001b[0m",
      "\u001b[0;31mFileExistsError\u001b[0m                           Traceback (most recent call last)",
      "Cell \u001b[0;32mIn[1], line 20\u001b[0m\n\u001b[1;32m     17\u001b[0m \u001b[38;5;28;01mfrom\u001b[39;00m \u001b[38;5;21;01msklearn\u001b[39;00m\u001b[38;5;21;01m.\u001b[39;00m\u001b[38;5;21;01mpreprocessing\u001b[39;00m \u001b[38;5;28;01mimport\u001b[39;00m LabelEncoder\n\u001b[1;32m     19\u001b[0m save_dir \u001b[38;5;241m=\u001b[39m \u001b[38;5;124m\"\u001b[39m\u001b[38;5;124m./models/sklearnpipeline/\u001b[39m\u001b[38;5;132;01m{0}\u001b[39;00m\u001b[38;5;124m\"\u001b[39m\u001b[38;5;241m.\u001b[39mformat(sklearn\u001b[38;5;241m.\u001b[39m__version__)\n\u001b[0;32m---> 20\u001b[0m \u001b[43mos\u001b[49m\u001b[38;5;241;43m.\u001b[39;49m\u001b[43mmkdir\u001b[49m\u001b[43m(\u001b[49m\u001b[43msave_dir\u001b[49m\u001b[43m)\u001b[49m\n",
      "\u001b[0;31mFileExistsError\u001b[0m: [Errno 17] File exists: './models/sklearnpipeline/1.2.2'"
     ]
    }
   ],
   "source": [
    "import sklearn\n",
    "import xgboost\n",
    "import pkgutil\n",
    "import os\n",
    "import pickle\n",
    "import pandas as pd\n",
    "import importlib, inspect\n",
    "import warnings\n",
    "warnings.filterwarnings(\"ignore\")\n",
    "from sklearn.preprocessing import StandardScaler\n",
    "from sklearn.ensemble import RandomForestClassifier\n",
    "from sklearn.linear_model import LinearRegression, LogisticRegression\n",
    "from sklearn.pipeline import make_pipeline\n",
    "from sklearn.svm import LinearSVC\n",
    "from sklearn.pipeline import Pipeline\n",
    "from sklearn.model_selection import train_test_split\n",
    "from sklearn.preprocessing import LabelEncoder\n",
    "\n",
    "save_dir = \"./models/sklearnpipeline/{0}\".format(sklearn.__version__)\n",
    "os.mkdir(save_dir)"
   ]
  },
  {
   "cell_type": "markdown",
   "id": "43e7a41d-2724-4353-bd09-6472d0986f27",
   "metadata": {},
   "source": [
    "# Generate Pipeline Sample for Rocket"
   ]
  },
  {
   "cell_type": "markdown",
   "id": "17a0fece-b426-45cd-b3eb-f36fa24fb2fa",
   "metadata": {
    "tags": []
   },
   "source": [
    "## Binary Classification"
   ]
  },
  {
   "cell_type": "code",
   "execution_count": 2,
   "id": "091875b6-b781-4864-b23d-04e6c7ddfe33",
   "metadata": {
    "tags": []
   },
   "outputs": [
    {
     "name": "stdout",
     "output_type": "stream",
     "text": [
      "Training Set Samples: 5771\n",
      "Test Set Samples: 1443\n"
     ]
    }
   ],
   "source": [
    "url = 'https://raw.githubusercontent.com/propublica/compas-analysis/master/compas-scores-two-years.csv'\n",
    "df = pd.read_csv(url)\n",
    "df.head(1)\n",
    "X = df.drop(\"two_year_recid\", axis=1) \n",
    "y = df[[\"two_year_recid\"]] # two_year_recid is the ground truth\n",
    "X_train, X_test, y_train, y_test = train_test_split(X, y, test_size=0.2) # split and combine later so we can use sklearn's module\n",
    "print(\"Training Set Samples: {0}\".format(len(X_train)))\n",
    "print(\"Test Set Samples: {0}\".format(len(X_test)))"
   ]
  },
  {
   "cell_type": "code",
   "execution_count": 3,
   "id": "fbdca973-635c-4ef8-b058-05ca31d0322d",
   "metadata": {
    "tags": []
   },
   "outputs": [],
   "source": [
    "class featureEngineeringStage():\n",
    "    def __init__(self, columns, selection):\n",
    "        self.columns = columns\n",
    "        self.selection = selection\n",
    "    \n",
    "    def transform(self, X, y=None):\n",
    "        \"\"\"Transform columns of X using LabelEncoder.\n",
    "        \"\"\"\n",
    "        output = X.copy()\n",
    "        for col in self.columns:\n",
    "            output[col] = LabelEncoder().fit_transform(output[col])\n",
    "        return output[selection]\n",
    "    \n",
    "    def fit(self, X, y=None):\n",
    "        return self"
   ]
  },
  {
   "cell_type": "code",
   "execution_count": 4,
   "id": "8b577997-d28b-4c61-a93c-e5880ab672ba",
   "metadata": {
    "tags": []
   },
   "outputs": [],
   "source": [
    "# these things are input by data scientist during TRAINING stage.\n",
    "selection = [\"age\", \"sex\", \"race\", \"priors_count\", \"c_charge_degree\"]\n",
    "transform = [\"race\", \"sex\", \"age\", \"c_charge_degree\"]\n",
    "pipe = Pipeline([\n",
    "    ('feature_engineering', featureEngineeringStage(columns=transform, selection=selection)),\n",
    "    ('model', LogisticRegression())\n",
    "])\n",
    "\n",
    "# Train our pipeline\n",
    "pipe.fit(X, y)\n",
    "\n",
    "# dump the test dataset for the pipeline\n",
    "pickle.dump(X_test, open(\"./data/pickle_pandas_tabular_compas_pipeline_testing.sav\".format(save_dir), \"wb+\"))\n",
    "\n",
    "# dump the pipeline for this model prediction\n",
    "pickle.dump(pipe, open(\"{0}/binary_classification_compas/binary_classification_compas_sklearn.pipeline.Pipeline.sav\".format(save_dir), \"wb+\"))\n",
    "\n",
    "\n",
    "# dump the ytest for this model prediction\n",
    "pickle.dump(y_test, open(\"./data/pickle_pandas_tabular_compas_pipeline_ytest.sav\".format(save_dir), \"wb+\"))"
   ]
  },
  {
   "cell_type": "code",
   "execution_count": 10,
   "id": "494ae4f6-f08c-4b19-9eb6-de5980f9d2a8",
   "metadata": {
    "tags": []
   },
   "outputs": [
    {
     "data": {
      "text/plain": [
       "array([0, 0, 0, ..., 0, 1, 0])"
      ]
     },
     "execution_count": 10,
     "metadata": {},
     "output_type": "execute_result"
    }
   ],
   "source": [
    "pipe = pickle.load(open(\"{0}/classification/binary_classification_compas_sklearn.pipeline.Pipeline.sav\".format(save_dir), \"rb\"))\n",
    "pipe.predict(X_test)"
   ]
  },
  {
   "cell_type": "markdown",
   "id": "bfa2c78b-a76f-415a-896b-a478d6aec6ba",
   "metadata": {},
   "source": [
    "## Multiclass Classification"
   ]
  },
  {
   "cell_type": "code",
   "execution_count": 5,
   "id": "185439ef-4d5e-4717-8f52-9d356a8452bf",
   "metadata": {},
   "outputs": [],
   "source": [
    "training_data = pd.read_csv('./data/raw/train_loan.csv')\n",
    "training_data_X = training_data.drop(\"Interest_Rate\", axis=1)"
   ]
  },
  {
   "cell_type": "code",
   "execution_count": 6,
   "id": "505e2053-a31c-4893-be5f-6f82405673c7",
   "metadata": {},
   "outputs": [],
   "source": [
    "from sklearn.preprocessing import  LabelEncoder\n",
    "\n",
    "class dataProcessingStage():\n",
    "    def __init__(self):\n",
    "        return None\n",
    "    def labelencoding(self, df, columnname):\n",
    "        le = LabelEncoder()\n",
    "        df[columnname] = le.fit_transform(df[columnname])\n",
    "        return df\n",
    "    \n",
    "    def transform(self, X):\n",
    "        \"\"\"Convert columns into dataframe for model input\n",
    "        \"\"\"\n",
    "        df = X.copy()\n",
    "        #df.drop(self._ground_truth_label, axis=1)\n",
    "        df = df.drop(\"Loan_ID\", axis=1)\n",
    "\n",
    "        df[\"Loan_Amount_Requested\"]=df[\"Loan_Amount_Requested\"].str.replace(',','')\n",
    "        df[\"Loan_Amount_Requested\"] = df[\"Loan_Amount_Requested\"].astype(int)\n",
    "\n",
    "        df = self.labelencoding(df, \"Length_Employed\")\n",
    "        df = self.labelencoding(df ,\"Home_Owner\")\n",
    "        df = self.labelencoding(df, \"Income_Verified\")\n",
    "        df = self.labelencoding(df, \"Purpose_Of_Loan\")\n",
    "        df = self.labelencoding(df, \"Gender\")\n",
    "\n",
    "        df = df.fillna(0)\n",
    "        return df\n",
    "    def fit(self, X, y=None):\n",
    "        return self\n",
    "\n",
    "def labelencoding2(df, columnname):\n",
    "    le = LabelEncoder()\n",
    "    df[columnname] = le.fit_transform(df[columnname])\n",
    "    return df"
   ]
  },
  {
   "cell_type": "code",
   "execution_count": 7,
   "id": "124506c3-813c-4772-af33-d4a8b2bb74b3",
   "metadata": {},
   "outputs": [],
   "source": [
    "y = training_data[[\"Interest_Rate\"]]\n",
    "y = labelencoding2(y, \"Interest_Rate\")\n",
    "\n",
    "pipe = Pipeline([\n",
    "    ('feature_engineering', dataProcessingStage()),\n",
    "    ('model', LogisticRegression())\n",
    "])\n",
    "\n",
    "pipe.fit(training_data_X, y)"
   ]
  },
  {
   "cell_type": "code",
   "execution_count": 15,
   "id": "a88cf8dc-b4be-41d0-ac51-f250934afca4",
   "metadata": {},
   "outputs": [
    {
     "name": "stdout",
     "output_type": "stream",
     "text": [
      "[1 2 1 ... 1 1 1]\n"
     ]
    }
   ],
   "source": [
    "test_data = pd.read_csv('./data/raw/test_loan.csv')\n",
    "#Merging test data provided with synthetic ground truth\n",
    "final_test_data = pd.concat((test_data,training_data[\"Interest_Rate\"][:109541]), axis = 1)\n",
    "final_test_data\n",
    "preds = pipe.predict(final_test_data.drop(\"Interest_Rate\",axis=1))\n",
    "print(preds)"
   ]
  },
  {
   "cell_type": "code",
   "execution_count": 18,
   "id": "d3c4dcba-392e-4dae-92e5-30282ed4e861",
   "metadata": {},
   "outputs": [],
   "source": [
    "pickle.dump(final_test_data, open(\"./data/pickle_pandas_tabular_loan_pipeline_testing.sav\", \"wb+\"))\n",
    "pickle.dump(final_test_data[[\"Interest_Rate\"]], open(\"./data/pickle_pandas_tabular_loan_pipeline_testing_ytest.sav\", \"wb+\"))\n",
    "\n",
    "pickle.dump(pipe, open(\"{0}/multiclass_classification_loan/multiclass_classification_loan_sklearn.pipeline.Pipeline.sav\".format(save_dir), \"wb+\"))"
   ]
  },
  {
   "cell_type": "markdown",
   "id": "6abaad1d-fe3e-4f2b-86ec-50b40b21966c",
   "metadata": {},
   "source": [
    "## Regression"
   ]
  },
  {
   "cell_type": "code",
   "execution_count": 16,
   "id": "4dde6283-bcbc-4fcc-9baa-fedcb5ea72a8",
   "metadata": {
    "tags": []
   },
   "outputs": [
    {
     "name": "stdout",
     "output_type": "stream",
     "text": [
      "Training Set Samples: 1070\n",
      "Test Set Samples: 268\n"
     ]
    },
    {
     "data": {
      "text/plain": [
       "False"
      ]
     },
     "execution_count": 16,
     "metadata": {},
     "output_type": "execute_result"
    }
   ],
   "source": [
    "from sklearn.metrics import mean_absolute_error, mean_squared_error, r2_score\n",
    "\n",
    "df = pd.read_csv(\"./data/raw/insurance.csv\")\n",
    "df.head(1)\n",
    "\n",
    "X = df.drop(\"expenses\", axis=1) \n",
    "y = df[[\"expenses\"]] # two_year_recid is the ground truth\n",
    "X_train, X_test, y_train, y_test = train_test_split(X, y, test_size=0.2) # split and combine later so we can use sklearn's module\n",
    "print(\"Training Set Samples: {0}\".format(len(X_train)))\n",
    "print(\"Test Set Samples: {0}\".format(len(X_test)))\n",
    "df.isnull().values.any()"
   ]
  },
  {
   "cell_type": "code",
   "execution_count": 25,
   "id": "cc1432cb-b358-4811-8208-b690d3c3c475",
   "metadata": {
    "tags": []
   },
   "outputs": [
    {
     "data": {
      "text/html": [
       "<div>\n",
       "<style scoped>\n",
       "    .dataframe tbody tr th:only-of-type {\n",
       "        vertical-align: middle;\n",
       "    }\n",
       "\n",
       "    .dataframe tbody tr th {\n",
       "        vertical-align: top;\n",
       "    }\n",
       "\n",
       "    .dataframe thead th {\n",
       "        text-align: right;\n",
       "    }\n",
       "</style>\n",
       "<table border=\"1\" class=\"dataframe\">\n",
       "  <thead>\n",
       "    <tr style=\"text-align: right;\">\n",
       "      <th></th>\n",
       "      <th>age</th>\n",
       "      <th>sex</th>\n",
       "      <th>bmi</th>\n",
       "      <th>children</th>\n",
       "      <th>smoker</th>\n",
       "      <th>region</th>\n",
       "      <th>expenses</th>\n",
       "    </tr>\n",
       "  </thead>\n",
       "  <tbody>\n",
       "    <tr>\n",
       "      <th>0</th>\n",
       "      <td>19</td>\n",
       "      <td>female</td>\n",
       "      <td>27.9</td>\n",
       "      <td>0</td>\n",
       "      <td>yes</td>\n",
       "      <td>southwest</td>\n",
       "      <td>16884.92</td>\n",
       "    </tr>\n",
       "    <tr>\n",
       "      <th>1</th>\n",
       "      <td>18</td>\n",
       "      <td>male</td>\n",
       "      <td>33.8</td>\n",
       "      <td>1</td>\n",
       "      <td>no</td>\n",
       "      <td>southeast</td>\n",
       "      <td>1725.55</td>\n",
       "    </tr>\n",
       "    <tr>\n",
       "      <th>2</th>\n",
       "      <td>28</td>\n",
       "      <td>male</td>\n",
       "      <td>33.0</td>\n",
       "      <td>3</td>\n",
       "      <td>no</td>\n",
       "      <td>southeast</td>\n",
       "      <td>4449.46</td>\n",
       "    </tr>\n",
       "    <tr>\n",
       "      <th>3</th>\n",
       "      <td>33</td>\n",
       "      <td>male</td>\n",
       "      <td>22.7</td>\n",
       "      <td>0</td>\n",
       "      <td>no</td>\n",
       "      <td>northwest</td>\n",
       "      <td>21984.47</td>\n",
       "    </tr>\n",
       "    <tr>\n",
       "      <th>4</th>\n",
       "      <td>32</td>\n",
       "      <td>male</td>\n",
       "      <td>28.9</td>\n",
       "      <td>0</td>\n",
       "      <td>no</td>\n",
       "      <td>northwest</td>\n",
       "      <td>3866.86</td>\n",
       "    </tr>\n",
       "    <tr>\n",
       "      <th>...</th>\n",
       "      <td>...</td>\n",
       "      <td>...</td>\n",
       "      <td>...</td>\n",
       "      <td>...</td>\n",
       "      <td>...</td>\n",
       "      <td>...</td>\n",
       "      <td>...</td>\n",
       "    </tr>\n",
       "    <tr>\n",
       "      <th>1333</th>\n",
       "      <td>50</td>\n",
       "      <td>male</td>\n",
       "      <td>31.0</td>\n",
       "      <td>3</td>\n",
       "      <td>no</td>\n",
       "      <td>northwest</td>\n",
       "      <td>10600.55</td>\n",
       "    </tr>\n",
       "    <tr>\n",
       "      <th>1334</th>\n",
       "      <td>18</td>\n",
       "      <td>female</td>\n",
       "      <td>31.9</td>\n",
       "      <td>0</td>\n",
       "      <td>no</td>\n",
       "      <td>northeast</td>\n",
       "      <td>2205.98</td>\n",
       "    </tr>\n",
       "    <tr>\n",
       "      <th>1335</th>\n",
       "      <td>18</td>\n",
       "      <td>female</td>\n",
       "      <td>36.9</td>\n",
       "      <td>0</td>\n",
       "      <td>no</td>\n",
       "      <td>southeast</td>\n",
       "      <td>1629.83</td>\n",
       "    </tr>\n",
       "    <tr>\n",
       "      <th>1336</th>\n",
       "      <td>21</td>\n",
       "      <td>female</td>\n",
       "      <td>25.8</td>\n",
       "      <td>0</td>\n",
       "      <td>no</td>\n",
       "      <td>southwest</td>\n",
       "      <td>2007.95</td>\n",
       "    </tr>\n",
       "    <tr>\n",
       "      <th>1337</th>\n",
       "      <td>61</td>\n",
       "      <td>female</td>\n",
       "      <td>29.1</td>\n",
       "      <td>0</td>\n",
       "      <td>yes</td>\n",
       "      <td>northwest</td>\n",
       "      <td>29141.36</td>\n",
       "    </tr>\n",
       "  </tbody>\n",
       "</table>\n",
       "<p>1338 rows × 7 columns</p>\n",
       "</div>"
      ],
      "text/plain": [
       "      age     sex   bmi  children smoker     region  expenses\n",
       "0      19  female  27.9         0    yes  southwest  16884.92\n",
       "1      18    male  33.8         1     no  southeast   1725.55\n",
       "2      28    male  33.0         3     no  southeast   4449.46\n",
       "3      33    male  22.7         0     no  northwest  21984.47\n",
       "4      32    male  28.9         0     no  northwest   3866.86\n",
       "...   ...     ...   ...       ...    ...        ...       ...\n",
       "1333   50    male  31.0         3     no  northwest  10600.55\n",
       "1334   18  female  31.9         0     no  northeast   2205.98\n",
       "1335   18  female  36.9         0     no  southeast   1629.83\n",
       "1336   21  female  25.8         0     no  southwest   2007.95\n",
       "1337   61  female  29.1         0    yes  northwest  29141.36\n",
       "\n",
       "[1338 rows x 7 columns]"
      ]
     },
     "execution_count": 25,
     "metadata": {},
     "output_type": "execute_result"
    }
   ],
   "source": [
    "df"
   ]
  },
  {
   "cell_type": "code",
   "execution_count": 26,
   "id": "0ab445dd-49da-40fe-ac42-02970938d1b8",
   "metadata": {
    "tags": []
   },
   "outputs": [
    {
     "data": {
      "text/html": [
       "<div>\n",
       "<style scoped>\n",
       "    .dataframe tbody tr th:only-of-type {\n",
       "        vertical-align: middle;\n",
       "    }\n",
       "\n",
       "    .dataframe tbody tr th {\n",
       "        vertical-align: top;\n",
       "    }\n",
       "\n",
       "    .dataframe thead th {\n",
       "        text-align: right;\n",
       "    }\n",
       "</style>\n",
       "<table border=\"1\" class=\"dataframe\">\n",
       "  <thead>\n",
       "    <tr style=\"text-align: right;\">\n",
       "      <th></th>\n",
       "      <th>expenses</th>\n",
       "    </tr>\n",
       "  </thead>\n",
       "  <tbody>\n",
       "    <tr>\n",
       "      <th>714</th>\n",
       "      <td>2457.50</td>\n",
       "    </tr>\n",
       "    <tr>\n",
       "      <th>1263</th>\n",
       "      <td>7337.75</td>\n",
       "    </tr>\n",
       "    <tr>\n",
       "      <th>604</th>\n",
       "      <td>17468.98</td>\n",
       "    </tr>\n",
       "    <tr>\n",
       "      <th>334</th>\n",
       "      <td>19144.58</td>\n",
       "    </tr>\n",
       "    <tr>\n",
       "      <th>1330</th>\n",
       "      <td>12629.17</td>\n",
       "    </tr>\n",
       "    <tr>\n",
       "      <th>...</th>\n",
       "      <td>...</td>\n",
       "    </tr>\n",
       "    <tr>\n",
       "      <th>1202</th>\n",
       "      <td>2055.32</td>\n",
       "    </tr>\n",
       "    <tr>\n",
       "      <th>253</th>\n",
       "      <td>4260.74</td>\n",
       "    </tr>\n",
       "    <tr>\n",
       "      <th>411</th>\n",
       "      <td>19594.81</td>\n",
       "    </tr>\n",
       "    <tr>\n",
       "      <th>1265</th>\n",
       "      <td>26926.51</td>\n",
       "    </tr>\n",
       "    <tr>\n",
       "      <th>1014</th>\n",
       "      <td>5383.54</td>\n",
       "    </tr>\n",
       "  </tbody>\n",
       "</table>\n",
       "<p>268 rows × 1 columns</p>\n",
       "</div>"
      ],
      "text/plain": [
       "      expenses\n",
       "714    2457.50\n",
       "1263   7337.75\n",
       "604   17468.98\n",
       "334   19144.58\n",
       "1330  12629.17\n",
       "...        ...\n",
       "1202   2055.32\n",
       "253    4260.74\n",
       "411   19594.81\n",
       "1265  26926.51\n",
       "1014   5383.54\n",
       "\n",
       "[268 rows x 1 columns]"
      ]
     },
     "execution_count": 26,
     "metadata": {},
     "output_type": "execute_result"
    }
   ],
   "source": [
    "y_test"
   ]
  },
  {
   "cell_type": "code",
   "execution_count": 12,
   "id": "1f0b87ad-d233-41bb-9fde-7a636519e6d1",
   "metadata": {
    "tags": []
   },
   "outputs": [],
   "source": [
    "class featureEngineeringStage():\n",
    "    def __init__(self, columns, selection):\n",
    "        self.columns = columns\n",
    "        self.selection = selection\n",
    "    \n",
    "    def transform(self, X, y=None):\n",
    "        \"\"\"Transform columns of X using LabelEncoder.\n",
    "        \"\"\"\n",
    "        output = X.copy()\n",
    "        for col in self.columns:\n",
    "            output[col] = LabelEncoder().fit_transform(output[col])\n",
    "        return output[self.selection]\n",
    "    \n",
    "    def fit(self, X, y=None):\n",
    "        return self"
   ]
  },
  {
   "cell_type": "code",
   "execution_count": 13,
   "id": "cc81ae1b-ff64-4537-a48a-30d0c4c63e77",
   "metadata": {
    "tags": []
   },
   "outputs": [],
   "source": [
    "# these things are input by data scientist during TRAINING stage.\n",
    "selection = [\"age\", \"sex\", \"bmi\", \"children\", \"smoker\", \"region\"]\n",
    "transform = [\"sex\", \"smoker\", \"region\"]\n",
    "pipe = Pipeline([\n",
    "    ('feature_engineering', featureEngineeringStage(columns=transform, selection=selection)),\n",
    "    ('model', LinearRegression())\n",
    "])\n",
    "\n",
    "# Train our pipeline\n",
    "pipe.fit(X, y)\n",
    "predictions = pipe.predict(X_test)"
   ]
  },
  {
   "cell_type": "code",
   "execution_count": 22,
   "id": "30ad1094-b048-413f-85af-12a49c65a3e6",
   "metadata": {
    "tags": []
   },
   "outputs": [
    {
     "data": {
      "text/html": [
       "<div>\n",
       "<style scoped>\n",
       "    .dataframe tbody tr th:only-of-type {\n",
       "        vertical-align: middle;\n",
       "    }\n",
       "\n",
       "    .dataframe tbody tr th {\n",
       "        vertical-align: top;\n",
       "    }\n",
       "\n",
       "    .dataframe thead th {\n",
       "        text-align: right;\n",
       "    }\n",
       "</style>\n",
       "<table border=\"1\" class=\"dataframe\">\n",
       "  <thead>\n",
       "    <tr style=\"text-align: right;\">\n",
       "      <th></th>\n",
       "      <th>sex</th>\n",
       "      <th>mae</th>\n",
       "    </tr>\n",
       "  </thead>\n",
       "  <tbody>\n",
       "    <tr>\n",
       "      <th>0</th>\n",
       "      <td>female</td>\n",
       "      <td>11057.823528</td>\n",
       "    </tr>\n",
       "    <tr>\n",
       "      <th>1</th>\n",
       "      <td>male</td>\n",
       "      <td>12685.486683</td>\n",
       "    </tr>\n",
       "  </tbody>\n",
       "</table>\n",
       "</div>"
      ],
      "text/plain": [
       "      sex           mae\n",
       "0  female  11057.823528\n",
       "1    male  12685.486683"
      ]
     },
     "execution_count": 22,
     "metadata": {},
     "output_type": "execute_result"
    }
   ],
   "source": [
    "def _compute_error_by_group(group, ground_truth, pred_name):\n",
    "        \"\"\"\n",
    "        This method computes error rates based on each groups.\n",
    "\n",
    "        Args:\n",
    "            group (pd.DataFrame):\n",
    "            ground_truth (str): Name of ground truth header\n",
    "            pred_name (str):\n",
    "\n",
    "        Returns:\n",
    "            pd.Series:\n",
    "        \"\"\"\n",
    "\n",
    "        mae = mean_absolute_error(group[ground_truth], group[pred_name])\n",
    "        return pd.Series(dict(mae=mae))\n",
    "\n",
    "X_test[\"pred\"] = predictions\n",
    "X_test[\"charges\"] = y_test\n",
    "\n",
    "X_test.groupby(\"sex\").apply(\n",
    "    _compute_error_by_group,\n",
    "    ground_truth=\"charges\",\n",
    "    pred_name=\"pred\").reset_index()"
   ]
  },
  {
   "cell_type": "code",
   "execution_count": 56,
   "id": "0b62a869-ff26-4aa2-995f-544ded6f2faa",
   "metadata": {
    "tags": []
   },
   "outputs": [],
   "source": [
    "# dump the test dataset for the pipeline\n",
    "pickle.dump(X_test, open(\"./data/pickle_pandas_tabular_insurance_pipeline_testing.sav\".format(save_dir), \"wb+\"))\n",
    "\n",
    "# dump the pipeline for this model prediction\n",
    "pickle.dump(pipe, open(\"{0}/regression_insurance/regression_insurance_sklearn.pipeline.Pipeline.sav\".format(save_dir), \"wb+\"))\n",
    "\n",
    "# dump the ground truth for this model\n",
    "y_test[\"charges\"] = y_test[\"expenses\"] \n",
    "y_test = y_test.drop(\"expenses\", axis=1)\n",
    "\n",
    "# dump the pipeline for this model prediction\n",
    "pickle.dump(y_test, open(\"./data/pickle_pandas_tabular_insurance_pipeline_ytest.sav\".format(save_dir), \"wb+\"))"
   ]
  },
  {
   "cell_type": "code",
   "execution_count": 30,
   "id": "705bccd4-d702-45df-9c3e-377c6e400f6b",
   "metadata": {
    "tags": []
   },
   "outputs": [
    {
     "data": {
      "text/html": [
       "<div>\n",
       "<style scoped>\n",
       "    .dataframe tbody tr th:only-of-type {\n",
       "        vertical-align: middle;\n",
       "    }\n",
       "\n",
       "    .dataframe tbody tr th {\n",
       "        vertical-align: top;\n",
       "    }\n",
       "\n",
       "    .dataframe thead th {\n",
       "        text-align: right;\n",
       "    }\n",
       "</style>\n",
       "<table border=\"1\" class=\"dataframe\">\n",
       "  <thead>\n",
       "    <tr style=\"text-align: right;\">\n",
       "      <th></th>\n",
       "      <th>charges</th>\n",
       "    </tr>\n",
       "  </thead>\n",
       "  <tbody>\n",
       "    <tr>\n",
       "      <th>445</th>\n",
       "      <td>7345.08</td>\n",
       "    </tr>\n",
       "    <tr>\n",
       "      <th>901</th>\n",
       "      <td>48673.56</td>\n",
       "    </tr>\n",
       "    <tr>\n",
       "      <th>408</th>\n",
       "      <td>6652.53</td>\n",
       "    </tr>\n",
       "    <tr>\n",
       "      <th>928</th>\n",
       "      <td>13470.80</td>\n",
       "    </tr>\n",
       "    <tr>\n",
       "      <th>290</th>\n",
       "      <td>3172.02</td>\n",
       "    </tr>\n",
       "    <tr>\n",
       "      <th>...</th>\n",
       "      <td>...</td>\n",
       "    </tr>\n",
       "    <tr>\n",
       "      <th>217</th>\n",
       "      <td>2483.74</td>\n",
       "    </tr>\n",
       "    <tr>\n",
       "      <th>546</th>\n",
       "      <td>3268.85</td>\n",
       "    </tr>\n",
       "    <tr>\n",
       "      <th>104</th>\n",
       "      <td>5003.85</td>\n",
       "    </tr>\n",
       "    <tr>\n",
       "      <th>1275</th>\n",
       "      <td>10959.33</td>\n",
       "    </tr>\n",
       "    <tr>\n",
       "      <th>737</th>\n",
       "      <td>3484.33</td>\n",
       "    </tr>\n",
       "  </tbody>\n",
       "</table>\n",
       "<p>268 rows × 1 columns</p>\n",
       "</div>"
      ],
      "text/plain": [
       "       charges\n",
       "445    7345.08\n",
       "901   48673.56\n",
       "408    6652.53\n",
       "928   13470.80\n",
       "290    3172.02\n",
       "...        ...\n",
       "217    2483.74\n",
       "546    3268.85\n",
       "104    5003.85\n",
       "1275  10959.33\n",
       "737    3484.33\n",
       "\n",
       "[268 rows x 1 columns]"
      ]
     },
     "execution_count": 30,
     "metadata": {},
     "output_type": "execute_result"
    }
   ],
   "source": [
    "data2 = pickle.load(open(\"./data/pickle_pandas_tabular_insurance_pipeline_ytest.sav\".format(save_dir), \"rb\"))\n",
    "data2"
   ]
  },
  {
   "cell_type": "code",
   "execution_count": 29,
   "id": "63f6adf4-ca00-44d8-a4f5-fc4f351432f6",
   "metadata": {
    "tags": []
   },
   "outputs": [
    {
     "data": {
      "text/html": [
       "<div>\n",
       "<style scoped>\n",
       "    .dataframe tbody tr th:only-of-type {\n",
       "        vertical-align: middle;\n",
       "    }\n",
       "\n",
       "    .dataframe tbody tr th {\n",
       "        vertical-align: top;\n",
       "    }\n",
       "\n",
       "    .dataframe thead th {\n",
       "        text-align: right;\n",
       "    }\n",
       "</style>\n",
       "<table border=\"1\" class=\"dataframe\">\n",
       "  <thead>\n",
       "    <tr style=\"text-align: right;\">\n",
       "      <th></th>\n",
       "      <th>age</th>\n",
       "      <th>sex</th>\n",
       "      <th>bmi</th>\n",
       "      <th>children</th>\n",
       "      <th>smoker</th>\n",
       "      <th>region</th>\n",
       "    </tr>\n",
       "  </thead>\n",
       "  <tbody>\n",
       "    <tr>\n",
       "      <th>445</th>\n",
       "      <td>45</td>\n",
       "      <td>female</td>\n",
       "      <td>33.1</td>\n",
       "      <td>0</td>\n",
       "      <td>no</td>\n",
       "      <td>southwest</td>\n",
       "    </tr>\n",
       "    <tr>\n",
       "      <th>901</th>\n",
       "      <td>60</td>\n",
       "      <td>male</td>\n",
       "      <td>40.9</td>\n",
       "      <td>0</td>\n",
       "      <td>yes</td>\n",
       "      <td>southeast</td>\n",
       "    </tr>\n",
       "    <tr>\n",
       "      <th>408</th>\n",
       "      <td>38</td>\n",
       "      <td>male</td>\n",
       "      <td>21.1</td>\n",
       "      <td>3</td>\n",
       "      <td>no</td>\n",
       "      <td>southeast</td>\n",
       "    </tr>\n",
       "    <tr>\n",
       "      <th>928</th>\n",
       "      <td>62</td>\n",
       "      <td>female</td>\n",
       "      <td>39.2</td>\n",
       "      <td>0</td>\n",
       "      <td>no</td>\n",
       "      <td>southeast</td>\n",
       "    </tr>\n",
       "    <tr>\n",
       "      <th>290</th>\n",
       "      <td>28</td>\n",
       "      <td>female</td>\n",
       "      <td>33.4</td>\n",
       "      <td>0</td>\n",
       "      <td>no</td>\n",
       "      <td>southwest</td>\n",
       "    </tr>\n",
       "    <tr>\n",
       "      <th>...</th>\n",
       "      <td>...</td>\n",
       "      <td>...</td>\n",
       "      <td>...</td>\n",
       "      <td>...</td>\n",
       "      <td>...</td>\n",
       "      <td>...</td>\n",
       "    </tr>\n",
       "    <tr>\n",
       "      <th>217</th>\n",
       "      <td>27</td>\n",
       "      <td>male</td>\n",
       "      <td>23.1</td>\n",
       "      <td>0</td>\n",
       "      <td>no</td>\n",
       "      <td>southeast</td>\n",
       "    </tr>\n",
       "    <tr>\n",
       "      <th>546</th>\n",
       "      <td>28</td>\n",
       "      <td>male</td>\n",
       "      <td>35.4</td>\n",
       "      <td>0</td>\n",
       "      <td>no</td>\n",
       "      <td>northeast</td>\n",
       "    </tr>\n",
       "    <tr>\n",
       "      <th>104</th>\n",
       "      <td>34</td>\n",
       "      <td>female</td>\n",
       "      <td>27.5</td>\n",
       "      <td>1</td>\n",
       "      <td>no</td>\n",
       "      <td>southwest</td>\n",
       "    </tr>\n",
       "    <tr>\n",
       "      <th>1275</th>\n",
       "      <td>57</td>\n",
       "      <td>male</td>\n",
       "      <td>23.7</td>\n",
       "      <td>0</td>\n",
       "      <td>no</td>\n",
       "      <td>southwest</td>\n",
       "    </tr>\n",
       "    <tr>\n",
       "      <th>737</th>\n",
       "      <td>26</td>\n",
       "      <td>male</td>\n",
       "      <td>23.7</td>\n",
       "      <td>2</td>\n",
       "      <td>no</td>\n",
       "      <td>southwest</td>\n",
       "    </tr>\n",
       "  </tbody>\n",
       "</table>\n",
       "<p>268 rows × 6 columns</p>\n",
       "</div>"
      ],
      "text/plain": [
       "      age     sex   bmi  children smoker     region\n",
       "445    45  female  33.1         0     no  southwest\n",
       "901    60    male  40.9         0    yes  southeast\n",
       "408    38    male  21.1         3     no  southeast\n",
       "928    62  female  39.2         0     no  southeast\n",
       "290    28  female  33.4         0     no  southwest\n",
       "...   ...     ...   ...       ...    ...        ...\n",
       "217    27    male  23.1         0     no  southeast\n",
       "546    28    male  35.4         0     no  northeast\n",
       "104    34  female  27.5         1     no  southwest\n",
       "1275   57    male  23.7         0     no  southwest\n",
       "737    26    male  23.7         2     no  southwest\n",
       "\n",
       "[268 rows x 6 columns]"
      ]
     },
     "execution_count": 29,
     "metadata": {},
     "output_type": "execute_result"
    }
   ],
   "source": [
    "data1 = pickle.load(open(\"./data/pickle_pandas_tabular_insurance_pipeline_testing.sav\".format(save_dir), \"rb\"))\n",
    "data1"
   ]
  }
 ],
 "metadata": {
  "kernelspec": {
   "display_name": "Python 3 (ipykernel)",
   "language": "python",
   "name": "python3"
  },
  "language_info": {
   "codemirror_mode": {
    "name": "ipython",
    "version": 3
   },
   "file_extension": ".py",
   "mimetype": "text/x-python",
   "name": "python",
   "nbconvert_exporter": "python",
   "pygments_lexer": "ipython3",
   "version": "3.10.0"
  }
 },
 "nbformat": 4,
 "nbformat_minor": 5
}
