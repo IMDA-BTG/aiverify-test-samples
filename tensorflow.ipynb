{
 "cells": [
  {
   "cell_type": "code",
   "execution_count": 1,
   "id": "21b191cf-fff2-4215-9db8-7fb891c6a251",
   "metadata": {
    "tags": []
   },
   "outputs": [
    {
     "name": "stderr",
     "output_type": "stream",
     "text": [
      "2023-05-10 14:57:34.117950: I tensorflow/core/util/port.cc:110] oneDNN custom operations are on. You may see slightly different numerical results due to floating-point round-off errors from different computation orders. To turn them off, set the environment variable `TF_ENABLE_ONEDNN_OPTS=0`.\n",
      "2023-05-10 14:57:34.147428: I tensorflow/core/platform/cpu_feature_guard.cc:182] This TensorFlow binary is optimized to use available CPU instructions in performance-critical operations.\n",
      "To enable the following instructions: AVX2 AVX512F AVX512_VNNI FMA, in other operations, rebuild TensorFlow with the appropriate compiler flags.\n",
      "2023-05-10 14:57:34.657693: W tensorflow/compiler/tf2tensorrt/utils/py_utils.cc:38] TF-TRT Warning: Could not find TensorRT\n",
      "2023-05-10 14:57:35.192518: I tensorflow/compiler/xla/stream_executor/cuda/cuda_gpu_executor.cc:996] successful NUMA node read from SysFS had negative value (-1), but there must be at least one NUMA node, so returning NUMA node zero. See more at https://github.com/torvalds/linux/blob/v6.0/Documentation/ABI/testing/sysfs-bus-pci#L344-L355\n",
      "2023-05-10 14:57:35.214460: W tensorflow/core/common_runtime/gpu/gpu_device.cc:1956] Cannot dlopen some GPU libraries. Please make sure the missing libraries mentioned above are installed properly if you would like to use GPU. Follow the guide at https://www.tensorflow.org/install/gpu for how to download and setup the required libraries for your platform.\n",
      "Skipping registering GPU devices...\n"
     ]
    },
    {
     "name": "stdout",
     "output_type": "stream",
     "text": [
      "Num GPUs Available:  0\n"
     ]
    },
    {
     "ename": "FileExistsError",
     "evalue": "[Errno 17] File exists: './models/tensorflow/2.12.0'",
     "output_type": "error",
     "traceback": [
      "\u001b[0;31m---------------------------------------------------------------------------\u001b[0m",
      "\u001b[0;31mFileExistsError\u001b[0m                           Traceback (most recent call last)",
      "Cell \u001b[0;32mIn[1], line 21\u001b[0m\n\u001b[1;32m     19\u001b[0m save_dir \u001b[38;5;241m=\u001b[39m \u001b[38;5;124m\"\u001b[39m\u001b[38;5;124m./models/tensorflow/\u001b[39m\u001b[38;5;132;01m{0}\u001b[39;00m\u001b[38;5;124m\"\u001b[39m\u001b[38;5;241m.\u001b[39mformat(tensorflow\u001b[38;5;241m.\u001b[39m__version__)\n\u001b[1;32m     20\u001b[0m \u001b[38;5;66;03m# print(save_dir)\u001b[39;00m\n\u001b[0;32m---> 21\u001b[0m \u001b[43mos\u001b[49m\u001b[38;5;241;43m.\u001b[39;49m\u001b[43mmkdir\u001b[49m\u001b[43m(\u001b[49m\u001b[43msave_dir\u001b[49m\u001b[43m)\u001b[49m\n",
      "\u001b[0;31mFileExistsError\u001b[0m: [Errno 17] File exists: './models/tensorflow/2.12.0'"
     ]
    }
   ],
   "source": [
    "import pickle\n",
    "import tensorflow as tf\n",
    "import numpy as np\n",
    "import pandas as pd \n",
    "\n",
    "# Support Sequential\n",
    "import tensorflow\n",
    "from tensorflow.keras import layers\n",
    "from keras.models import Sequential\n",
    "from keras.layers import Dense\n",
    "from keras.utils import to_categorical\n",
    "\n",
    "import warnings\n",
    "warnings.filterwarnings(\"ignore\")\n",
    "import os\n",
    "\n",
    "print(\"Num GPUs Available: \", len(tf.config.list_physical_devices('GPU')))\n",
    "\n",
    "save_dir = \"./models/tensorflow/{0}\".format(tensorflow.__version__)\n",
    "# print(save_dir)\n",
    "os.mkdir(save_dir)"
   ]
  },
  {
   "cell_type": "code",
   "execution_count": 2,
   "id": "f284448b-1d72-4a82-a8e4-5d5acc9234ec",
   "metadata": {
    "tags": []
   },
   "outputs": [
    {
     "name": "stdout",
     "output_type": "stream",
     "text": [
      "/home/lsm/miniconda3/envs/research}/lib\n"
     ]
    }
   ],
   "source": [
    "!export LD_LIBRARY_PATH=$LD_LIBRARY_PATH:$CONDA_PREFIX/lib/\n",
    "!export XLA_FLAGS=--xla_gpu_cuda_data_dir=\n",
    "!echo $CONDA_PREFIX}/lib"
   ]
  },
  {
   "cell_type": "markdown",
   "id": "f0c4f9c8-29c7-4f78-bd5d-964b46233905",
   "metadata": {},
   "source": [
    "# Generate tensorflow model samples for rocket"
   ]
  },
  {
   "cell_type": "markdown",
   "id": "c61716c2-f21b-415c-8ecf-ce570a95c0fc",
   "metadata": {},
   "source": [
    "## Sequential"
   ]
  },
  {
   "cell_type": "code",
   "execution_count": 3,
   "id": "6a8090a2-07fa-43c3-ac17-83d6e8b79600",
   "metadata": {
    "tags": []
   },
   "outputs": [],
   "source": [
    "compas_training = pickle.load(open(\"./data/pickle_pandas_tabular_compas_training.sav\", \"rb\"))\n",
    "compas_testing = pickle.load(open(\"./data/pickle_pandas_tabular_compas_testing.sav\", \"rb\"))\n",
    "\n",
    "X_train = compas_training.drop(\"two_year_recid\", axis=1)\n",
    "y_train = compas_training[[\"two_year_recid\"]]\n",
    "X_test = compas_testing.drop(\"two_year_recid\", axis=1)\n",
    "y_test = compas_testing[[\"two_year_recid\"]]"
   ]
  },
  {
   "cell_type": "markdown",
   "id": "f438693e-8496-4b87-89a0-984e5fa21b95",
   "metadata": {},
   "source": [
    "### Binary Classification - Sequential - Cross Entropy"
   ]
  },
  {
   "cell_type": "code",
   "execution_count": 4,
   "id": "40911c2e-d338-4155-ba77-78ae4e826dcf",
   "metadata": {
    "tags": []
   },
   "outputs": [
    {
     "name": "stdout",
     "output_type": "stream",
     "text": [
      "Epoch 1/10\n",
      "139/139 [==============================] - 1s 1ms/step - loss: 0.6359 - accuracy: 0.6536 - val_loss: 0.6447 - val_accuracy: 0.6275\n",
      "Epoch 2/10\n",
      "139/139 [==============================] - 0s 763us/step - loss: 0.6274 - accuracy: 0.6608 - val_loss: 0.6506 - val_accuracy: 0.6437\n",
      "Epoch 3/10\n",
      "139/139 [==============================] - 0s 740us/step - loss: 0.6212 - accuracy: 0.6662 - val_loss: 0.6388 - val_accuracy: 0.6377\n",
      "Epoch 4/10\n",
      "139/139 [==============================] - 0s 746us/step - loss: 0.6162 - accuracy: 0.6682 - val_loss: 0.6369 - val_accuracy: 0.6296\n",
      "Epoch 5/10\n",
      "139/139 [==============================] - 0s 735us/step - loss: 0.6150 - accuracy: 0.6712 - val_loss: 0.6339 - val_accuracy: 0.6559\n",
      "Epoch 6/10\n",
      "139/139 [==============================] - 0s 741us/step - loss: 0.6125 - accuracy: 0.6694 - val_loss: 0.6404 - val_accuracy: 0.6538\n",
      "Epoch 7/10\n",
      "139/139 [==============================] - 0s 705us/step - loss: 0.6103 - accuracy: 0.6734 - val_loss: 0.6278 - val_accuracy: 0.6579\n",
      "Epoch 8/10\n",
      "139/139 [==============================] - 0s 719us/step - loss: 0.6080 - accuracy: 0.6784 - val_loss: 0.6260 - val_accuracy: 0.6478\n",
      "Epoch 9/10\n",
      "139/139 [==============================] - 0s 719us/step - loss: 0.6081 - accuracy: 0.6779 - val_loss: 0.6354 - val_accuracy: 0.6498\n",
      "Epoch 10/10\n",
      "139/139 [==============================] - 0s 749us/step - loss: 0.6044 - accuracy: 0.6820 - val_loss: 0.6307 - val_accuracy: 0.6599\n",
      "39/39 [==============================] - 0s 476us/step\n",
      "score:               precision    recall  f1-score   support\n",
      "\n",
      "           0       0.68      0.73      0.71       670\n",
      "           1       0.66      0.60      0.63       565\n",
      "\n",
      "    accuracy                           0.67      1235\n",
      "   macro avg       0.67      0.67      0.67      1235\n",
      "weighted avg       0.67      0.67      0.67      1235\n",
      "\n",
      "type: <class 'keras.engine.sequential.Sequential'>\n"
     ]
    },
    {
     "name": "stderr",
     "output_type": "stream",
     "text": [
      "WARNING:absl:Found untraced functions such as _update_step_xla while saving (showing 1 of 1). These functions will not be directly callable after loading.\n"
     ]
    },
    {
     "name": "stdout",
     "output_type": "stream",
     "text": [
      "INFO:tensorflow:Assets written to: ./models/tensorflow/2.12.0/binary_classification_compas_crossentropy_keras.engine.sequential.Sequential.sav/assets\n"
     ]
    },
    {
     "name": "stderr",
     "output_type": "stream",
     "text": [
      "INFO:tensorflow:Assets written to: ./models/tensorflow/2.12.0/binary_classification_compas_crossentropy_keras.engine.sequential.Sequential.sav/assets\n"
     ]
    }
   ],
   "source": [
    "input_size = len(X_train.iloc[0])\n",
    "model = Sequential()\n",
    "model.add(Dense(200, input_shape=(input_size,), activation='relu'))\n",
    "model.add(Dense(50, activation='relu'))\n",
    "model.add(Dense(25, activation='relu'))\n",
    "model.add(Dense(1, activation='sigmoid'))\n",
    "model.compile(loss=tf.keras.losses.BinaryCrossentropy(from_logits=True), optimizer='adam', metrics=[\"accuracy\"])\n",
    "model.fit(X_train, y_train, epochs=10, batch_size=32, validation_split=0.1)\n",
    "y_pred = np.around(model.predict(X_test))\n",
    "from sklearn.metrics import classification_report\n",
    "print(\"score: {0}\".format(classification_report(y_test, y_pred)))\n",
    "print(\"type: {0}\".format(type(model)))\n",
    "\n",
    "## save\n",
    "model.save(\"{0}/binary_classification_compas_crossentropy_keras.engine.sequential.Sequential.sav\".format(save_dir), \"wb+\")"
   ]
  },
  {
   "cell_type": "markdown",
   "id": "1f734065-290a-4a46-bd88-3e394d385012",
   "metadata": {},
   "source": [
    "### Binary Classification - Sequential - Focal Cross Entropy"
   ]
  },
  {
   "cell_type": "code",
   "execution_count": 11,
   "id": "5f3e8825-96c7-480b-86b1-54b7c5379001",
   "metadata": {
    "tags": []
   },
   "outputs": [
    {
     "name": "stdout",
     "output_type": "stream",
     "text": [
      "Epoch 1/10\n",
      "139/139 [==============================] - 1s 2ms/step - loss: 0.1554 - accuracy: 0.5904 - val_loss: 0.1536 - val_accuracy: 0.5789\n",
      "Epoch 2/10\n",
      "139/139 [==============================] - 0s 2ms/step - loss: 0.1500 - accuracy: 0.5899 - val_loss: 0.1539 - val_accuracy: 0.6053\n",
      "Epoch 3/10\n",
      "139/139 [==============================] - 0s 1ms/step - loss: 0.1474 - accuracy: 0.5940 - val_loss: 0.1509 - val_accuracy: 0.5810\n",
      "Epoch 4/10\n",
      "139/139 [==============================] - 0s 2ms/step - loss: 0.1472 - accuracy: 0.6009 - val_loss: 0.1508 - val_accuracy: 0.6154\n",
      "Epoch 5/10\n",
      "139/139 [==============================] - 0s 2ms/step - loss: 0.1465 - accuracy: 0.5969 - val_loss: 0.1514 - val_accuracy: 0.6255\n",
      "Epoch 6/10\n",
      "139/139 [==============================] - 0s 2ms/step - loss: 0.1460 - accuracy: 0.6108 - val_loss: 0.1507 - val_accuracy: 0.5810\n",
      "Epoch 7/10\n",
      "139/139 [==============================] - 0s 2ms/step - loss: 0.1453 - accuracy: 0.6124 - val_loss: 0.1494 - val_accuracy: 0.6296\n",
      "Epoch 8/10\n",
      "139/139 [==============================] - 0s 2ms/step - loss: 0.1447 - accuracy: 0.6160 - val_loss: 0.1513 - val_accuracy: 0.6174\n",
      "Epoch 9/10\n",
      "139/139 [==============================] - 0s 2ms/step - loss: 0.1445 - accuracy: 0.6201 - val_loss: 0.1503 - val_accuracy: 0.6275\n",
      "Epoch 10/10\n",
      "139/139 [==============================] - 0s 2ms/step - loss: 0.1444 - accuracy: 0.6241 - val_loss: 0.1494 - val_accuracy: 0.6093\n",
      "39/39 [==============================] - 0s 843us/step\n",
      "score:               precision    recall  f1-score   support\n",
      "\n",
      "           0       0.59      0.93      0.72       670\n",
      "           1       0.75      0.24      0.36       565\n",
      "\n",
      "    accuracy                           0.62      1235\n",
      "   macro avg       0.67      0.59      0.54      1235\n",
      "weighted avg       0.67      0.62      0.56      1235\n",
      "\n",
      "type: <class 'keras.engine.sequential.Sequential'>\n"
     ]
    },
    {
     "name": "stderr",
     "output_type": "stream",
     "text": [
      "WARNING:absl:Found untraced functions such as _update_step_xla while saving (showing 1 of 1). These functions will not be directly callable after loading.\n"
     ]
    },
    {
     "name": "stdout",
     "output_type": "stream",
     "text": [
      "INFO:tensorflow:Assets written to: ./models/tensorflow/2.12.0/binary_classification_compas_focalcrossentropy_keras.engine.sequential.Sequential.sav/assets\n"
     ]
    },
    {
     "name": "stderr",
     "output_type": "stream",
     "text": [
      "INFO:tensorflow:Assets written to: ./models/tensorflow/2.12.0/binary_classification_compas_focalcrossentropy_keras.engine.sequential.Sequential.sav/assets\n"
     ]
    }
   ],
   "source": [
    "input_size = len(X_train.iloc[0])\n",
    "model = Sequential()\n",
    "model.add(Dense(200, input_shape=(input_size,), activation='relu'))\n",
    "model.add(Dense(50, activation='relu'))\n",
    "model.add(Dense(25, activation='relu'))\n",
    "model.add(Dense(1, activation='sigmoid'))\n",
    "model.compile(loss=tf.keras.losses.BinaryFocalCrossentropy(from_logits=True), optimizer='adam', metrics=[\"accuracy\"])\n",
    "model.fit(X_train, y_train, epochs=10, batch_size=32, validation_split=0.1)\n",
    "y_pred = np.around(model.predict(X_test))\n",
    "from sklearn.metrics import classification_report\n",
    "print(\"score: {0}\".format(classification_report(y_test, y_pred)))\n",
    "print(\"type: {0}\".format(type(model)))\n",
    "\n",
    "## save\n",
    "model.save(\"{0}/binary_classification_compas_focalcrossentropy_keras.engine.sequential.Sequential.sav\".format(save_dir), \"wb+\")"
   ]
  },
  {
   "cell_type": "code",
   "execution_count": 3,
   "id": "60e45c5b-26c5-4083-ab0a-089b5ec268ae",
   "metadata": {
    "tags": []
   },
   "outputs": [],
   "source": [
    "loan_training = pickle.load(open(\"./data/pickle_pandas_tabular_loan_training.sav\", \"rb\")).sample(5000)\n",
    "loan_testing = pickle.load(open(\"./data/pickle_pandas_tabular_loan_testing.sav\", \"rb\")).sample(2000)\n",
    "\n",
    "multiclass_X_train = loan_training.drop(\"Interest_Rate\", axis=1)\n",
    "multiclass_y_train = loan_training[[\"Interest_Rate\"]]\n",
    "multiclass_X_test = loan_testing.drop(\"Interest_Rate\", axis=1)\n",
    "multiclass_y_test = loan_testing[[\"Interest_Rate\"]]"
   ]
  },
  {
   "cell_type": "markdown",
   "id": "cc20b014-de5e-4b74-9cb9-0e8faedea938",
   "metadata": {},
   "source": [
    "### Multiclass Classification - Sequential - Categorical Cross Entropy"
   ]
  },
  {
   "cell_type": "code",
   "execution_count": 4,
   "id": "6f92ebe5-4298-418f-a583-4619411b9fe8",
   "metadata": {
    "tags": []
   },
   "outputs": [
    {
     "name": "stdout",
     "output_type": "stream",
     "text": [
      "63/63 [==============================] - 0s 536us/step\n"
     ]
    },
    {
     "data": {
      "text/plain": [
       "array([[0., 0., 0.],\n",
       "       [0., 0., 0.],\n",
       "       [0., 0., 0.],\n",
       "       ...,\n",
       "       [0., 0., 0.],\n",
       "       [0., 0., 0.],\n",
       "       [0., 0., 0.]], dtype=float32)"
      ]
     },
     "execution_count": 4,
     "metadata": {},
     "output_type": "execute_result"
    }
   ],
   "source": [
    "model = tensorflow.keras.models.load_model(\"{0}/multiclass_classification_loan_categoricalcrossentropy_keras.engine.sequential.Sequential.sav\".format(save_dir))\n",
    "model.predict(multiclass_X_test)"
   ]
  },
  {
   "cell_type": "code",
   "execution_count": 10,
   "id": "a70d5d92-2c12-40d5-a1cf-ddaab75c8c09",
   "metadata": {
    "tags": []
   },
   "outputs": [
    {
     "name": "stdout",
     "output_type": "stream",
     "text": [
      "Epoch 1/10\n",
      "141/141 [==============================] - 0s 1ms/step - loss: 249.6031 - accuracy: 0.3791 - val_loss: 83.9873 - val_accuracy: 0.2920\n",
      "Epoch 2/10\n",
      "141/141 [==============================] - 0s 720us/step - loss: 125.0792 - accuracy: 0.3624 - val_loss: 130.7872 - val_accuracy: 0.2960\n",
      "Epoch 3/10\n",
      "141/141 [==============================] - 0s 726us/step - loss: 120.6608 - accuracy: 0.3653 - val_loss: 136.7392 - val_accuracy: 0.4360\n",
      "Epoch 4/10\n",
      "141/141 [==============================] - 0s 687us/step - loss: 100.2609 - accuracy: 0.3744 - val_loss: 121.7130 - val_accuracy: 0.4600\n",
      "Epoch 5/10\n",
      "141/141 [==============================] - 0s 775us/step - loss: 84.2147 - accuracy: 0.3804 - val_loss: 73.5998 - val_accuracy: 0.4340\n",
      "Epoch 6/10\n",
      "141/141 [==============================] - 0s 713us/step - loss: 86.1906 - accuracy: 0.3691 - val_loss: 125.6233 - val_accuracy: 0.4320\n",
      "Epoch 7/10\n",
      "141/141 [==============================] - 0s 718us/step - loss: 94.6817 - accuracy: 0.3682 - val_loss: 87.2564 - val_accuracy: 0.3680\n",
      "Epoch 8/10\n",
      "141/141 [==============================] - 0s 698us/step - loss: 68.3494 - accuracy: 0.3838 - val_loss: 70.0421 - val_accuracy: 0.2480\n",
      "Epoch 9/10\n",
      "141/141 [==============================] - 0s 728us/step - loss: 74.6848 - accuracy: 0.3798 - val_loss: 61.0880 - val_accuracy: 0.2580\n",
      "Epoch 10/10\n",
      "141/141 [==============================] - 0s 714us/step - loss: 45.0573 - accuracy: 0.3789 - val_loss: 61.3853 - val_accuracy: 0.4580\n",
      "63/63 [==============================] - 0s 450us/step\n",
      "[[0. 0. 0.]\n",
      " [0. 0. 0.]\n",
      " [0. 0. 0.]\n",
      " ...\n",
      " [0. 0. 0.]\n",
      " [0. 0. 0.]\n",
      " [0. 0. 0.]]\n"
     ]
    },
    {
     "name": "stderr",
     "output_type": "stream",
     "text": [
      "WARNING:absl:Found untraced functions such as _update_step_xla while saving (showing 1 of 1). These functions will not be directly callable after loading.\n"
     ]
    },
    {
     "name": "stdout",
     "output_type": "stream",
     "text": [
      "INFO:tensorflow:Assets written to: ./models/tensorflow/2.12.0/multiclass_classification_loan_categoricalcrossentropy_keras.engine.sequential.Sequential.sav/assets\n"
     ]
    },
    {
     "name": "stderr",
     "output_type": "stream",
     "text": [
      "INFO:tensorflow:Assets written to: ./models/tensorflow/2.12.0/multiclass_classification_loan_categoricalcrossentropy_keras.engine.sequential.Sequential.sav/assets\n"
     ]
    }
   ],
   "source": [
    "y_binary = to_categorical(multiclass_y_train)\n",
    "\n",
    "input_size = len(multiclass_X_train.iloc[0])\n",
    "model = Sequential()\n",
    "model.add(Dense(200, input_shape=(input_size,), activation='relu'))\n",
    "model.add(Dense(50, activation='relu'))\n",
    "model.add(Dense(25, activation='relu'))\n",
    "model.add(Dense(3, activation='sigmoid'))\n",
    "model.compile(loss=tf.keras.losses.CategoricalCrossentropy(), optimizer='adam', metrics=[\"accuracy\"])\n",
    "model.fit(multiclass_X_train, y_binary, epochs=10, batch_size=32, validation_split=0.1)\n",
    "print(model.predict(multiclass_X_test))\n",
    "## save\n",
    "model.save(\"{0}/multiclass_classification_loan_categoricalcrossentropy_keras.engine.sequential.Sequential.sav\".format(save_dir), \"wb+\")"
   ]
  },
  {
   "cell_type": "markdown",
   "id": "6f60e879-fb29-4668-8f6d-0377a087edfe",
   "metadata": {},
   "source": [
    "### Multiclass Classification - Sequential - SparseCategoricalCrossentropy"
   ]
  },
  {
   "cell_type": "code",
   "execution_count": 14,
   "id": "bad23d72-5d68-4b81-9b46-8695d4a2e485",
   "metadata": {
    "tags": []
   },
   "outputs": [
    {
     "name": "stdout",
     "output_type": "stream",
     "text": [
      "Epoch 1/10\n",
      "141/141 [==============================] - 1s 2ms/step - loss: 333.1303 - accuracy: 0.3782 - val_loss: 76.8010 - val_accuracy: 0.3380\n",
      "Epoch 2/10\n",
      "141/141 [==============================] - 0s 1ms/step - loss: 140.5272 - accuracy: 0.3760 - val_loss: 255.3937 - val_accuracy: 0.3800\n",
      "Epoch 3/10\n",
      "141/141 [==============================] - 0s 1ms/step - loss: 119.3937 - accuracy: 0.3802 - val_loss: 79.3589 - val_accuracy: 0.4740\n",
      "Epoch 4/10\n",
      "141/141 [==============================] - 0s 1ms/step - loss: 78.3257 - accuracy: 0.3751 - val_loss: 35.4572 - val_accuracy: 0.3000\n",
      "Epoch 5/10\n",
      "141/141 [==============================] - 0s 1ms/step - loss: 91.0272 - accuracy: 0.3744 - val_loss: 107.0147 - val_accuracy: 0.3440\n",
      "Epoch 6/10\n",
      "141/141 [==============================] - 0s 1ms/step - loss: 63.5107 - accuracy: 0.3709 - val_loss: 75.3011 - val_accuracy: 0.4220\n",
      "Epoch 7/10\n",
      "141/141 [==============================] - 0s 1ms/step - loss: 85.2322 - accuracy: 0.3800 - val_loss: 106.5978 - val_accuracy: 0.4340\n",
      "Epoch 8/10\n",
      "141/141 [==============================] - 0s 2ms/step - loss: 75.9032 - accuracy: 0.3847 - val_loss: 106.8471 - val_accuracy: 0.4220\n",
      "Epoch 9/10\n",
      "141/141 [==============================] - 0s 2ms/step - loss: 73.0428 - accuracy: 0.3727 - val_loss: 39.5681 - val_accuracy: 0.3620\n",
      "Epoch 10/10\n",
      "141/141 [==============================] - 0s 1ms/step - loss: 50.1802 - accuracy: 0.3816 - val_loss: 85.7198 - val_accuracy: 0.3220\n"
     ]
    },
    {
     "name": "stderr",
     "output_type": "stream",
     "text": [
      "WARNING:absl:Found untraced functions such as _update_step_xla while saving (showing 1 of 1). These functions will not be directly callable after loading.\n"
     ]
    },
    {
     "name": "stdout",
     "output_type": "stream",
     "text": [
      "INFO:tensorflow:Assets written to: ./models/tensorflow/2.12.0/multiclass_classification_loan_sparsecategoricalcrossentropy_keras.engine.sequential.Sequential.sav/assets\n"
     ]
    },
    {
     "name": "stderr",
     "output_type": "stream",
     "text": [
      "INFO:tensorflow:Assets written to: ./models/tensorflow/2.12.0/multiclass_classification_loan_sparsecategoricalcrossentropy_keras.engine.sequential.Sequential.sav/assets\n"
     ]
    }
   ],
   "source": [
    "from keras.utils import to_categorical\n",
    "#y_binary = to_categorical(multiclass_y_train)\n",
    "\n",
    "input_size = len(multiclass_X_train.iloc[0])\n",
    "model = Sequential()\n",
    "model.add(Dense(200, input_shape=(input_size,), activation='relu'))\n",
    "model.add(Dense(50, activation='relu'))\n",
    "model.add(Dense(25, activation='relu'))\n",
    "model.add(Dense(3, activation='sigmoid'))\n",
    "model.compile(loss=tf.keras.losses.SparseCategoricalCrossentropy(), optimizer='adam', metrics=[\"accuracy\"])\n",
    "model.fit(multiclass_X_train, multiclass_y_train, epochs=10, batch_size=32, validation_split=0.1)\n",
    "\n",
    "## save\n",
    "model.save(\"{0}/multiclass_classification_loan_sparsecategoricalcrossentropy_keras.engine.sequential.Sequential.sav\".format(save_dir), \"wb+\")"
   ]
  },
  {
   "cell_type": "markdown",
   "id": "0fc7d122-9e3b-4f81-a141-0c7dedb1f9f4",
   "metadata": {},
   "source": [
    "### Multiclass Classification - Sequential - CategoricalHinge"
   ]
  },
  {
   "cell_type": "code",
   "execution_count": 15,
   "id": "c428d8c6-1e07-4430-8e43-0aee9a19f4b7",
   "metadata": {
    "tags": []
   },
   "outputs": [
    {
     "name": "stdout",
     "output_type": "stream",
     "text": [
      "Epoch 1/10\n",
      "141/141 [==============================] - 1s 2ms/step - loss: 1.0000 - accuracy: 0.2087 - val_loss: 1.0000 - val_accuracy: 0.1980\n",
      "Epoch 2/10\n",
      "141/141 [==============================] - 0s 2ms/step - loss: 1.0000 - accuracy: 0.2087 - val_loss: 1.0000 - val_accuracy: 0.1980\n",
      "Epoch 3/10\n",
      "141/141 [==============================] - 0s 1ms/step - loss: 1.0000 - accuracy: 0.2087 - val_loss: 1.0000 - val_accuracy: 0.1980\n",
      "Epoch 4/10\n",
      "141/141 [==============================] - 0s 1ms/step - loss: 1.0000 - accuracy: 0.2087 - val_loss: 1.0000 - val_accuracy: 0.1980\n",
      "Epoch 5/10\n",
      "141/141 [==============================] - 0s 1ms/step - loss: 1.0000 - accuracy: 0.2087 - val_loss: 1.0000 - val_accuracy: 0.1980\n",
      "Epoch 6/10\n",
      "141/141 [==============================] - 0s 1ms/step - loss: 1.0000 - accuracy: 0.2087 - val_loss: 1.0000 - val_accuracy: 0.1980\n",
      "Epoch 7/10\n",
      "141/141 [==============================] - 0s 2ms/step - loss: 1.0000 - accuracy: 0.2087 - val_loss: 1.0000 - val_accuracy: 0.1980\n",
      "Epoch 8/10\n",
      "141/141 [==============================] - 0s 2ms/step - loss: 1.0000 - accuracy: 0.2087 - val_loss: 1.0000 - val_accuracy: 0.1980\n",
      "Epoch 9/10\n",
      "141/141 [==============================] - 0s 2ms/step - loss: 1.0000 - accuracy: 0.2087 - val_loss: 1.0000 - val_accuracy: 0.1980\n",
      "Epoch 10/10\n",
      "141/141 [==============================] - 0s 2ms/step - loss: 1.0000 - accuracy: 0.2087 - val_loss: 1.0000 - val_accuracy: 0.1980\n"
     ]
    },
    {
     "name": "stderr",
     "output_type": "stream",
     "text": [
      "WARNING:absl:Found untraced functions such as _update_step_xla while saving (showing 1 of 1). These functions will not be directly callable after loading.\n"
     ]
    },
    {
     "name": "stdout",
     "output_type": "stream",
     "text": [
      "INFO:tensorflow:Assets written to: ./models/tensorflow/2.12.0/multiclass_classification_loan_categoricalhinge_keras.engine.sequential.Sequential.sav/assets\n"
     ]
    },
    {
     "name": "stderr",
     "output_type": "stream",
     "text": [
      "INFO:tensorflow:Assets written to: ./models/tensorflow/2.12.0/multiclass_classification_loan_categoricalhinge_keras.engine.sequential.Sequential.sav/assets\n"
     ]
    }
   ],
   "source": [
    "from keras.utils import to_categorical\n",
    "y_binary = to_categorical(multiclass_y_train)\n",
    "\n",
    "input_size = len(multiclass_X_train.iloc[0])\n",
    "model = Sequential()\n",
    "model.add(Dense(200, input_shape=(input_size,), activation='relu'))\n",
    "model.add(Dense(50, activation='relu'))\n",
    "model.add(Dense(25, activation='relu'))\n",
    "model.add(Dense(3, activation='sigmoid'))\n",
    "model.compile(loss=tf.keras.losses.CategoricalHinge(), optimizer='adam', metrics=[\"accuracy\"])\n",
    "model.fit(multiclass_X_train, y_binary, epochs=10, batch_size=32, validation_split=0.1)\n",
    "\n",
    "## save\n",
    "model.save(\"{0}/multiclass_classification_loan_categoricalhinge_keras.engine.sequential.Sequential.sav\".format(save_dir), \"wb+\")"
   ]
  },
  {
   "cell_type": "code",
   "execution_count": 17,
   "id": "ebf1ab26-4579-4c94-ad62-5b94f1f8361a",
   "metadata": {
    "tags": []
   },
   "outputs": [],
   "source": [
    "insurance_training = pickle.load(open(\"./data/pickle_pandas_tabular_insurance_training.sav\", \"rb\"))\n",
    "insurance_testing = pickle.load(open(\"./data/pickle_pandas_tabular_insurance_testing.sav\", \"rb\"))\n",
    "insurance_testing.describe()\n",
    "\n",
    "regression_X_train = insurance_training.drop(\"charges\", axis=1)\n",
    "regression_y_train = insurance_training[[\"charges\"]]\n",
    "regression_X_test = insurance_testing.drop(\"charges\", axis=1)\n",
    "regression_y_test = insurance_testing[[\"charges\"]]\n",
    "\n",
    "def train_regression_models(loss, prefix):\n",
    "    input_size = len(regression_X_train.iloc[0])\n",
    "    model = Sequential()\n",
    "    model.add(Dense(200, input_shape=(input_size,), activation='relu'))\n",
    "    model.add(Dense(50, activation='relu'))\n",
    "    model.add(Dense(25, activation='relu'))\n",
    "    model.add(Dense(1, activation='sigmoid'))\n",
    "    model.compile(loss=loss, optimizer='adam')\n",
    "    model.fit(regression_X_train, regression_y_train, epochs=10, batch_size=32, validation_split=0.1)\n",
    "    \n",
    "    model.save(\"{1}/regression_insurance_{0}_keras.engine.sequential.Sequential.sav\".format(prefix, save_dir), \"wb+\")"
   ]
  },
  {
   "cell_type": "markdown",
   "id": "601cb389-7f11-4b4a-9c9d-503dcb0aa90b",
   "metadata": {},
   "source": [
    "### Regression - Sequential - Mean Absolute Error"
   ]
  },
  {
   "cell_type": "code",
   "execution_count": 15,
   "id": "ea967a57-1f81-4826-a618-4672fe52cf6c",
   "metadata": {},
   "outputs": [
    {
     "name": "stdout",
     "output_type": "stream",
     "text": [
      "Epoch 1/10\n"
     ]
    },
    {
     "name": "stderr",
     "output_type": "stream",
     "text": [
      "2023-03-16 11:58:01.717516: W tensorflow/compiler/xla/service/gpu/llvm_gpu_backend/gpu_backend_lib.cc:326] libdevice is required by this HLO module but was not found at ./libdevice.10.bc\n",
      "2023-03-16 11:58:01.717718: W tensorflow/core/framework/op_kernel.cc:1830] OP_REQUIRES failed at xla_ops.cc:446 : INTERNAL: libdevice not found at ./libdevice.10.bc\n",
      "2023-03-16 11:58:01.728967: W tensorflow/compiler/xla/service/gpu/llvm_gpu_backend/gpu_backend_lib.cc:326] libdevice is required by this HLO module but was not found at ./libdevice.10.bc\n",
      "2023-03-16 11:58:01.729123: W tensorflow/core/framework/op_kernel.cc:1830] OP_REQUIRES failed at xla_ops.cc:446 : INTERNAL: libdevice not found at ./libdevice.10.bc\n",
      "2023-03-16 11:58:01.742480: W tensorflow/compiler/xla/service/gpu/llvm_gpu_backend/gpu_backend_lib.cc:326] libdevice is required by this HLO module but was not found at ./libdevice.10.bc\n",
      "2023-03-16 11:58:01.742671: W tensorflow/core/framework/op_kernel.cc:1830] OP_REQUIRES failed at xla_ops.cc:446 : INTERNAL: libdevice not found at ./libdevice.10.bc\n",
      "2023-03-16 11:58:01.754537: W tensorflow/compiler/xla/service/gpu/llvm_gpu_backend/gpu_backend_lib.cc:326] libdevice is required by this HLO module but was not found at ./libdevice.10.bc\n",
      "2023-03-16 11:58:01.754710: W tensorflow/core/framework/op_kernel.cc:1830] OP_REQUIRES failed at xla_ops.cc:446 : INTERNAL: libdevice not found at ./libdevice.10.bc\n",
      "2023-03-16 11:58:01.767946: W tensorflow/compiler/xla/service/gpu/llvm_gpu_backend/gpu_backend_lib.cc:326] libdevice is required by this HLO module but was not found at ./libdevice.10.bc\n",
      "2023-03-16 11:58:01.768139: W tensorflow/core/framework/op_kernel.cc:1830] OP_REQUIRES failed at xla_ops.cc:446 : INTERNAL: libdevice not found at ./libdevice.10.bc\n",
      "2023-03-16 11:58:01.780215: W tensorflow/compiler/xla/service/gpu/llvm_gpu_backend/gpu_backend_lib.cc:326] libdevice is required by this HLO module but was not found at ./libdevice.10.bc\n",
      "2023-03-16 11:58:01.780378: W tensorflow/core/framework/op_kernel.cc:1830] OP_REQUIRES failed at xla_ops.cc:446 : INTERNAL: libdevice not found at ./libdevice.10.bc\n",
      "2023-03-16 11:58:01.793269: W tensorflow/compiler/xla/service/gpu/llvm_gpu_backend/gpu_backend_lib.cc:326] libdevice is required by this HLO module but was not found at ./libdevice.10.bc\n",
      "2023-03-16 11:58:01.793465: W tensorflow/core/framework/op_kernel.cc:1830] OP_REQUIRES failed at xla_ops.cc:446 : INTERNAL: libdevice not found at ./libdevice.10.bc\n",
      "2023-03-16 11:58:01.805441: W tensorflow/compiler/xla/service/gpu/llvm_gpu_backend/gpu_backend_lib.cc:326] libdevice is required by this HLO module but was not found at ./libdevice.10.bc\n",
      "2023-03-16 11:58:01.805672: W tensorflow/core/framework/op_kernel.cc:1830] OP_REQUIRES failed at xla_ops.cc:446 : INTERNAL: libdevice not found at ./libdevice.10.bc\n"
     ]
    },
    {
     "ename": "InternalError",
     "evalue": "Graph execution error:\n\nDetected at node 'StatefulPartitionedCall_6' defined at (most recent call last):\n    File \"/home/seokmin/miniconda3/envs/research/lib/python3.10/runpy.py\", line 196, in _run_module_as_main\n      return _run_code(code, main_globals, None,\n    File \"/home/seokmin/miniconda3/envs/research/lib/python3.10/runpy.py\", line 86, in _run_code\n      exec(code, run_globals)\n    File \"/home/seokmin/miniconda3/envs/research/lib/python3.10/site-packages/ipykernel_launcher.py\", line 17, in <module>\n      app.launch_new_instance()\n    File \"/home/seokmin/miniconda3/envs/research/lib/python3.10/site-packages/traitlets/config/application.py\", line 1043, in launch_instance\n      app.start()\n    File \"/home/seokmin/miniconda3/envs/research/lib/python3.10/site-packages/ipykernel/kernelapp.py\", line 725, in start\n      self.io_loop.start()\n    File \"/home/seokmin/miniconda3/envs/research/lib/python3.10/site-packages/tornado/platform/asyncio.py\", line 215, in start\n      self.asyncio_loop.run_forever()\n    File \"/home/seokmin/miniconda3/envs/research/lib/python3.10/asyncio/base_events.py\", line 603, in run_forever\n      self._run_once()\n    File \"/home/seokmin/miniconda3/envs/research/lib/python3.10/asyncio/base_events.py\", line 1906, in _run_once\n      handle._run()\n    File \"/home/seokmin/miniconda3/envs/research/lib/python3.10/asyncio/events.py\", line 80, in _run\n      self._context.run(self._callback, *self._args)\n    File \"/home/seokmin/miniconda3/envs/research/lib/python3.10/site-packages/ipykernel/kernelbase.py\", line 513, in dispatch_queue\n      await self.process_one()\n    File \"/home/seokmin/miniconda3/envs/research/lib/python3.10/site-packages/ipykernel/kernelbase.py\", line 502, in process_one\n      await dispatch(*args)\n    File \"/home/seokmin/miniconda3/envs/research/lib/python3.10/site-packages/ipykernel/kernelbase.py\", line 409, in dispatch_shell\n      await result\n    File \"/home/seokmin/miniconda3/envs/research/lib/python3.10/site-packages/ipykernel/kernelbase.py\", line 729, in execute_request\n      reply_content = await reply_content\n    File \"/home/seokmin/miniconda3/envs/research/lib/python3.10/site-packages/ipykernel/ipkernel.py\", line 422, in do_execute\n      res = shell.run_cell(\n    File \"/home/seokmin/miniconda3/envs/research/lib/python3.10/site-packages/ipykernel/zmqshell.py\", line 540, in run_cell\n      return super().run_cell(*args, **kwargs)\n    File \"/home/seokmin/miniconda3/envs/research/lib/python3.10/site-packages/IPython/core/interactiveshell.py\", line 2961, in run_cell\n      result = self._run_cell(\n    File \"/home/seokmin/miniconda3/envs/research/lib/python3.10/site-packages/IPython/core/interactiveshell.py\", line 3016, in _run_cell\n      result = runner(coro)\n    File \"/home/seokmin/miniconda3/envs/research/lib/python3.10/site-packages/IPython/core/async_helpers.py\", line 129, in _pseudo_sync_runner\n      coro.send(None)\n    File \"/home/seokmin/miniconda3/envs/research/lib/python3.10/site-packages/IPython/core/interactiveshell.py\", line 3221, in run_cell_async\n      has_raised = await self.run_ast_nodes(code_ast.body, cell_name,\n    File \"/home/seokmin/miniconda3/envs/research/lib/python3.10/site-packages/IPython/core/interactiveshell.py\", line 3400, in run_ast_nodes\n      if await self.run_code(code, result, async_=asy):\n    File \"/home/seokmin/miniconda3/envs/research/lib/python3.10/site-packages/IPython/core/interactiveshell.py\", line 3460, in run_code\n      exec(code_obj, self.user_global_ns, self.user_ns)\n    File \"/tmp/ipykernel_17217/3534090025.py\", line 12, in <module>\n      train_regression_models(tf.keras.losses.MeanAbsoluteError(), \"meanabsoluteerror\")\n    File \"/tmp/ipykernel_17217/3920664380.py\", line 18, in train_regression_models\n      model.fit(regression_X_train, regression_y_train, epochs=10, batch_size=32, validation_split=0.1)\n    File \"/home/seokmin/miniconda3/envs/research/lib/python3.10/site-packages/keras/utils/traceback_utils.py\", line 65, in error_handler\n      return fn(*args, **kwargs)\n    File \"/home/seokmin/miniconda3/envs/research/lib/python3.10/site-packages/keras/engine/training.py\", line 1650, in fit\n      tmp_logs = self.train_function(iterator)\n    File \"/home/seokmin/miniconda3/envs/research/lib/python3.10/site-packages/keras/engine/training.py\", line 1249, in train_function\n      return step_function(self, iterator)\n    File \"/home/seokmin/miniconda3/envs/research/lib/python3.10/site-packages/keras/engine/training.py\", line 1233, in step_function\n      outputs = model.distribute_strategy.run(run_step, args=(data,))\n    File \"/home/seokmin/miniconda3/envs/research/lib/python3.10/site-packages/keras/engine/training.py\", line 1222, in run_step\n      outputs = model.train_step(data)\n    File \"/home/seokmin/miniconda3/envs/research/lib/python3.10/site-packages/keras/engine/training.py\", line 1027, in train_step\n      self.optimizer.minimize(loss, self.trainable_variables, tape=tape)\n    File \"/home/seokmin/miniconda3/envs/research/lib/python3.10/site-packages/keras/optimizers/optimizer_experimental/optimizer.py\", line 527, in minimize\n      self.apply_gradients(grads_and_vars)\n    File \"/home/seokmin/miniconda3/envs/research/lib/python3.10/site-packages/keras/optimizers/optimizer_experimental/optimizer.py\", line 1140, in apply_gradients\n      return super().apply_gradients(grads_and_vars, name=name)\n    File \"/home/seokmin/miniconda3/envs/research/lib/python3.10/site-packages/keras/optimizers/optimizer_experimental/optimizer.py\", line 634, in apply_gradients\n      iteration = self._internal_apply_gradients(grads_and_vars)\n    File \"/home/seokmin/miniconda3/envs/research/lib/python3.10/site-packages/keras/optimizers/optimizer_experimental/optimizer.py\", line 1166, in _internal_apply_gradients\n      return tf.__internal__.distribute.interim.maybe_merge_call(\n    File \"/home/seokmin/miniconda3/envs/research/lib/python3.10/site-packages/keras/optimizers/optimizer_experimental/optimizer.py\", line 1216, in _distributed_apply_gradients_fn\n      distribution.extended.update(\n    File \"/home/seokmin/miniconda3/envs/research/lib/python3.10/site-packages/keras/optimizers/optimizer_experimental/optimizer.py\", line 1211, in apply_grad_to_update_var\n      return self._update_step_xla(grad, var, id(self._var_key(var)))\nNode: 'StatefulPartitionedCall_6'\nlibdevice not found at ./libdevice.10.bc\n\t [[{{node StatefulPartitionedCall_6}}]] [Op:__inference_train_function_2143]",
     "output_type": "error",
     "traceback": [
      "\u001b[0;31m---------------------------------------------------------------------------\u001b[0m",
      "\u001b[0;31mInternalError\u001b[0m                             Traceback (most recent call last)",
      "Cell \u001b[0;32mIn[15], line 12\u001b[0m\n\u001b[1;32m      1\u001b[0m \u001b[38;5;66;03m# input_size = len(regression_X_train.iloc[0])\u001b[39;00m\n\u001b[1;32m      2\u001b[0m \u001b[38;5;66;03m# model = Sequential()\u001b[39;00m\n\u001b[1;32m      3\u001b[0m \u001b[38;5;66;03m# model.add(Dense(200, input_shape=(input_size,), activation='relu'))\u001b[39;00m\n\u001b[0;32m   (...)\u001b[0m\n\u001b[1;32m     10\u001b[0m \u001b[38;5;66;03m# ## save\u001b[39;00m\n\u001b[1;32m     11\u001b[0m \u001b[38;5;66;03m# model.save(\"./models/regression_insurance_meanabsoluteerror_keras.engine.sequential.Sequential.sav\", \"wb+\")\u001b[39;00m\n\u001b[0;32m---> 12\u001b[0m \u001b[43mtrain_regression_models\u001b[49m\u001b[43m(\u001b[49m\u001b[43mtf\u001b[49m\u001b[38;5;241;43m.\u001b[39;49m\u001b[43mkeras\u001b[49m\u001b[38;5;241;43m.\u001b[39;49m\u001b[43mlosses\u001b[49m\u001b[38;5;241;43m.\u001b[39;49m\u001b[43mMeanAbsoluteError\u001b[49m\u001b[43m(\u001b[49m\u001b[43m)\u001b[49m\u001b[43m,\u001b[49m\u001b[43m \u001b[49m\u001b[38;5;124;43m\"\u001b[39;49m\u001b[38;5;124;43mmeanabsoluteerror\u001b[39;49m\u001b[38;5;124;43m\"\u001b[39;49m\u001b[43m)\u001b[49m\n",
      "Cell \u001b[0;32mIn[12], line 18\u001b[0m, in \u001b[0;36mtrain_regression_models\u001b[0;34m(loss, prefix)\u001b[0m\n\u001b[1;32m     16\u001b[0m model\u001b[38;5;241m.\u001b[39madd(Dense(\u001b[38;5;241m1\u001b[39m, activation\u001b[38;5;241m=\u001b[39m\u001b[38;5;124m'\u001b[39m\u001b[38;5;124msigmoid\u001b[39m\u001b[38;5;124m'\u001b[39m))\n\u001b[1;32m     17\u001b[0m model\u001b[38;5;241m.\u001b[39mcompile(loss\u001b[38;5;241m=\u001b[39mloss, optimizer\u001b[38;5;241m=\u001b[39m\u001b[38;5;124m'\u001b[39m\u001b[38;5;124madam\u001b[39m\u001b[38;5;124m'\u001b[39m)\n\u001b[0;32m---> 18\u001b[0m \u001b[43mmodel\u001b[49m\u001b[38;5;241;43m.\u001b[39;49m\u001b[43mfit\u001b[49m\u001b[43m(\u001b[49m\u001b[43mregression_X_train\u001b[49m\u001b[43m,\u001b[49m\u001b[43m \u001b[49m\u001b[43mregression_y_train\u001b[49m\u001b[43m,\u001b[49m\u001b[43m \u001b[49m\u001b[43mepochs\u001b[49m\u001b[38;5;241;43m=\u001b[39;49m\u001b[38;5;241;43m10\u001b[39;49m\u001b[43m,\u001b[49m\u001b[43m \u001b[49m\u001b[43mbatch_size\u001b[49m\u001b[38;5;241;43m=\u001b[39;49m\u001b[38;5;241;43m32\u001b[39;49m\u001b[43m,\u001b[49m\u001b[43m \u001b[49m\u001b[43mvalidation_split\u001b[49m\u001b[38;5;241;43m=\u001b[39;49m\u001b[38;5;241;43m0.1\u001b[39;49m\u001b[43m)\u001b[49m\n\u001b[1;32m     20\u001b[0m model\u001b[38;5;241m.\u001b[39msave(\u001b[38;5;124m\"\u001b[39m\u001b[38;5;124m./models/regression_insurance_\u001b[39m\u001b[38;5;132;01m{0}\u001b[39;00m\u001b[38;5;124m_keras.engine.sequential.Sequential.sav\u001b[39m\u001b[38;5;124m\"\u001b[39m\u001b[38;5;241m.\u001b[39mformat(prefix), \u001b[38;5;124m\"\u001b[39m\u001b[38;5;124mwb+\u001b[39m\u001b[38;5;124m\"\u001b[39m)\n",
      "File \u001b[0;32m~/miniconda3/envs/research/lib/python3.10/site-packages/keras/utils/traceback_utils.py:70\u001b[0m, in \u001b[0;36mfilter_traceback.<locals>.error_handler\u001b[0;34m(*args, **kwargs)\u001b[0m\n\u001b[1;32m     67\u001b[0m     filtered_tb \u001b[38;5;241m=\u001b[39m _process_traceback_frames(e\u001b[38;5;241m.\u001b[39m__traceback__)\n\u001b[1;32m     68\u001b[0m     \u001b[38;5;66;03m# To get the full stack trace, call:\u001b[39;00m\n\u001b[1;32m     69\u001b[0m     \u001b[38;5;66;03m# `tf.debugging.disable_traceback_filtering()`\u001b[39;00m\n\u001b[0;32m---> 70\u001b[0m     \u001b[38;5;28;01mraise\u001b[39;00m e\u001b[38;5;241m.\u001b[39mwith_traceback(filtered_tb) \u001b[38;5;28;01mfrom\u001b[39;00m \u001b[38;5;28mNone\u001b[39m\n\u001b[1;32m     71\u001b[0m \u001b[38;5;28;01mfinally\u001b[39;00m:\n\u001b[1;32m     72\u001b[0m     \u001b[38;5;28;01mdel\u001b[39;00m filtered_tb\n",
      "File \u001b[0;32m~/miniconda3/envs/research/lib/python3.10/site-packages/tensorflow/python/eager/execute.py:52\u001b[0m, in \u001b[0;36mquick_execute\u001b[0;34m(op_name, num_outputs, inputs, attrs, ctx, name)\u001b[0m\n\u001b[1;32m     50\u001b[0m \u001b[38;5;28;01mtry\u001b[39;00m:\n\u001b[1;32m     51\u001b[0m   ctx\u001b[38;5;241m.\u001b[39mensure_initialized()\n\u001b[0;32m---> 52\u001b[0m   tensors \u001b[38;5;241m=\u001b[39m pywrap_tfe\u001b[38;5;241m.\u001b[39mTFE_Py_Execute(ctx\u001b[38;5;241m.\u001b[39m_handle, device_name, op_name,\n\u001b[1;32m     53\u001b[0m                                       inputs, attrs, num_outputs)\n\u001b[1;32m     54\u001b[0m \u001b[38;5;28;01mexcept\u001b[39;00m core\u001b[38;5;241m.\u001b[39m_NotOkStatusException \u001b[38;5;28;01mas\u001b[39;00m e:\n\u001b[1;32m     55\u001b[0m   \u001b[38;5;28;01mif\u001b[39;00m name \u001b[38;5;129;01mis\u001b[39;00m \u001b[38;5;129;01mnot\u001b[39;00m \u001b[38;5;28;01mNone\u001b[39;00m:\n",
      "\u001b[0;31mInternalError\u001b[0m: Graph execution error:\n\nDetected at node 'StatefulPartitionedCall_6' defined at (most recent call last):\n    File \"/home/seokmin/miniconda3/envs/research/lib/python3.10/runpy.py\", line 196, in _run_module_as_main\n      return _run_code(code, main_globals, None,\n    File \"/home/seokmin/miniconda3/envs/research/lib/python3.10/runpy.py\", line 86, in _run_code\n      exec(code, run_globals)\n    File \"/home/seokmin/miniconda3/envs/research/lib/python3.10/site-packages/ipykernel_launcher.py\", line 17, in <module>\n      app.launch_new_instance()\n    File \"/home/seokmin/miniconda3/envs/research/lib/python3.10/site-packages/traitlets/config/application.py\", line 1043, in launch_instance\n      app.start()\n    File \"/home/seokmin/miniconda3/envs/research/lib/python3.10/site-packages/ipykernel/kernelapp.py\", line 725, in start\n      self.io_loop.start()\n    File \"/home/seokmin/miniconda3/envs/research/lib/python3.10/site-packages/tornado/platform/asyncio.py\", line 215, in start\n      self.asyncio_loop.run_forever()\n    File \"/home/seokmin/miniconda3/envs/research/lib/python3.10/asyncio/base_events.py\", line 603, in run_forever\n      self._run_once()\n    File \"/home/seokmin/miniconda3/envs/research/lib/python3.10/asyncio/base_events.py\", line 1906, in _run_once\n      handle._run()\n    File \"/home/seokmin/miniconda3/envs/research/lib/python3.10/asyncio/events.py\", line 80, in _run\n      self._context.run(self._callback, *self._args)\n    File \"/home/seokmin/miniconda3/envs/research/lib/python3.10/site-packages/ipykernel/kernelbase.py\", line 513, in dispatch_queue\n      await self.process_one()\n    File \"/home/seokmin/miniconda3/envs/research/lib/python3.10/site-packages/ipykernel/kernelbase.py\", line 502, in process_one\n      await dispatch(*args)\n    File \"/home/seokmin/miniconda3/envs/research/lib/python3.10/site-packages/ipykernel/kernelbase.py\", line 409, in dispatch_shell\n      await result\n    File \"/home/seokmin/miniconda3/envs/research/lib/python3.10/site-packages/ipykernel/kernelbase.py\", line 729, in execute_request\n      reply_content = await reply_content\n    File \"/home/seokmin/miniconda3/envs/research/lib/python3.10/site-packages/ipykernel/ipkernel.py\", line 422, in do_execute\n      res = shell.run_cell(\n    File \"/home/seokmin/miniconda3/envs/research/lib/python3.10/site-packages/ipykernel/zmqshell.py\", line 540, in run_cell\n      return super().run_cell(*args, **kwargs)\n    File \"/home/seokmin/miniconda3/envs/research/lib/python3.10/site-packages/IPython/core/interactiveshell.py\", line 2961, in run_cell\n      result = self._run_cell(\n    File \"/home/seokmin/miniconda3/envs/research/lib/python3.10/site-packages/IPython/core/interactiveshell.py\", line 3016, in _run_cell\n      result = runner(coro)\n    File \"/home/seokmin/miniconda3/envs/research/lib/python3.10/site-packages/IPython/core/async_helpers.py\", line 129, in _pseudo_sync_runner\n      coro.send(None)\n    File \"/home/seokmin/miniconda3/envs/research/lib/python3.10/site-packages/IPython/core/interactiveshell.py\", line 3221, in run_cell_async\n      has_raised = await self.run_ast_nodes(code_ast.body, cell_name,\n    File \"/home/seokmin/miniconda3/envs/research/lib/python3.10/site-packages/IPython/core/interactiveshell.py\", line 3400, in run_ast_nodes\n      if await self.run_code(code, result, async_=asy):\n    File \"/home/seokmin/miniconda3/envs/research/lib/python3.10/site-packages/IPython/core/interactiveshell.py\", line 3460, in run_code\n      exec(code_obj, self.user_global_ns, self.user_ns)\n    File \"/tmp/ipykernel_17217/3534090025.py\", line 12, in <module>\n      train_regression_models(tf.keras.losses.MeanAbsoluteError(), \"meanabsoluteerror\")\n    File \"/tmp/ipykernel_17217/3920664380.py\", line 18, in train_regression_models\n      model.fit(regression_X_train, regression_y_train, epochs=10, batch_size=32, validation_split=0.1)\n    File \"/home/seokmin/miniconda3/envs/research/lib/python3.10/site-packages/keras/utils/traceback_utils.py\", line 65, in error_handler\n      return fn(*args, **kwargs)\n    File \"/home/seokmin/miniconda3/envs/research/lib/python3.10/site-packages/keras/engine/training.py\", line 1650, in fit\n      tmp_logs = self.train_function(iterator)\n    File \"/home/seokmin/miniconda3/envs/research/lib/python3.10/site-packages/keras/engine/training.py\", line 1249, in train_function\n      return step_function(self, iterator)\n    File \"/home/seokmin/miniconda3/envs/research/lib/python3.10/site-packages/keras/engine/training.py\", line 1233, in step_function\n      outputs = model.distribute_strategy.run(run_step, args=(data,))\n    File \"/home/seokmin/miniconda3/envs/research/lib/python3.10/site-packages/keras/engine/training.py\", line 1222, in run_step\n      outputs = model.train_step(data)\n    File \"/home/seokmin/miniconda3/envs/research/lib/python3.10/site-packages/keras/engine/training.py\", line 1027, in train_step\n      self.optimizer.minimize(loss, self.trainable_variables, tape=tape)\n    File \"/home/seokmin/miniconda3/envs/research/lib/python3.10/site-packages/keras/optimizers/optimizer_experimental/optimizer.py\", line 527, in minimize\n      self.apply_gradients(grads_and_vars)\n    File \"/home/seokmin/miniconda3/envs/research/lib/python3.10/site-packages/keras/optimizers/optimizer_experimental/optimizer.py\", line 1140, in apply_gradients\n      return super().apply_gradients(grads_and_vars, name=name)\n    File \"/home/seokmin/miniconda3/envs/research/lib/python3.10/site-packages/keras/optimizers/optimizer_experimental/optimizer.py\", line 634, in apply_gradients\n      iteration = self._internal_apply_gradients(grads_and_vars)\n    File \"/home/seokmin/miniconda3/envs/research/lib/python3.10/site-packages/keras/optimizers/optimizer_experimental/optimizer.py\", line 1166, in _internal_apply_gradients\n      return tf.__internal__.distribute.interim.maybe_merge_call(\n    File \"/home/seokmin/miniconda3/envs/research/lib/python3.10/site-packages/keras/optimizers/optimizer_experimental/optimizer.py\", line 1216, in _distributed_apply_gradients_fn\n      distribution.extended.update(\n    File \"/home/seokmin/miniconda3/envs/research/lib/python3.10/site-packages/keras/optimizers/optimizer_experimental/optimizer.py\", line 1211, in apply_grad_to_update_var\n      return self._update_step_xla(grad, var, id(self._var_key(var)))\nNode: 'StatefulPartitionedCall_6'\nlibdevice not found at ./libdevice.10.bc\n\t [[{{node StatefulPartitionedCall_6}}]] [Op:__inference_train_function_2143]"
     ]
    }
   ],
   "source": [
    "# input_size = len(regression_X_train.iloc[0])\n",
    "# model = Sequential()\n",
    "# model.add(Dense(200, input_shape=(input_size,), activation='relu'))\n",
    "# model.add(Dense(50, activation='relu'))\n",
    "# model.add(Dense(25, activation='relu'))\n",
    "# model.add(Dense(1, activation='sigmoid'))\n",
    "# model.compile(loss=tf.keras.losses.MeanAbsoluteError(), optimizer='adam')\n",
    "# model.fit(regression_X_train, regression_y_train, epochs=10, batch_size=32, validation_split=0.1)\n",
    "\n",
    "# ## save\n",
    "# model.save(\"./models/regression_insurance_meanabsoluteerror_keras.engine.sequential.Sequential.sav\", \"wb+\")\n",
    "train_regression_models(tf.keras.losses.MeanAbsoluteError(), \"meanabsoluteerror\")"
   ]
  },
  {
   "cell_type": "markdown",
   "id": "3f51468a-4cdb-4659-880c-25be8d45aa1d",
   "metadata": {},
   "source": [
    "### Regression - Sequential - MeanSquaredError"
   ]
  },
  {
   "cell_type": "code",
   "execution_count": 18,
   "id": "8ed53f66-d114-436f-960c-794f28dca748",
   "metadata": {
    "tags": []
   },
   "outputs": [
    {
     "name": "stdout",
     "output_type": "stream",
     "text": [
      "Epoch 1/10\n",
      "31/31 [==============================] - 1s 5ms/step - loss: 331194368.0000 - val_loss: 243421744.0000\n",
      "Epoch 2/10\n",
      "31/31 [==============================] - 0s 3ms/step - loss: 331194368.0000 - val_loss: 243421744.0000\n",
      "Epoch 3/10\n",
      "31/31 [==============================] - 0s 2ms/step - loss: 331194336.0000 - val_loss: 243421744.0000\n",
      "Epoch 4/10\n",
      "31/31 [==============================] - 0s 2ms/step - loss: 331194368.0000 - val_loss: 243421744.0000\n",
      "Epoch 5/10\n",
      "31/31 [==============================] - 0s 2ms/step - loss: 331194368.0000 - val_loss: 243421744.0000\n",
      "Epoch 6/10\n",
      "31/31 [==============================] - 0s 3ms/step - loss: 331194368.0000 - val_loss: 243421744.0000\n",
      "Epoch 7/10\n",
      "31/31 [==============================] - 0s 2ms/step - loss: 331194368.0000 - val_loss: 243421744.0000\n",
      "Epoch 8/10\n",
      "31/31 [==============================] - 0s 3ms/step - loss: 331194368.0000 - val_loss: 243421744.0000\n",
      "Epoch 9/10\n",
      "31/31 [==============================] - 0s 3ms/step - loss: 331194336.0000 - val_loss: 243421744.0000\n",
      "Epoch 10/10\n",
      "31/31 [==============================] - 0s 3ms/step - loss: 331194336.0000 - val_loss: 243421744.0000\n"
     ]
    },
    {
     "name": "stderr",
     "output_type": "stream",
     "text": [
      "WARNING:absl:Found untraced functions such as _update_step_xla while saving (showing 1 of 1). These functions will not be directly callable after loading.\n"
     ]
    },
    {
     "name": "stdout",
     "output_type": "stream",
     "text": [
      "INFO:tensorflow:Assets written to: ./models/tensorflow/2.12.0/regression_insurance_meansquareerror_keras.engine.sequential.Sequential.sav/assets\n"
     ]
    },
    {
     "name": "stderr",
     "output_type": "stream",
     "text": [
      "INFO:tensorflow:Assets written to: ./models/tensorflow/2.12.0/regression_insurance_meansquareerror_keras.engine.sequential.Sequential.sav/assets\n"
     ]
    }
   ],
   "source": [
    "input_size = len(regression_X_train.iloc[0])\n",
    "model = Sequential()\n",
    "model.add(Dense(200, input_shape=(input_size,), activation='relu'))\n",
    "model.add(Dense(50, activation='relu'))\n",
    "model.add(Dense(25, activation='relu'))\n",
    "model.add(Dense(1, activation='sigmoid'))\n",
    "model.compile(loss=tf.keras.losses.MeanSquaredError(), optimizer='adam')\n",
    "model.fit(regression_X_train, regression_y_train, epochs=10, batch_size=32, validation_split=0.1)\n",
    "\n",
    "## save\n",
    "model.save(\"{0}/regression_insurance_meansquareerror_keras.engine.sequential.Sequential.sav\".format(save_dir), \"wb+\")"
   ]
  },
  {
   "cell_type": "markdown",
   "id": "8b35a985-0239-4286-8e22-d3354b34fc8d",
   "metadata": {},
   "source": [
    "### Regression - Sequential - Hinge"
   ]
  },
  {
   "cell_type": "code",
   "execution_count": 19,
   "id": "b204a684-baa3-472e-ab56-ee3f1413eea9",
   "metadata": {
    "tags": []
   },
   "outputs": [
    {
     "name": "stdout",
     "output_type": "stream",
     "text": [
      "Epoch 1/10\n",
      "31/31 [==============================] - 1s 5ms/step - loss: 0.0000e+00 - val_loss: 0.0000e+00\n",
      "Epoch 2/10\n",
      "31/31 [==============================] - 0s 3ms/step - loss: 0.0000e+00 - val_loss: 0.0000e+00\n",
      "Epoch 3/10\n",
      "31/31 [==============================] - 0s 3ms/step - loss: 0.0000e+00 - val_loss: 0.0000e+00\n",
      "Epoch 4/10\n",
      "31/31 [==============================] - 0s 3ms/step - loss: 0.0000e+00 - val_loss: 0.0000e+00\n",
      "Epoch 5/10\n",
      "31/31 [==============================] - 0s 2ms/step - loss: 0.0000e+00 - val_loss: 0.0000e+00\n",
      "Epoch 6/10\n",
      "31/31 [==============================] - 0s 2ms/step - loss: 0.0000e+00 - val_loss: 0.0000e+00\n",
      "Epoch 7/10\n",
      "31/31 [==============================] - 0s 2ms/step - loss: 0.0000e+00 - val_loss: 0.0000e+00\n",
      "Epoch 8/10\n",
      "31/31 [==============================] - 0s 3ms/step - loss: 0.0000e+00 - val_loss: 0.0000e+00\n",
      "Epoch 9/10\n",
      "31/31 [==============================] - 0s 2ms/step - loss: 0.0000e+00 - val_loss: 0.0000e+00\n",
      "Epoch 10/10\n",
      "31/31 [==============================] - 0s 2ms/step - loss: 0.0000e+00 - val_loss: 0.0000e+00\n"
     ]
    },
    {
     "name": "stderr",
     "output_type": "stream",
     "text": [
      "WARNING:absl:Found untraced functions such as _update_step_xla while saving (showing 1 of 1). These functions will not be directly callable after loading.\n"
     ]
    },
    {
     "name": "stdout",
     "output_type": "stream",
     "text": [
      "INFO:tensorflow:Assets written to: ./models/tensorflow/2.12.0/regression_insurance_hinge_keras.engine.sequential.Sequential.sav/assets\n"
     ]
    },
    {
     "name": "stderr",
     "output_type": "stream",
     "text": [
      "INFO:tensorflow:Assets written to: ./models/tensorflow/2.12.0/regression_insurance_hinge_keras.engine.sequential.Sequential.sav/assets\n"
     ]
    }
   ],
   "source": [
    "input_size = len(regression_X_train.iloc[0])\n",
    "model = Sequential()\n",
    "model.add(Dense(200, input_shape=(input_size,), activation='relu'))\n",
    "model.add(Dense(50, activation='relu'))\n",
    "model.add(Dense(25, activation='relu'))\n",
    "model.add(Dense(1, activation='sigmoid'))\n",
    "model.compile(loss=tf.keras.losses.Hinge(), optimizer='adam')\n",
    "model.fit(regression_X_train, regression_y_train, epochs=10, batch_size=32, validation_split=0.1)\n",
    "\n",
    "## save\n",
    "model.save(\"{0}/regression_insurance_hinge_keras.engine.sequential.Sequential.sav\".format(save_dir), \"wb+\")"
   ]
  },
  {
   "cell_type": "markdown",
   "id": "629153f6-0f2a-4b82-adb3-d12a395b8c98",
   "metadata": {},
   "source": [
    "### Regression - Sequential - Huber"
   ]
  },
  {
   "cell_type": "code",
   "execution_count": 20,
   "id": "5b323db3-fa8a-4237-a327-97ae55b47a41",
   "metadata": {
    "tags": []
   },
   "outputs": [
    {
     "name": "stdout",
     "output_type": "stream",
     "text": [
      "Epoch 1/10\n",
      "31/31 [==============================] - 1s 5ms/step - loss: 13460.7061 - val_loss: 11799.9805\n",
      "Epoch 2/10\n",
      "31/31 [==============================] - 0s 2ms/step - loss: 13460.6748 - val_loss: 11799.9805\n",
      "Epoch 3/10\n",
      "31/31 [==============================] - 0s 2ms/step - loss: 13460.6748 - val_loss: 11799.9805\n",
      "Epoch 4/10\n",
      "31/31 [==============================] - 0s 3ms/step - loss: 13460.6758 - val_loss: 11799.9805\n",
      "Epoch 5/10\n",
      "31/31 [==============================] - 0s 2ms/step - loss: 13460.6758 - val_loss: 11799.9805\n",
      "Epoch 6/10\n",
      "31/31 [==============================] - 0s 2ms/step - loss: 13460.6777 - val_loss: 11799.9805\n",
      "Epoch 7/10\n",
      "31/31 [==============================] - 0s 3ms/step - loss: 13460.6748 - val_loss: 11799.9805\n",
      "Epoch 8/10\n",
      "31/31 [==============================] - 0s 2ms/step - loss: 13460.6748 - val_loss: 11799.9805\n",
      "Epoch 9/10\n",
      "31/31 [==============================] - 0s 2ms/step - loss: 13460.6748 - val_loss: 11799.9805\n",
      "Epoch 10/10\n",
      "31/31 [==============================] - 0s 2ms/step - loss: 13460.6758 - val_loss: 11799.9805\n"
     ]
    },
    {
     "name": "stderr",
     "output_type": "stream",
     "text": [
      "WARNING:absl:Found untraced functions such as _update_step_xla while saving (showing 1 of 1). These functions will not be directly callable after loading.\n"
     ]
    },
    {
     "name": "stdout",
     "output_type": "stream",
     "text": [
      "INFO:tensorflow:Assets written to: ./models/tensorflow/2.12.0/regression_insurance_huber_keras.engine.sequential.Sequential.sav/assets\n"
     ]
    },
    {
     "name": "stderr",
     "output_type": "stream",
     "text": [
      "INFO:tensorflow:Assets written to: ./models/tensorflow/2.12.0/regression_insurance_huber_keras.engine.sequential.Sequential.sav/assets\n"
     ]
    }
   ],
   "source": [
    "input_size = len(regression_X_train.iloc[0])\n",
    "model = Sequential()\n",
    "model.add(Dense(200, input_shape=(input_size,), activation='relu'))\n",
    "model.add(Dense(50, activation='relu'))\n",
    "model.add(Dense(25, activation='relu'))\n",
    "model.add(Dense(1, activation='sigmoid'))\n",
    "model.compile(loss=tf.keras.losses.Huber(), optimizer='adam')\n",
    "model.fit(regression_X_train, regression_y_train, epochs=10, batch_size=32, validation_split=0.1)\n",
    "\n",
    "## save\n",
    "model.save(\"{0}/regression_insurance_huber_keras.engine.sequential.Sequential.sav\".format(save_dir), \"wb+\")"
   ]
  },
  {
   "cell_type": "markdown",
   "id": "e8faa3f2-35c4-4579-9f62-c16ccd76f6e3",
   "metadata": {},
   "source": [
    "### Regression - Sequential - Poisson"
   ]
  },
  {
   "cell_type": "code",
   "execution_count": 21,
   "id": "0080a112-531c-4487-8ccc-b5a96df3955a",
   "metadata": {
    "tags": []
   },
   "outputs": [
    {
     "name": "stdout",
     "output_type": "stream",
     "text": [
      "Epoch 1/10\n",
      "31/31 [==============================] - 1s 5ms/step - loss: 28.8265 - val_loss: 1.0066\n",
      "Epoch 2/10\n",
      "31/31 [==============================] - 0s 2ms/step - loss: 1.0053 - val_loss: 1.0026\n",
      "Epoch 3/10\n",
      "31/31 [==============================] - 0s 2ms/step - loss: 1.0020 - val_loss: 1.0005\n",
      "Epoch 4/10\n",
      "31/31 [==============================] - 0s 2ms/step - loss: 1.0001 - val_loss: 0.9994\n",
      "Epoch 5/10\n",
      "31/31 [==============================] - 0s 3ms/step - loss: 0.9992 - val_loss: 0.9991\n",
      "Epoch 6/10\n",
      "31/31 [==============================] - 0s 3ms/step - loss: 0.9989 - val_loss: 0.9989\n",
      "Epoch 7/10\n",
      "31/31 [==============================] - 0s 2ms/step - loss: 0.9987 - val_loss: 0.9988\n",
      "Epoch 8/10\n",
      "31/31 [==============================] - 0s 3ms/step - loss: 0.9986 - val_loss: 0.9987\n",
      "Epoch 9/10\n",
      "31/31 [==============================] - 0s 3ms/step - loss: 0.9986 - val_loss: 0.9987\n",
      "Epoch 10/10\n",
      "31/31 [==============================] - 0s 2ms/step - loss: 0.9985 - val_loss: 0.9987\n"
     ]
    },
    {
     "name": "stderr",
     "output_type": "stream",
     "text": [
      "WARNING:absl:Found untraced functions such as _update_step_xla while saving (showing 1 of 1). These functions will not be directly callable after loading.\n"
     ]
    },
    {
     "name": "stdout",
     "output_type": "stream",
     "text": [
      "INFO:tensorflow:Assets written to: ./models/tensorflow/2.12.0/regression_insurance_poisson_keras.engine.sequential.Sequential.sav/assets\n"
     ]
    },
    {
     "name": "stderr",
     "output_type": "stream",
     "text": [
      "INFO:tensorflow:Assets written to: ./models/tensorflow/2.12.0/regression_insurance_poisson_keras.engine.sequential.Sequential.sav/assets\n"
     ]
    }
   ],
   "source": [
    "input_size = len(regression_X_train.iloc[0])\n",
    "model = Sequential()\n",
    "model.add(Dense(200, input_shape=(input_size,), activation='relu'))\n",
    "model.add(Dense(50, activation='relu'))\n",
    "model.add(Dense(25, activation='relu'))\n",
    "model.add(Dense(1, activation='sigmoid'))\n",
    "model.compile(loss=tf.keras.losses.Poisson(), optimizer='adam')\n",
    "model.fit(regression_X_train, regression_y_train, epochs=10, batch_size=32, validation_split=0.1)\n",
    "\n",
    "## save\n",
    "model.save(\"{0}/regression_insurance_poisson_keras.engine.sequential.Sequential.sav\".format(save_dir), \"wb+\")"
   ]
  },
  {
   "cell_type": "markdown",
   "id": "c181e6e8-7a22-4028-8576-fe2a2ae8a9fe",
   "metadata": {},
   "source": [
    "### Regression - Sequential - KLDivergence"
   ]
  },
  {
   "cell_type": "code",
   "execution_count": 22,
   "id": "dd41edde-d71d-4b10-960d-53d2d9d2d4e4",
   "metadata": {
    "tags": []
   },
   "outputs": [
    {
     "name": "stdout",
     "output_type": "stream",
     "text": [
      "Epoch 1/10\n",
      "31/31 [==============================] - 1s 5ms/step - loss: 0.2997 - val_loss: 5.9577e-04\n",
      "Epoch 2/10\n",
      "31/31 [==============================] - 0s 3ms/step - loss: 3.3523e-04 - val_loss: 1.5021e-04\n",
      "Epoch 3/10\n",
      "31/31 [==============================] - 0s 2ms/step - loss: 1.0116e-04 - val_loss: 4.1161e-05\n",
      "Epoch 4/10\n",
      "31/31 [==============================] - 0s 3ms/step - loss: 2.4103e-05 - val_loss: 8.8524e-06\n",
      "Epoch 5/10\n",
      "31/31 [==============================] - 0s 3ms/step - loss: 6.3317e-06 - val_loss: 3.2654e-06\n",
      "Epoch 6/10\n",
      "31/31 [==============================] - 0s 2ms/step - loss: 2.8656e-06 - val_loss: 1.5820e-06\n",
      "Epoch 7/10\n",
      "31/31 [==============================] - 0s 3ms/step - loss: 1.7076e-06 - val_loss: 1.0940e-06\n",
      "Epoch 8/10\n",
      "31/31 [==============================] - 0s 2ms/step - loss: 1.2343e-06 - val_loss: 7.8656e-07\n",
      "Epoch 9/10\n",
      "31/31 [==============================] - 0s 3ms/step - loss: 9.2928e-07 - val_loss: 5.9270e-07\n",
      "Epoch 10/10\n",
      "31/31 [==============================] - 0s 3ms/step - loss: 7.2218e-07 - val_loss: 4.6569e-07\n"
     ]
    },
    {
     "name": "stderr",
     "output_type": "stream",
     "text": [
      "WARNING:absl:Found untraced functions such as _update_step_xla while saving (showing 1 of 1). These functions will not be directly callable after loading.\n"
     ]
    },
    {
     "name": "stdout",
     "output_type": "stream",
     "text": [
      "INFO:tensorflow:Assets written to: ./models/tensorflow/2.12.0/regression_insurance_kldivergence_keras.engine.sequential.Sequential.sav/assets\n"
     ]
    },
    {
     "name": "stderr",
     "output_type": "stream",
     "text": [
      "INFO:tensorflow:Assets written to: ./models/tensorflow/2.12.0/regression_insurance_kldivergence_keras.engine.sequential.Sequential.sav/assets\n"
     ]
    }
   ],
   "source": [
    "input_size = len(regression_X_train.iloc[0])\n",
    "model = Sequential()\n",
    "model.add(Dense(200, input_shape=(input_size,), activation='relu'))\n",
    "model.add(Dense(50, activation='relu'))\n",
    "model.add(Dense(25, activation='relu'))\n",
    "model.add(Dense(1, activation='sigmoid'))\n",
    "model.compile(loss=tf.keras.losses.KLDivergence(), optimizer='adam')\n",
    "model.fit(regression_X_train, regression_y_train, epochs=10, batch_size=32, validation_split=0.1)\n",
    "\n",
    "## save\n",
    "model.save(\"{0}/regression_insurance_kldivergence_keras.engine.sequential.Sequential.sav\".format(save_dir), \"wb+\")"
   ]
  },
  {
   "cell_type": "markdown",
   "id": "a49d5d81-0684-46a0-924b-a6e96882499e",
   "metadata": {},
   "source": [
    "### Regression - Sequential - LogCosh"
   ]
  },
  {
   "cell_type": "code",
   "execution_count": 23,
   "id": "ded4a2e7-486a-446a-b093-8b220fb7740d",
   "metadata": {
    "tags": []
   },
   "outputs": [
    {
     "name": "stdout",
     "output_type": "stream",
     "text": [
      "Epoch 1/10\n",
      "31/31 [==============================] - 1s 5ms/step - loss: 13460.5020 - val_loss: 11799.7861\n",
      "Epoch 2/10\n",
      "31/31 [==============================] - 0s 2ms/step - loss: 13460.4844 - val_loss: 11799.7861\n",
      "Epoch 3/10\n",
      "31/31 [==============================] - 0s 2ms/step - loss: 13460.4844 - val_loss: 11799.7861\n",
      "Epoch 4/10\n",
      "31/31 [==============================] - 0s 2ms/step - loss: 13460.4824 - val_loss: 11799.7861\n",
      "Epoch 5/10\n",
      "31/31 [==============================] - 0s 3ms/step - loss: 13460.4844 - val_loss: 11799.7861\n",
      "Epoch 6/10\n",
      "31/31 [==============================] - 0s 2ms/step - loss: 13460.4844 - val_loss: 11799.7861\n",
      "Epoch 7/10\n",
      "31/31 [==============================] - 0s 3ms/step - loss: 13460.4844 - val_loss: 11799.7861\n",
      "Epoch 8/10\n",
      "31/31 [==============================] - 0s 3ms/step - loss: 13460.4814 - val_loss: 11799.7861\n",
      "Epoch 9/10\n",
      "31/31 [==============================] - 0s 3ms/step - loss: 13460.4814 - val_loss: 11799.7861\n",
      "Epoch 10/10\n",
      "31/31 [==============================] - 0s 2ms/step - loss: 13460.4805 - val_loss: 11799.7861\n"
     ]
    },
    {
     "name": "stderr",
     "output_type": "stream",
     "text": [
      "WARNING:absl:Found untraced functions such as _update_step_xla while saving (showing 1 of 1). These functions will not be directly callable after loading.\n"
     ]
    },
    {
     "name": "stdout",
     "output_type": "stream",
     "text": [
      "INFO:tensorflow:Assets written to: ./models/tensorflow/2.12.0/regression_insurance_logcosh_keras.engine.sequential.Sequential.sav/assets\n"
     ]
    },
    {
     "name": "stderr",
     "output_type": "stream",
     "text": [
      "INFO:tensorflow:Assets written to: ./models/tensorflow/2.12.0/regression_insurance_logcosh_keras.engine.sequential.Sequential.sav/assets\n"
     ]
    }
   ],
   "source": [
    "input_size = len(regression_X_train.iloc[0])\n",
    "model = Sequential()\n",
    "model.add(Dense(200, input_shape=(input_size,), activation='relu'))\n",
    "model.add(Dense(50, activation='relu'))\n",
    "model.add(Dense(25, activation='relu'))\n",
    "model.add(Dense(1, activation='sigmoid'))\n",
    "model.compile(loss=tf.keras.losses.LogCosh(), optimizer='adam')\n",
    "model.fit(regression_X_train, regression_y_train, epochs=10, batch_size=32, validation_split=0.1)\n",
    "\n",
    "## save\n",
    "model.save(\"{0}/regression_insurance_logcosh_keras.engine.sequential.Sequential.sav\".format(save_dir), \"wb+\")"
   ]
  },
  {
   "cell_type": "markdown",
   "id": "a80b0126-7c7d-460b-ac9c-a1162f0a9a87",
   "metadata": {},
   "source": [
    "### Regression - Sequential - SquaredHinge"
   ]
  },
  {
   "cell_type": "code",
   "execution_count": 24,
   "id": "657ea149-7158-4a1f-b9e9-03cb51221858",
   "metadata": {
    "tags": []
   },
   "outputs": [
    {
     "name": "stdout",
     "output_type": "stream",
     "text": [
      "Epoch 1/10\n",
      "31/31 [==============================] - 1s 5ms/step - loss: 0.0000e+00 - val_loss: 0.0000e+00\n",
      "Epoch 2/10\n",
      "31/31 [==============================] - 0s 3ms/step - loss: 0.0000e+00 - val_loss: 0.0000e+00\n",
      "Epoch 3/10\n",
      "31/31 [==============================] - 0s 2ms/step - loss: 0.0000e+00 - val_loss: 0.0000e+00\n",
      "Epoch 4/10\n",
      "31/31 [==============================] - 0s 2ms/step - loss: 0.0000e+00 - val_loss: 0.0000e+00\n",
      "Epoch 5/10\n",
      "31/31 [==============================] - 0s 2ms/step - loss: 0.0000e+00 - val_loss: 0.0000e+00\n",
      "Epoch 6/10\n",
      "31/31 [==============================] - 0s 3ms/step - loss: 0.0000e+00 - val_loss: 0.0000e+00\n",
      "Epoch 7/10\n",
      "31/31 [==============================] - 0s 3ms/step - loss: 0.0000e+00 - val_loss: 0.0000e+00\n",
      "Epoch 8/10\n",
      "31/31 [==============================] - 0s 3ms/step - loss: 0.0000e+00 - val_loss: 0.0000e+00\n",
      "Epoch 9/10\n",
      "31/31 [==============================] - 0s 2ms/step - loss: 0.0000e+00 - val_loss: 0.0000e+00\n",
      "Epoch 10/10\n",
      "31/31 [==============================] - 0s 2ms/step - loss: 0.0000e+00 - val_loss: 0.0000e+00\n"
     ]
    },
    {
     "name": "stderr",
     "output_type": "stream",
     "text": [
      "WARNING:absl:Found untraced functions such as _update_step_xla while saving (showing 1 of 1). These functions will not be directly callable after loading.\n"
     ]
    },
    {
     "name": "stdout",
     "output_type": "stream",
     "text": [
      "INFO:tensorflow:Assets written to: ./models/tensorflow/2.12.0/regression_insurance_squaredhinge_keras.engine.sequential.Sequential.sav/assets\n"
     ]
    },
    {
     "name": "stderr",
     "output_type": "stream",
     "text": [
      "INFO:tensorflow:Assets written to: ./models/tensorflow/2.12.0/regression_insurance_squaredhinge_keras.engine.sequential.Sequential.sav/assets\n"
     ]
    }
   ],
   "source": [
    "input_size = len(regression_X_train.iloc[0])\n",
    "model = Sequential()\n",
    "model.add(Dense(200, input_shape=(input_size,), activation='relu'))\n",
    "model.add(Dense(50, activation='relu'))\n",
    "model.add(Dense(25, activation='relu'))\n",
    "model.add(Dense(1, activation='sigmoid'))\n",
    "model.compile(loss=tf.keras.losses.SquaredHinge(), optimizer='adam')\n",
    "model.fit(regression_X_train, regression_y_train, epochs=10, batch_size=32, validation_split=0.1)\n",
    "\n",
    "## save\n",
    "model.save(\"{0}/regression_insurance_squaredhinge_keras.engine.sequential.Sequential.sav\".format(save_dir), \"wb+\")"
   ]
  },
  {
   "cell_type": "markdown",
   "id": "b8058a14-35ce-4cea-bb59-ea9a1e0d10d3",
   "metadata": {},
   "source": [
    "### Regression - Sequential - Mean Squared Log Error"
   ]
  },
  {
   "cell_type": "code",
   "execution_count": 25,
   "id": "b44ff5de-d54c-42be-9ecf-6a1a39bc6e2e",
   "metadata": {
    "tags": []
   },
   "outputs": [
    {
     "name": "stdout",
     "output_type": "stream",
     "text": [
      "Epoch 1/10\n",
      "31/31 [==============================] - 1s 5ms/step - loss: 71.7866 - val_loss: 70.4773\n",
      "Epoch 2/10\n",
      "31/31 [==============================] - 0s 2ms/step - loss: 71.7002 - val_loss: 70.4773\n",
      "Epoch 3/10\n",
      "31/31 [==============================] - 0s 3ms/step - loss: 71.7002 - val_loss: 70.4773\n",
      "Epoch 4/10\n",
      "31/31 [==============================] - 0s 2ms/step - loss: 71.7002 - val_loss: 70.4773\n",
      "Epoch 5/10\n",
      "31/31 [==============================] - 0s 2ms/step - loss: 71.7002 - val_loss: 70.4773\n",
      "Epoch 6/10\n",
      "31/31 [==============================] - 0s 2ms/step - loss: 71.7002 - val_loss: 70.4773\n",
      "Epoch 7/10\n",
      "31/31 [==============================] - 0s 2ms/step - loss: 71.7002 - val_loss: 70.4773\n",
      "Epoch 8/10\n",
      "31/31 [==============================] - 0s 3ms/step - loss: 71.7002 - val_loss: 70.4773\n",
      "Epoch 9/10\n",
      "31/31 [==============================] - 0s 2ms/step - loss: 71.7002 - val_loss: 70.4773\n",
      "Epoch 10/10\n",
      "31/31 [==============================] - 0s 3ms/step - loss: 71.7002 - val_loss: 70.4773\n"
     ]
    },
    {
     "name": "stderr",
     "output_type": "stream",
     "text": [
      "WARNING:absl:Found untraced functions such as _update_step_xla while saving (showing 1 of 1). These functions will not be directly callable after loading.\n"
     ]
    },
    {
     "name": "stdout",
     "output_type": "stream",
     "text": [
      "INFO:tensorflow:Assets written to: ./models/tensorflow/2.12.0/regression_insurance_meansquaredlogarithmicerror_keras.engine.sequential.Sequential.sav/assets\n"
     ]
    },
    {
     "name": "stderr",
     "output_type": "stream",
     "text": [
      "INFO:tensorflow:Assets written to: ./models/tensorflow/2.12.0/regression_insurance_meansquaredlogarithmicerror_keras.engine.sequential.Sequential.sav/assets\n"
     ]
    }
   ],
   "source": [
    "input_size = len(regression_X_train.iloc[0])\n",
    "model = Sequential()\n",
    "model.add(Dense(200, input_shape=(input_size,), activation='relu'))\n",
    "model.add(Dense(50, activation='relu'))\n",
    "model.add(Dense(25, activation='relu'))\n",
    "model.add(Dense(1, activation='sigmoid'))\n",
    "model.compile(loss=tf.keras.losses.MeanSquaredLogarithmicError(), optimizer='adam')\n",
    "model.fit(regression_X_train, regression_y_train, epochs=10, batch_size=32, validation_split=0.1)\n",
    "\n",
    "## save\n",
    "model.save(\"{0}/regression_insurance_meansquaredlogarithmicerror_keras.engine.sequential.Sequential.sav\".format(save_dir), \"wb+\")"
   ]
  },
  {
   "cell_type": "markdown",
   "id": "27544720-6a0d-43fb-a218-9b4b46720d2b",
   "metadata": {},
   "source": [
    "### Regression - Sequential - MAPE"
   ]
  },
  {
   "cell_type": "code",
   "execution_count": 26,
   "id": "8617db3d-15df-4ed5-bde0-02640033d552",
   "metadata": {
    "tags": []
   },
   "outputs": [
    {
     "name": "stdout",
     "output_type": "stream",
     "text": [
      "Epoch 1/10\n",
      "31/31 [==============================] - 1s 5ms/step - loss: 99.9834 - val_loss: 99.9836\n",
      "Epoch 2/10\n",
      "31/31 [==============================] - 0s 2ms/step - loss: 99.9833 - val_loss: 99.9836\n",
      "Epoch 3/10\n",
      "31/31 [==============================] - 0s 2ms/step - loss: 99.9833 - val_loss: 99.9836\n",
      "Epoch 4/10\n",
      "31/31 [==============================] - 0s 2ms/step - loss: 99.9832 - val_loss: 99.9836\n",
      "Epoch 5/10\n",
      "31/31 [==============================] - 0s 3ms/step - loss: 99.9833 - val_loss: 99.9836\n",
      "Epoch 6/10\n",
      "31/31 [==============================] - 0s 2ms/step - loss: 99.9833 - val_loss: 99.9836\n",
      "Epoch 7/10\n",
      "31/31 [==============================] - 0s 3ms/step - loss: 99.9832 - val_loss: 99.9836\n",
      "Epoch 8/10\n",
      "31/31 [==============================] - 0s 2ms/step - loss: 99.9833 - val_loss: 99.9836\n",
      "Epoch 9/10\n",
      "31/31 [==============================] - 0s 2ms/step - loss: 99.9832 - val_loss: 99.9836\n",
      "Epoch 10/10\n",
      "31/31 [==============================] - 0s 2ms/step - loss: 99.9833 - val_loss: 99.9836\n"
     ]
    },
    {
     "name": "stderr",
     "output_type": "stream",
     "text": [
      "WARNING:absl:Found untraced functions such as _update_step_xla while saving (showing 1 of 1). These functions will not be directly callable after loading.\n"
     ]
    },
    {
     "name": "stdout",
     "output_type": "stream",
     "text": [
      "INFO:tensorflow:Assets written to: ./models/tensorflow/2.12.0/regression_insurance_mape_keras.engine.sequential.Sequential.sav/assets\n"
     ]
    },
    {
     "name": "stderr",
     "output_type": "stream",
     "text": [
      "INFO:tensorflow:Assets written to: ./models/tensorflow/2.12.0/regression_insurance_mape_keras.engine.sequential.Sequential.sav/assets\n"
     ]
    }
   ],
   "source": [
    "input_size = len(regression_X_train.iloc[0])\n",
    "model = Sequential()\n",
    "model.add(Dense(200, input_shape=(input_size,), activation='relu'))\n",
    "model.add(Dense(50, activation='relu'))\n",
    "model.add(Dense(25, activation='relu'))\n",
    "model.add(Dense(1, activation='sigmoid'))\n",
    "model.compile(loss=tf.keras.losses.MeanAbsolutePercentageError(), optimizer='adam')\n",
    "model.fit(regression_X_train, regression_y_train, epochs=10, batch_size=32, validation_split=0.1)\n",
    "\n",
    "## save\n",
    "model.save(\"{0}/regression_insurance_mape_keras.engine.sequential.Sequential.sav\".format(save_dir), \"wb+\")"
   ]
  },
  {
   "cell_type": "markdown",
   "id": "147e0458-184c-44b5-8eb6-6236961ab7a2",
   "metadata": {},
   "source": [
    "## Tensorflow Decision Tree"
   ]
  },
  {
   "cell_type": "code",
   "execution_count": 2,
   "id": "5650d18d-a5ac-4410-8243-f5383678a855",
   "metadata": {
    "tags": []
   },
   "outputs": [],
   "source": [
    "import tensorflow_decision_forests as tfdf"
   ]
  },
  {
   "cell_type": "markdown",
   "id": "f6b26fc9-74df-4c1a-9635-313f68a3b0fe",
   "metadata": {},
   "source": [
    "### Binary Classification - Random Forest Model"
   ]
  },
  {
   "cell_type": "code",
   "execution_count": 3,
   "id": "209b9227-ad54-4d2a-8fd2-d83ea4b7a1c6",
   "metadata": {
    "tags": []
   },
   "outputs": [
    {
     "ename": "NameError",
     "evalue": "name 'compas_training' is not defined",
     "output_type": "error",
     "traceback": [
      "\u001b[0;31m---------------------------------------------------------------------------\u001b[0m",
      "\u001b[0;31mNameError\u001b[0m                                 Traceback (most recent call last)",
      "Cell \u001b[0;32mIn[3], line 1\u001b[0m\n\u001b[0;32m----> 1\u001b[0m train_dataset \u001b[38;5;241m=\u001b[39m tfdf\u001b[38;5;241m.\u001b[39mkeras\u001b[38;5;241m.\u001b[39mpd_dataframe_to_tf_dataset(\u001b[43mcompas_training\u001b[49m, label\u001b[38;5;241m=\u001b[39m\u001b[38;5;124m\"\u001b[39m\u001b[38;5;124mtwo_year_recid\u001b[39m\u001b[38;5;124m\"\u001b[39m)\n\u001b[1;32m      2\u001b[0m test_dataset \u001b[38;5;241m=\u001b[39m tfdf\u001b[38;5;241m.\u001b[39mkeras\u001b[38;5;241m.\u001b[39mpd_dataframe_to_tf_dataset(compas_testing, label\u001b[38;5;241m=\u001b[39m\u001b[38;5;124m\"\u001b[39m\u001b[38;5;124mtwo_year_recid\u001b[39m\u001b[38;5;124m\"\u001b[39m)\n\u001b[1;32m      4\u001b[0m model \u001b[38;5;241m=\u001b[39m tfdf\u001b[38;5;241m.\u001b[39mkeras\u001b[38;5;241m.\u001b[39mRandomForestModel(verbose\u001b[38;5;241m=\u001b[39m\u001b[38;5;241m0\u001b[39m)\n",
      "\u001b[0;31mNameError\u001b[0m: name 'compas_training' is not defined"
     ]
    }
   ],
   "source": [
    "train_dataset = tfdf.keras.pd_dataframe_to_tf_dataset(compas_training, label=\"two_year_recid\")\n",
    "test_dataset = tfdf.keras.pd_dataframe_to_tf_dataset(compas_testing, label=\"two_year_recid\")\n",
    "\n",
    "model = tfdf.keras.RandomForestModel(verbose=0)\n",
    "model.fit(train_dataset, verbose=0)\n",
    "model.compile(metrics=[\"accuracy\"])\n",
    "evaluation = model.evaluate(test_dataset, return_dict=True)\n",
    "\n",
    "model.save(\"{0}/binary_classification_compas_tensorflow_decision_forests.keras.RandomForestModel.sav\".format(save_dir), \"wb+\")"
   ]
  },
  {
   "cell_type": "markdown",
   "id": "601703ab-24bd-4de4-9a65-0bb706afedbf",
   "metadata": {},
   "source": [
    "### Binary Classification - Gradient Boosted Trees Model"
   ]
  },
  {
   "cell_type": "code",
   "execution_count": 31,
   "id": "59d016da-2555-475e-bf6e-1bf0397fa7ea",
   "metadata": {
    "tags": []
   },
   "outputs": [
    {
     "name": "stderr",
     "output_type": "stream",
     "text": [
      "[WARNING 23-04-18 15:52:40.6367 +08 gradient_boosted_trees.cc:1797] \"goss_alpha\" set but \"sampling_method\" not equal to \"GOSS\".\n",
      "[WARNING 23-04-18 15:52:40.6367 +08 gradient_boosted_trees.cc:1808] \"goss_beta\" set but \"sampling_method\" not equal to \"GOSS\".\n",
      "[WARNING 23-04-18 15:52:40.6367 +08 gradient_boosted_trees.cc:1822] \"selective_gradient_boosting_ratio\" set but \"sampling_method\" not equal to \"SELGB\".\n",
      "2023-04-18 15:52:40.648761: I tensorflow/core/common_runtime/executor.cc:1197] [/device:CPU:0] (DEBUG INFO) Executor start aborting (this does not indicate an error and you can ignore this message): INVALID_ARGUMENT: You must feed a value for placeholder tensor 'Placeholder/_1' with dtype int64 and shape [4937]\n",
      "\t [[{{node Placeholder/_1}}]]\n",
      "[INFO 23-04-18 15:52:41.0578 +08 kernel.cc:1242] Loading model from path /tmp/tmp91ainvhd/model/ with prefix 02fc48a3c2ec4535\n",
      "[INFO 23-04-18 15:52:41.0589 +08 kernel.cc:1074] Use fast generic engine\n",
      "2023-04-18 15:52:41.062295: I tensorflow/core/common_runtime/executor.cc:1197] [/device:CPU:0] (DEBUG INFO) Executor start aborting (this does not indicate an error and you can ignore this message): INVALID_ARGUMENT: You must feed a value for placeholder tensor 'Placeholder/_3' with dtype int64 and shape [4937]\n",
      "\t [[{{node Placeholder/_3}}]]\n",
      "2023-04-18 15:52:41.139110: I tensorflow/core/common_runtime/executor.cc:1197] [/device:CPU:0] (DEBUG INFO) Executor start aborting (this does not indicate an error and you can ignore this message): INVALID_ARGUMENT: You must feed a value for placeholder tensor 'Placeholder/_3' with dtype int64 and shape [1235]\n",
      "\t [[{{node Placeholder/_3}}]]\n",
      "WARNING:absl:Found untraced functions such as call_get_leaves, _update_step_xla while saving (showing 2 of 2). These functions will not be directly callable after loading.\n"
     ]
    },
    {
     "name": "stdout",
     "output_type": "stream",
     "text": [
      "INFO:tensorflow:Assets written to: ./models/tensorflow/2.12.0/binary_classification_compas_tensorflow_decision_forests.keras.GradientBoostedTreesModel.sav/assets\n"
     ]
    },
    {
     "name": "stderr",
     "output_type": "stream",
     "text": [
      "INFO:tensorflow:Assets written to: ./models/tensorflow/2.12.0/binary_classification_compas_tensorflow_decision_forests.keras.GradientBoostedTreesModel.sav/assets\n"
     ]
    }
   ],
   "source": [
    "train_dataset = tfdf.keras.pd_dataframe_to_tf_dataset(compas_training, label=\"two_year_recid\")\n",
    "test_dataset = tfdf.keras.pd_dataframe_to_tf_dataset(compas_testing, label=\"two_year_recid\")\n",
    "\n",
    "model = tfdf.keras.GradientBoostedTreesModel(verbose=0)\n",
    "model.fit(train_dataset, verbose=0)\n",
    "model.compile(metrics=[\"accuracy\"])\n",
    "evaluation = model.evaluate(test_dataset, return_dict=True, verbose=0)\n",
    "\n",
    "model.save(\"{0}/binary_classification_compas_tensorflow_decision_forests.keras.GradientBoostedTreesModel.sav\".format(save_dir), \"wb+\")"
   ]
  },
  {
   "cell_type": "markdown",
   "id": "23a215a7-7f45-4a4e-82cb-e668ca04b547",
   "metadata": {},
   "source": [
    "### Multiclass Classification - Random Forest Model"
   ]
  },
  {
   "cell_type": "code",
   "execution_count": 32,
   "id": "ccc1cb09-6544-4448-b961-065c0f575012",
   "metadata": {
    "tags": []
   },
   "outputs": [
    {
     "name": "stderr",
     "output_type": "stream",
     "text": [
      "2023-04-18 15:52:49.926300: I tensorflow/core/common_runtime/executor.cc:1197] [/device:CPU:0] (DEBUG INFO) Executor start aborting (this does not indicate an error and you can ignore this message): INVALID_ARGUMENT: You must feed a value for placeholder tensor 'Placeholder/_12' with dtype int64 and shape [5000]\n",
      "\t [[{{node Placeholder/_12}}]]\n",
      "[INFO 23-04-18 15:52:52.1063 +08 kernel.cc:1242] Loading model from path /tmp/tmprz9z6fk8/model/ with prefix 3cfc5dbdb48d4a89\n",
      "[INFO 23-04-18 15:52:52.6549 +08 decision_forest.cc:660] Model loaded with 300 root(s), 373236 node(s), and 12 input feature(s).\n",
      "[INFO 23-04-18 15:52:52.6549 +08 abstract_model.cc:1311] Engine \"RandomForestGeneric\" built\n",
      "[INFO 23-04-18 15:52:52.6549 +08 kernel.cc:1074] Use fast generic engine\n",
      "2023-04-18 15:52:52.768816: I tensorflow/core/common_runtime/executor.cc:1197] [/device:CPU:0] (DEBUG INFO) Executor start aborting (this does not indicate an error and you can ignore this message): INVALID_ARGUMENT: You must feed a value for placeholder tensor 'Placeholder/_2' with dtype int64 and shape [5000]\n",
      "\t [[{{node Placeholder/_2}}]]\n"
     ]
    },
    {
     "name": "stdout",
     "output_type": "stream",
     "text": [
      "1/2 [==============>...............] - ETA: 0s - loss: 0.0000e+00 - accuracy: 0.4960"
     ]
    },
    {
     "name": "stderr",
     "output_type": "stream",
     "text": [
      "2023-04-18 15:52:52.937491: I tensorflow/core/common_runtime/executor.cc:1197] [/device:CPU:0] (DEBUG INFO) Executor start aborting (this does not indicate an error and you can ignore this message): INVALID_ARGUMENT: You must feed a value for placeholder tensor 'Placeholder/_6' with dtype int64 and shape [2000]\n",
      "\t [[{{node Placeholder/_6}}]]\n"
     ]
    },
    {
     "name": "stdout",
     "output_type": "stream",
     "text": [
      "2/2 [==============================] - 0s 54ms/step - loss: 0.0000e+00 - accuracy: 0.4990\n"
     ]
    },
    {
     "name": "stderr",
     "output_type": "stream",
     "text": [
      "WARNING:absl:Function `_wrapped_model` contains input name(s) Annual_Income, Debt_To_Income, Gender, Home_Owner, Income_Verified, Inquiries_Last_6Mo, Length_Employed, Loan_Amount_Requested, Months_Since_Deliquency, Number_Open_Accounts, Purpose_Of_Loan, Total_Accounts with unsupported characters which will be renamed to annual_income, debt_to_income, gender, home_owner, income_verified, inquiries_last_6mo, length_employed, loan_amount_requested, months_since_deliquency, number_open_accounts, purpose_of_loan, total_accounts in the SavedModel.\n",
      "WARNING:absl:Found untraced functions such as call_get_leaves, _update_step_xla while saving (showing 2 of 2). These functions will not be directly callable after loading.\n"
     ]
    },
    {
     "name": "stdout",
     "output_type": "stream",
     "text": [
      "INFO:tensorflow:Assets written to: ./models/tensorflow/2.12.0/multiclass_classification_loan_tensorflow_decision_forests.keras.RandomForestModel.sav/assets\n"
     ]
    },
    {
     "name": "stderr",
     "output_type": "stream",
     "text": [
      "INFO:tensorflow:Assets written to: ./models/tensorflow/2.12.0/multiclass_classification_loan_tensorflow_decision_forests.keras.RandomForestModel.sav/assets\n"
     ]
    }
   ],
   "source": [
    "loan_training = pickle.load(open(\"./data/pickle_pandas_tabular_loan_training.sav\", \"rb\")).sample(5000)\n",
    "loan_testing = pickle.load(open(\"./data/pickle_pandas_tabular_loan_testing.sav\", \"rb\")).sample(2000)\n",
    "\n",
    "train_dataset = tfdf.keras.pd_dataframe_to_tf_dataset(loan_training, label=\"Interest_Rate\")\n",
    "test_dataset = tfdf.keras.pd_dataframe_to_tf_dataset(loan_testing, label=\"Interest_Rate\")\n",
    "\n",
    "model = tfdf.keras.RandomForestModel(verbose=0)\n",
    "model.fit(train_dataset, verbose=0)\n",
    "model.compile(metrics=[\"accuracy\"])\n",
    "evaluation = model.evaluate(test_dataset, return_dict=True)\n",
    "\n",
    "model.save(\"{0}/multiclass_classification_loan_tensorflow_decision_forests.keras.RandomForestModel.sav\".format(save_dir), \"wb+\")"
   ]
  },
  {
   "cell_type": "markdown",
   "id": "16e0d557-12dd-43f8-b656-2881f16edd8b",
   "metadata": {},
   "source": [
    "### Multiclass Classification - Gradient Boosted Trees Model"
   ]
  },
  {
   "cell_type": "code",
   "execution_count": 33,
   "id": "4c0f5c68-1670-4b22-8bf9-1014578524f1",
   "metadata": {
    "tags": []
   },
   "outputs": [
    {
     "name": "stderr",
     "output_type": "stream",
     "text": [
      "[WARNING 23-04-18 15:53:03.2817 +08 gradient_boosted_trees.cc:1797] \"goss_alpha\" set but \"sampling_method\" not equal to \"GOSS\".\n",
      "[WARNING 23-04-18 15:53:03.2817 +08 gradient_boosted_trees.cc:1808] \"goss_beta\" set but \"sampling_method\" not equal to \"GOSS\".\n",
      "[WARNING 23-04-18 15:53:03.2817 +08 gradient_boosted_trees.cc:1822] \"selective_gradient_boosting_ratio\" set but \"sampling_method\" not equal to \"SELGB\".\n",
      "2023-04-18 15:53:03.288509: I tensorflow/core/common_runtime/executor.cc:1197] [/device:CPU:0] (DEBUG INFO) Executor start aborting (this does not indicate an error and you can ignore this message): INVALID_ARGUMENT: You must feed a value for placeholder tensor 'Placeholder/_12' with dtype int64 and shape [5000]\n",
      "\t [[{{node Placeholder/_12}}]]\n",
      "[INFO 23-04-18 15:53:05.1803 +08 kernel.cc:1242] Loading model from path /tmp/tmpjw_yase4/model/ with prefix cd8ec132cdbf4066\n",
      "[INFO 23-04-18 15:53:05.1870 +08 decision_forest.cc:660] Model loaded with 111 root(s), 5983 node(s), and 12 input feature(s).\n",
      "[INFO 23-04-18 15:53:05.1870 +08 abstract_model.cc:1311] Engine \"GradientBoostedTreesGeneric\" built\n",
      "[INFO 23-04-18 15:53:05.1870 +08 kernel.cc:1074] Use fast generic engine\n",
      "2023-04-18 15:53:05.192537: I tensorflow/core/common_runtime/executor.cc:1197] [/device:CPU:0] (DEBUG INFO) Executor start aborting (this does not indicate an error and you can ignore this message): INVALID_ARGUMENT: You must feed a value for placeholder tensor 'Placeholder/_6' with dtype int64 and shape [5000]\n",
      "\t [[{{node Placeholder/_6}}]]\n",
      "2023-04-18 15:53:05.294347: I tensorflow/core/common_runtime/executor.cc:1197] [/device:CPU:0] (DEBUG INFO) Executor start aborting (this does not indicate an error and you can ignore this message): INVALID_ARGUMENT: You must feed a value for placeholder tensor 'Placeholder/_8' with dtype double and shape [2000]\n",
      "\t [[{{node Placeholder/_8}}]]\n",
      "WARNING:absl:Function `_wrapped_model` contains input name(s) Annual_Income, Debt_To_Income, Gender, Home_Owner, Income_Verified, Inquiries_Last_6Mo, Length_Employed, Loan_Amount_Requested, Months_Since_Deliquency, Number_Open_Accounts, Purpose_Of_Loan, Total_Accounts with unsupported characters which will be renamed to annual_income, debt_to_income, gender, home_owner, income_verified, inquiries_last_6mo, length_employed, loan_amount_requested, months_since_deliquency, number_open_accounts, purpose_of_loan, total_accounts in the SavedModel.\n",
      "WARNING:absl:Found untraced functions such as call_get_leaves, _update_step_xla while saving (showing 2 of 2). These functions will not be directly callable after loading.\n"
     ]
    },
    {
     "name": "stdout",
     "output_type": "stream",
     "text": [
      "INFO:tensorflow:Assets written to: ./models/tensorflow/2.12.0/multiclass_classification_loan_tensorflow_decision_forests.keras.GradientBoostedTreesModel.sav/assets\n"
     ]
    },
    {
     "name": "stderr",
     "output_type": "stream",
     "text": [
      "INFO:tensorflow:Assets written to: ./models/tensorflow/2.12.0/multiclass_classification_loan_tensorflow_decision_forests.keras.GradientBoostedTreesModel.sav/assets\n"
     ]
    }
   ],
   "source": [
    "loan_training = pickle.load(open(\"./data/pickle_pandas_tabular_loan_training.sav\", \"rb\")).sample(5000)\n",
    "loan_testing = pickle.load(open(\"./data/pickle_pandas_tabular_loan_testing.sav\", \"rb\")).sample(2000)\n",
    "\n",
    "train_dataset = tfdf.keras.pd_dataframe_to_tf_dataset(loan_training, label=\"Interest_Rate\")\n",
    "test_dataset = tfdf.keras.pd_dataframe_to_tf_dataset(loan_testing, label=\"Interest_Rate\")\n",
    "\n",
    "model = tfdf.keras.GradientBoostedTreesModel(verbose=0)\n",
    "model.fit(train_dataset, verbose=0)\n",
    "model.compile(metrics=[\"accuracy\"])\n",
    "evaluation = model.evaluate(test_dataset, return_dict=True, verbose=0)\n",
    "\n",
    "model.save(\"{0}/multiclass_classification_loan_tensorflow_decision_forests.keras.GradientBoostedTreesModel.sav\".format(save_dir), \"wb+\")"
   ]
  },
  {
   "cell_type": "markdown",
   "id": "87ea8ef6-b1e7-4525-94d4-23f508fc987f",
   "metadata": {},
   "source": [
    "### Regression - Random Forest Model"
   ]
  },
  {
   "cell_type": "code",
   "execution_count": 34,
   "id": "a80bbf13-e4ae-4032-8548-7e3fb83b22e5",
   "metadata": {
    "tags": []
   },
   "outputs": [
    {
     "name": "stdout",
     "output_type": "stream",
     "text": [
      "WARNING:tensorflow:5 out of the last 5 calls to <function CoreModel._consumes_training_examples_until_eof at 0x7f8b80705120> triggered tf.function retracing. Tracing is expensive and the excessive number of tracings could be due to (1) creating @tf.function repeatedly in a loop, (2) passing tensors with different shapes, (3) passing Python objects instead of tensors. For (1), please define your @tf.function outside of the loop. For (2), @tf.function has reduce_retracing=True option that can avoid unnecessary retracing. For (3), please refer to https://www.tensorflow.org/guide/function#controlling_retracing and https://www.tensorflow.org/api_docs/python/tf/function for  more details.\n"
     ]
    },
    {
     "name": "stderr",
     "output_type": "stream",
     "text": [
      "2023-04-18 15:53:15.172613: I tensorflow/core/common_runtime/executor.cc:1197] [/device:CPU:0] (DEBUG INFO) Executor start aborting (this does not indicate an error and you can ignore this message): INVALID_ARGUMENT: You must feed a value for placeholder tensor 'Placeholder/_1' with dtype double and shape [1070]\n",
      "\t [[{{node Placeholder/_1}}]]\n",
      "WARNING:tensorflow:5 out of the last 5 calls to <function CoreModel._consumes_training_examples_until_eof at 0x7f8b80705120> triggered tf.function retracing. Tracing is expensive and the excessive number of tracings could be due to (1) creating @tf.function repeatedly in a loop, (2) passing tensors with different shapes, (3) passing Python objects instead of tensors. For (1), please define your @tf.function outside of the loop. For (2), @tf.function has reduce_retracing=True option that can avoid unnecessary retracing. For (3), please refer to https://www.tensorflow.org/guide/function#controlling_retracing and https://www.tensorflow.org/api_docs/python/tf/function for  more details.\n",
      "[INFO 23-04-18 15:53:15.5959 +08 kernel.cc:1242] Loading model from path /tmp/tmp1yf659y7/model/ with prefix 1a99764299284c6d\n",
      "[INFO 23-04-18 15:53:15.7090 +08 decision_forest.cc:660] Model loaded with 300 root(s), 99730 node(s), and 6 input feature(s).\n",
      "[INFO 23-04-18 15:53:15.7091 +08 abstract_model.cc:1311] Engine \"RandomForestOptPred\" built\n",
      "[INFO 23-04-18 15:53:15.7091 +08 kernel.cc:1074] Use fast generic engine\n",
      "2023-04-18 15:53:15.749740: I tensorflow/core/common_runtime/executor.cc:1197] [/device:CPU:0] (DEBUG INFO) Executor start aborting (this does not indicate an error and you can ignore this message): INVALID_ARGUMENT: You must feed a value for placeholder tensor 'Placeholder/_6' with dtype double and shape [1070]\n",
      "\t [[{{node Placeholder/_6}}]]\n"
     ]
    },
    {
     "name": "stdout",
     "output_type": "stream",
     "text": [
      "WARNING:tensorflow:5 out of the last 5 calls to <function InferenceCoreModel.make_predict_function.<locals>.predict_function_trained at 0x7f8b809db640> triggered tf.function retracing. Tracing is expensive and the excessive number of tracings could be due to (1) creating @tf.function repeatedly in a loop, (2) passing tensors with different shapes, (3) passing Python objects instead of tensors. For (1), please define your @tf.function outside of the loop. For (2), @tf.function has reduce_retracing=True option that can avoid unnecessary retracing. For (3), please refer to https://www.tensorflow.org/guide/function#controlling_retracing and https://www.tensorflow.org/api_docs/python/tf/function for  more details.\n"
     ]
    },
    {
     "name": "stderr",
     "output_type": "stream",
     "text": [
      "WARNING:tensorflow:5 out of the last 5 calls to <function InferenceCoreModel.make_predict_function.<locals>.predict_function_trained at 0x7f8b809db640> triggered tf.function retracing. Tracing is expensive and the excessive number of tracings could be due to (1) creating @tf.function repeatedly in a loop, (2) passing tensors with different shapes, (3) passing Python objects instead of tensors. For (1), please define your @tf.function outside of the loop. For (2), @tf.function has reduce_retracing=True option that can avoid unnecessary retracing. For (3), please refer to https://www.tensorflow.org/guide/function#controlling_retracing and https://www.tensorflow.org/api_docs/python/tf/function for  more details.\n"
     ]
    },
    {
     "name": "stdout",
     "output_type": "stream",
     "text": [
      "WARNING:tensorflow:5 out of the last 5 calls to <function InferenceCoreModel.yggdrasil_model_path_tensor at 0x7f8b80884f70> triggered tf.function retracing. Tracing is expensive and the excessive number of tracings could be due to (1) creating @tf.function repeatedly in a loop, (2) passing tensors with different shapes, (3) passing Python objects instead of tensors. For (1), please define your @tf.function outside of the loop. For (2), @tf.function has reduce_retracing=True option that can avoid unnecessary retracing. For (3), please refer to https://www.tensorflow.org/guide/function#controlling_retracing and https://www.tensorflow.org/api_docs/python/tf/function for  more details.\n"
     ]
    },
    {
     "name": "stderr",
     "output_type": "stream",
     "text": [
      "WARNING:tensorflow:5 out of the last 5 calls to <function InferenceCoreModel.yggdrasil_model_path_tensor at 0x7f8b80884f70> triggered tf.function retracing. Tracing is expensive and the excessive number of tracings could be due to (1) creating @tf.function repeatedly in a loop, (2) passing tensors with different shapes, (3) passing Python objects instead of tensors. For (1), please define your @tf.function outside of the loop. For (2), @tf.function has reduce_retracing=True option that can avoid unnecessary retracing. For (3), please refer to https://www.tensorflow.org/guide/function#controlling_retracing and https://www.tensorflow.org/api_docs/python/tf/function for  more details.\n"
     ]
    },
    {
     "name": "stdout",
     "output_type": "stream",
     "text": [
      "WARNING:tensorflow:5 out of the last 9 calls to <function InferenceCoreModel.make_test_function.<locals>.test_function at 0x7f8b807e7010> triggered tf.function retracing. Tracing is expensive and the excessive number of tracings could be due to (1) creating @tf.function repeatedly in a loop, (2) passing tensors with different shapes, (3) passing Python objects instead of tensors. For (1), please define your @tf.function outside of the loop. For (2), @tf.function has reduce_retracing=True option that can avoid unnecessary retracing. For (3), please refer to https://www.tensorflow.org/guide/function#controlling_retracing and https://www.tensorflow.org/api_docs/python/tf/function for  more details.\n"
     ]
    },
    {
     "name": "stderr",
     "output_type": "stream",
     "text": [
      "2023-04-18 15:53:15.931896: I tensorflow/core/common_runtime/executor.cc:1197] [/device:CPU:0] (DEBUG INFO) Executor start aborting (this does not indicate an error and you can ignore this message): INVALID_ARGUMENT: You must feed a value for placeholder tensor 'Placeholder/_2' with dtype int64 and shape [268]\n",
      "\t [[{{node Placeholder/_2}}]]\n",
      "WARNING:tensorflow:5 out of the last 9 calls to <function InferenceCoreModel.make_test_function.<locals>.test_function at 0x7f8b807e7010> triggered tf.function retracing. Tracing is expensive and the excessive number of tracings could be due to (1) creating @tf.function repeatedly in a loop, (2) passing tensors with different shapes, (3) passing Python objects instead of tensors. For (1), please define your @tf.function outside of the loop. For (2), @tf.function has reduce_retracing=True option that can avoid unnecessary retracing. For (3), please refer to https://www.tensorflow.org/guide/function#controlling_retracing and https://www.tensorflow.org/api_docs/python/tf/function for  more details.\n"
     ]
    },
    {
     "name": "stdout",
     "output_type": "stream",
     "text": [
      "1/1 [==============================] - 0s 98ms/step - loss: 0.0000e+00 - accuracy: 0.0000e+00\n"
     ]
    },
    {
     "name": "stderr",
     "output_type": "stream",
     "text": [
      "WARNING:absl:Found untraced functions such as call_get_leaves, _update_step_xla while saving (showing 2 of 2). These functions will not be directly callable after loading.\n"
     ]
    },
    {
     "name": "stdout",
     "output_type": "stream",
     "text": [
      "INFO:tensorflow:Assets written to: ./models/tensorflow/2.12.0/regression_insurance_tensorflow_decision_forests.keras.RandomForestModel.sav/assets\n"
     ]
    },
    {
     "name": "stderr",
     "output_type": "stream",
     "text": [
      "INFO:tensorflow:Assets written to: ./models/tensorflow/2.12.0/regression_insurance_tensorflow_decision_forests.keras.RandomForestModel.sav/assets\n"
     ]
    }
   ],
   "source": [
    "insurance_training = pickle.load(open(\"./data/pickle_pandas_tabular_insurance_training.sav\", \"rb\"))\n",
    "insurance_testing = pickle.load(open(\"./data/pickle_pandas_tabular_insurance_testing.sav\", \"rb\"))\n",
    "\n",
    "train_dataset = tfdf.keras.pd_dataframe_to_tf_dataset(insurance_training, label=\"charges\", task=tfdf.keras.core.Task.REGRESSION)\n",
    "test_dataset = tfdf.keras.pd_dataframe_to_tf_dataset(insurance_testing, label=\"charges\", task=tfdf.keras.core.Task.REGRESSION)\n",
    "\n",
    "model = tfdf.keras.RandomForestModel(verbose=0, task=tfdf.keras.core.Task.REGRESSION)\n",
    "model.fit(train_dataset, verbose=0)\n",
    "model.compile(metrics=[\"accuracy\"])\n",
    "evaluation = model.evaluate(test_dataset, return_dict=True)\n",
    "\n",
    "model.save(\"{0}/regression_insurance_tensorflow_decision_forests.keras.RandomForestModel.sav\".format(save_dir), \"wb+\")"
   ]
  },
  {
   "cell_type": "markdown",
   "id": "1616ae1d-376d-4db5-a200-338802126ea2",
   "metadata": {},
   "source": [
    "### Regression - Gradient Boosted Trees"
   ]
  },
  {
   "cell_type": "code",
   "execution_count": 35,
   "id": "78886634-9d95-4048-8746-c1751a9d4b01",
   "metadata": {
    "tags": []
   },
   "outputs": [
    {
     "name": "stdout",
     "output_type": "stream",
     "text": [
      "WARNING:tensorflow:6 out of the last 6 calls to <function CoreModel._consumes_training_examples_until_eof at 0x7f8b80705120> triggered tf.function retracing. Tracing is expensive and the excessive number of tracings could be due to (1) creating @tf.function repeatedly in a loop, (2) passing tensors with different shapes, (3) passing Python objects instead of tensors. For (1), please define your @tf.function outside of the loop. For (2), @tf.function has reduce_retracing=True option that can avoid unnecessary retracing. For (3), please refer to https://www.tensorflow.org/guide/function#controlling_retracing and https://www.tensorflow.org/api_docs/python/tf/function for  more details.\n"
     ]
    },
    {
     "name": "stderr",
     "output_type": "stream",
     "text": [
      "[WARNING 23-04-18 15:53:27.2257 +08 gradient_boosted_trees.cc:1797] \"goss_alpha\" set but \"sampling_method\" not equal to \"GOSS\".\n",
      "[WARNING 23-04-18 15:53:27.2257 +08 gradient_boosted_trees.cc:1808] \"goss_beta\" set but \"sampling_method\" not equal to \"GOSS\".\n",
      "[WARNING 23-04-18 15:53:27.2257 +08 gradient_boosted_trees.cc:1822] \"selective_gradient_boosting_ratio\" set but \"sampling_method\" not equal to \"SELGB\".\n",
      "2023-04-18 15:53:27.235249: I tensorflow/core/common_runtime/executor.cc:1197] [/device:CPU:0] (DEBUG INFO) Executor start aborting (this does not indicate an error and you can ignore this message): INVALID_ARGUMENT: You must feed a value for placeholder tensor 'Placeholder/_2' with dtype int64 and shape [1070]\n",
      "\t [[{{node Placeholder/_2}}]]\n",
      "WARNING:tensorflow:6 out of the last 6 calls to <function CoreModel._consumes_training_examples_until_eof at 0x7f8b80705120> triggered tf.function retracing. Tracing is expensive and the excessive number of tracings could be due to (1) creating @tf.function repeatedly in a loop, (2) passing tensors with different shapes, (3) passing Python objects instead of tensors. For (1), please define your @tf.function outside of the loop. For (2), @tf.function has reduce_retracing=True option that can avoid unnecessary retracing. For (3), please refer to https://www.tensorflow.org/guide/function#controlling_retracing and https://www.tensorflow.org/api_docs/python/tf/function for  more details.\n"
     ]
    },
    {
     "name": "stdout",
     "output_type": "stream",
     "text": [
      "WARNING:tensorflow:6 out of the last 6 calls to <function InferenceCoreModel.make_predict_function.<locals>.predict_function_trained at 0x7f8b802267a0> triggered tf.function retracing. Tracing is expensive and the excessive number of tracings could be due to (1) creating @tf.function repeatedly in a loop, (2) passing tensors with different shapes, (3) passing Python objects instead of tensors. For (1), please define your @tf.function outside of the loop. For (2), @tf.function has reduce_retracing=True option that can avoid unnecessary retracing. For (3), please refer to https://www.tensorflow.org/guide/function#controlling_retracing and https://www.tensorflow.org/api_docs/python/tf/function for  more details.\n"
     ]
    },
    {
     "name": "stderr",
     "output_type": "stream",
     "text": [
      "[INFO 23-04-18 15:53:27.6404 +08 kernel.cc:1242] Loading model from path /tmp/tmpzbc7yf8u/model/ with prefix f601e32cf9394c64\n",
      "[INFO 23-04-18 15:53:27.6426 +08 abstract_model.cc:1311] Engine \"GradientBoostedTreesQuickScorerExtended\" built\n",
      "[INFO 23-04-18 15:53:27.6427 +08 kernel.cc:1074] Use fast generic engine\n",
      "2023-04-18 15:53:27.646783: I tensorflow/core/common_runtime/executor.cc:1197] [/device:CPU:0] (DEBUG INFO) Executor start aborting (this does not indicate an error and you can ignore this message): INVALID_ARGUMENT: You must feed a value for placeholder tensor 'Placeholder/_4' with dtype int64 and shape [1070]\n",
      "\t [[{{node Placeholder/_4}}]]\n",
      "WARNING:tensorflow:6 out of the last 6 calls to <function InferenceCoreModel.make_predict_function.<locals>.predict_function_trained at 0x7f8b802267a0> triggered tf.function retracing. Tracing is expensive and the excessive number of tracings could be due to (1) creating @tf.function repeatedly in a loop, (2) passing tensors with different shapes, (3) passing Python objects instead of tensors. For (1), please define your @tf.function outside of the loop. For (2), @tf.function has reduce_retracing=True option that can avoid unnecessary retracing. For (3), please refer to https://www.tensorflow.org/guide/function#controlling_retracing and https://www.tensorflow.org/api_docs/python/tf/function for  more details.\n"
     ]
    },
    {
     "name": "stdout",
     "output_type": "stream",
     "text": [
      "WARNING:tensorflow:6 out of the last 6 calls to <function InferenceCoreModel.yggdrasil_model_path_tensor at 0x7f8b80420430> triggered tf.function retracing. Tracing is expensive and the excessive number of tracings could be due to (1) creating @tf.function repeatedly in a loop, (2) passing tensors with different shapes, (3) passing Python objects instead of tensors. For (1), please define your @tf.function outside of the loop. For (2), @tf.function has reduce_retracing=True option that can avoid unnecessary retracing. For (3), please refer to https://www.tensorflow.org/guide/function#controlling_retracing and https://www.tensorflow.org/api_docs/python/tf/function for  more details.\n"
     ]
    },
    {
     "name": "stderr",
     "output_type": "stream",
     "text": [
      "WARNING:tensorflow:6 out of the last 6 calls to <function InferenceCoreModel.yggdrasil_model_path_tensor at 0x7f8b80420430> triggered tf.function retracing. Tracing is expensive and the excessive number of tracings could be due to (1) creating @tf.function repeatedly in a loop, (2) passing tensors with different shapes, (3) passing Python objects instead of tensors. For (1), please define your @tf.function outside of the loop. For (2), @tf.function has reduce_retracing=True option that can avoid unnecessary retracing. For (3), please refer to https://www.tensorflow.org/guide/function#controlling_retracing and https://www.tensorflow.org/api_docs/python/tf/function for  more details.\n"
     ]
    },
    {
     "name": "stdout",
     "output_type": "stream",
     "text": [
      "WARNING:tensorflow:6 out of the last 10 calls to <function InferenceCoreModel.make_test_function.<locals>.test_function at 0x7f8b807e7910> triggered tf.function retracing. Tracing is expensive and the excessive number of tracings could be due to (1) creating @tf.function repeatedly in a loop, (2) passing tensors with different shapes, (3) passing Python objects instead of tensors. For (1), please define your @tf.function outside of the loop. For (2), @tf.function has reduce_retracing=True option that can avoid unnecessary retracing. For (3), please refer to https://www.tensorflow.org/guide/function#controlling_retracing and https://www.tensorflow.org/api_docs/python/tf/function for  more details.\n"
     ]
    },
    {
     "name": "stderr",
     "output_type": "stream",
     "text": [
      "2023-04-18 15:53:27.728635: I tensorflow/core/common_runtime/executor.cc:1197] [/device:CPU:0] (DEBUG INFO) Executor start aborting (this does not indicate an error and you can ignore this message): INVALID_ARGUMENT: You must feed a value for placeholder tensor 'Placeholder/_3' with dtype int64 and shape [268]\n",
      "\t [[{{node Placeholder/_3}}]]\n",
      "WARNING:tensorflow:6 out of the last 10 calls to <function InferenceCoreModel.make_test_function.<locals>.test_function at 0x7f8b807e7910> triggered tf.function retracing. Tracing is expensive and the excessive number of tracings could be due to (1) creating @tf.function repeatedly in a loop, (2) passing tensors with different shapes, (3) passing Python objects instead of tensors. For (1), please define your @tf.function outside of the loop. For (2), @tf.function has reduce_retracing=True option that can avoid unnecessary retracing. For (3), please refer to https://www.tensorflow.org/guide/function#controlling_retracing and https://www.tensorflow.org/api_docs/python/tf/function for  more details.\n",
      "WARNING:absl:Found untraced functions such as call_get_leaves, _update_step_xla while saving (showing 2 of 2). These functions will not be directly callable after loading.\n"
     ]
    },
    {
     "name": "stdout",
     "output_type": "stream",
     "text": [
      "INFO:tensorflow:Assets written to: ./models/tensorflow/2.12.0/regression_insurance_tensorflow_decision_forests.keras.GradientBoostedTreesModel.sav/assets\n"
     ]
    },
    {
     "name": "stderr",
     "output_type": "stream",
     "text": [
      "INFO:tensorflow:Assets written to: ./models/tensorflow/2.12.0/regression_insurance_tensorflow_decision_forests.keras.GradientBoostedTreesModel.sav/assets\n"
     ]
    }
   ],
   "source": [
    "insurance_training = pickle.load(open(\"./data/pickle_pandas_tabular_insurance_training.sav\", \"rb\"))\n",
    "insurance_testing = pickle.load(open(\"./data/pickle_pandas_tabular_insurance_testing.sav\", \"rb\"))\n",
    "\n",
    "train_dataset = tfdf.keras.pd_dataframe_to_tf_dataset(insurance_training, label=\"charges\", task=tfdf.keras.core.Task.REGRESSION)\n",
    "test_dataset = tfdf.keras.pd_dataframe_to_tf_dataset(insurance_testing, label=\"charges\", task=tfdf.keras.core.Task.REGRESSION)\n",
    "\n",
    "model = tfdf.keras.GradientBoostedTreesModel(verbose=0, task=tfdf.keras.core.Task.REGRESSION)\n",
    "model.fit(train_dataset, verbose=0)\n",
    "model.compile(metrics=[\"accuracy\"])\n",
    "evaluation = model.evaluate(test_dataset, return_dict=True, verbose=0)\n",
    "\n",
    "model.save(\"{0}/regression_insurance_tensorflow_decision_forests.keras.GradientBoostedTreesModel.sav\".format(save_dir), \"wb+\")"
   ]
  },
  {
   "cell_type": "markdown",
   "id": "c68a6d3a-9911-4d5a-aaa9-419c82560d94",
   "metadata": {
    "tags": []
   },
   "source": [
    "## Functional\n",
    "\n",
    "To see if we can also run on pretrained image classification models"
   ]
  },
  {
   "cell_type": "markdown",
   "id": "632da692-f0f9-4860-b656-0a6aabdafda1",
   "metadata": {},
   "source": [
    "### Data Preparation"
   ]
  },
  {
   "cell_type": "code",
   "execution_count": 36,
   "id": "46cdf747-90e4-4d96-9091-a9d9d51099e0",
   "metadata": {
    "tags": []
   },
   "outputs": [
    {
     "name": "stdout",
     "output_type": "stream",
     "text": [
      "./data/pretrained_models/train/\n",
      "Found 2000 images belonging to 2 classes.\n",
      "Found 1000 images belonging to 2 classes.\n"
     ]
    }
   ],
   "source": [
    "import os\n",
    "from matplotlib import pyplot as plt\n",
    "from tensorflow.keras.preprocessing import image\n",
    "from tensorflow.keras.applications.resnet50 import preprocess_input, decode_predictions\n",
    "from tensorflow.keras.preprocessing.image import ImageDataGenerator\n",
    "\n",
    "category = [\"cats\", \"dogs\"]\n",
    "\n",
    "EPOCHS                  = 30\n",
    "IMGSIZE                 = 32\n",
    "CHANNELS                = 3 # grayscale\n",
    "BATCH_SIZE              = 20\n",
    "STOPPING_PATIENCE       = 8\n",
    "VERBOSE                 = 1\n",
    "OPTIMIZER               = 'adam'\n",
    "BASE_DIR                = \"./data/pretrained_models\"\n",
    "TRAINING_DIR            = BASE_DIR + \"/train/\"\n",
    "TEST_DIR                = BASE_DIR + \"/validation/\"\n",
    "\n",
    "print(TRAINING_DIR)\n",
    "\n",
    "generator = ImageDataGenerator(rescale = 1./255.,\n",
    "                                   rotation_range = 40, \n",
    "                                   width_shift_range = 0.2, \n",
    "                                   height_shift_range = 0.2, \n",
    "                                   shear_range = 0.2, \n",
    "                                   zoom_range = 0.2, \n",
    "                                   horizontal_flip = True)\n",
    "\n",
    "test_generator = ImageDataGenerator( rescale = 1.0/255. )\n",
    "\n",
    "train_data = generator.flow_from_directory( directory=TRAINING_DIR, \n",
    "                                            target_size=(IMGSIZE, IMGSIZE),\n",
    "                                            class_mode = \"binary\",\n",
    "                                            batch_size=BATCH_SIZE, \n",
    "                                            )\n",
    "\n",
    "test_data = test_generator.flow_from_directory( directory=TEST_DIR, \n",
    "                                           target_size=(IMGSIZE, IMGSIZE), \n",
    "                                           class_mode = \"binary\",\n",
    "                                           batch_size=BATCH_SIZE,\n",
    "                                           shuffle=False\n",
    "                                           )\n",
    "\n",
    "dogcat_X_train = np.concatenate([train_data.next()[0] for i in range(train_data.__len__())])\n",
    "dogcat_y_train = np.concatenate([train_data.next()[1] for i in range(train_data.__len__())])\n",
    "dogcat_X_test = np.concatenate([test_data.next()[0] for i in range(test_data.__len__())])\n",
    "dogcat_y_test = np.concatenate([test_data.next()[1] for i in range(test_data.__len__())])"
   ]
  },
  {
   "cell_type": "markdown",
   "id": "920cc85e-c6f3-4de2-9379-ec9cb2f4b5e4",
   "metadata": {},
   "source": [
    "#### Store Converted Image into Numpy"
   ]
  },
  {
   "cell_type": "code",
   "execution_count": 37,
   "id": "4bff08ab-4b3c-42a2-a7c5-0acb0d677992",
   "metadata": {
    "tags": []
   },
   "outputs": [],
   "source": [
    "training = pd.DataFrame(dogcat_X_train.reshape(dogcat_X_train.shape[0], -1))\n",
    "training[\"label\"] = dogcat_y_train\n",
    "training[\"filename\"] = train_data.filenames\n",
    "\n",
    "testing = pd.DataFrame(dogcat_X_test.reshape(dogcat_X_test.shape[0], -1))\n",
    "testing[\"label\"] = dogcat_y_test\n",
    "testing[\"filename\"] = test_data.filenames\n",
    "\n",
    "pickle.dump(training, open(\"./data/pickle_pandas_image_catdog_training.sav\", \"wb+\"))\n",
    "pickle.dump(testing, open(\"./data/pickle_pandas_image_catdog_testing.sav\", \"wb+\"))"
   ]
  },
  {
   "cell_type": "markdown",
   "id": "c8421e79-5d1e-4d00-8fea-64de12b5dcb8",
   "metadata": {},
   "source": [
    "#### Store by image directory and filename"
   ]
  },
  {
   "cell_type": "code",
   "execution_count": 38,
   "id": "662f1daf-c527-424b-aaa8-b151e3a32059",
   "metadata": {
    "tags": []
   },
   "outputs": [],
   "source": [
    "training = pd.DataFrame()\n",
    "training[\"label\"] = dogcat_y_train\n",
    "training[\"filename\"] = train_data.filenames\n",
    "\n",
    "testing = pd.DataFrame()\n",
    "testing[\"label\"] = dogcat_y_test\n",
    "testing[\"filename\"] = test_data.filenames\n",
    "\n",
    "pickle.dump(training, open(\"./data/pickle_pandas_image_catdog_training_by_filename.sav\", \"wb+\"))\n",
    "pickle.dump(testing, open(\"./data/pickle_pandas_image_catdog_testing_by_filename.sav\", \"wb+\"))"
   ]
  },
  {
   "cell_type": "markdown",
   "id": "9f4b7b58-5a57-4c3e-8e87-9c70defad1be",
   "metadata": {},
   "source": [
    "### Transfer Learning - Binary image Classification"
   ]
  },
  {
   "cell_type": "markdown",
   "id": "9a945d8d-3786-4f3e-803d-670cb613ec50",
   "metadata": {},
   "source": [
    "#### Binary Classification - Binary Cross Entropy"
   ]
  },
  {
   "cell_type": "code",
   "execution_count": 40,
   "id": "15bb6f0f-c2a4-4336-b850-1a6a4a4b911a",
   "metadata": {
    "tags": []
   },
   "outputs": [
    {
     "name": "stdout",
     "output_type": "stream",
     "text": [
      "Epoch 1/30\n"
     ]
    },
    {
     "name": "stderr",
     "output_type": "stream",
     "text": [
      "2023-04-18 15:57:11.259671: I tensorflow/core/common_runtime/executor.cc:1197] [/device:CPU:0] (DEBUG INFO) Executor start aborting (this does not indicate an error and you can ignore this message): INVALID_ARGUMENT: You must feed a value for placeholder tensor 'Placeholder/_0' with dtype int32\n",
      "\t [[{{node Placeholder/_0}}]]\n"
     ]
    },
    {
     "name": "stdout",
     "output_type": "stream",
     "text": [
      "100/100 [==============================] - ETA: 0s - loss: 0.7158 - acc: 0.5250"
     ]
    },
    {
     "name": "stderr",
     "output_type": "stream",
     "text": [
      "2023-04-18 15:57:26.404612: I tensorflow/core/common_runtime/executor.cc:1197] [/device:CPU:0] (DEBUG INFO) Executor start aborting (this does not indicate an error and you can ignore this message): INVALID_ARGUMENT: You must feed a value for placeholder tensor 'Placeholder/_0' with dtype int32\n",
      "\t [[{{node Placeholder/_0}}]]\n"
     ]
    },
    {
     "name": "stdout",
     "output_type": "stream",
     "text": [
      "100/100 [==============================] - 22s 210ms/step - loss: 0.7158 - acc: 0.5250 - val_loss: 0.6551 - val_acc: 0.6310\n",
      "Epoch 2/30\n",
      "100/100 [==============================] - 20s 200ms/step - loss: 0.6741 - acc: 0.5820 - val_loss: 0.6331 - val_acc: 0.6490\n",
      "Epoch 3/30\n",
      "100/100 [==============================] - 21s 205ms/step - loss: 0.6568 - acc: 0.6095 - val_loss: 0.6247 - val_acc: 0.6390\n",
      "Epoch 4/30\n",
      "100/100 [==============================] - 21s 208ms/step - loss: 0.6512 - acc: 0.6035 - val_loss: 0.6185 - val_acc: 0.6490\n",
      "Epoch 5/30\n",
      "100/100 [==============================] - 21s 206ms/step - loss: 0.6461 - acc: 0.6270 - val_loss: 0.6182 - val_acc: 0.6400\n",
      "Epoch 6/30\n",
      "100/100 [==============================] - 21s 205ms/step - loss: 0.6345 - acc: 0.6470 - val_loss: 0.6078 - val_acc: 0.6620\n",
      "Epoch 7/30\n",
      "100/100 [==============================] - 21s 206ms/step - loss: 0.6326 - acc: 0.6320 - val_loss: 0.6098 - val_acc: 0.6430\n",
      "Epoch 8/30\n",
      "100/100 [==============================] - 23s 231ms/step - loss: 0.6228 - acc: 0.6520 - val_loss: 0.6016 - val_acc: 0.6700\n",
      "Epoch 9/30\n",
      "100/100 [==============================] - 21s 213ms/step - loss: 0.6186 - acc: 0.6500 - val_loss: 0.6003 - val_acc: 0.6760\n",
      "Epoch 10/30\n",
      "100/100 [==============================] - 21s 208ms/step - loss: 0.6060 - acc: 0.6590 - val_loss: 0.5947 - val_acc: 0.6700\n",
      "Epoch 11/30\n",
      "100/100 [==============================] - 22s 220ms/step - loss: 0.6129 - acc: 0.6615 - val_loss: 0.5961 - val_acc: 0.6720\n",
      "Epoch 12/30\n",
      "100/100 [==============================] - 21s 207ms/step - loss: 0.6124 - acc: 0.6565 - val_loss: 0.5950 - val_acc: 0.6770\n",
      "Epoch 13/30\n",
      "100/100 [==============================] - 22s 222ms/step - loss: 0.5994 - acc: 0.6670 - val_loss: 0.5960 - val_acc: 0.6690\n",
      "Epoch 14/30\n",
      "100/100 [==============================] - 22s 215ms/step - loss: 0.6050 - acc: 0.6650 - val_loss: 0.5903 - val_acc: 0.6780\n",
      "Epoch 15/30\n",
      "100/100 [==============================] - 23s 225ms/step - loss: 0.5987 - acc: 0.6700 - val_loss: 0.5882 - val_acc: 0.6810\n",
      "Epoch 16/30\n",
      "100/100 [==============================] - 22s 220ms/step - loss: 0.6074 - acc: 0.6655 - val_loss: 0.5855 - val_acc: 0.6880\n",
      "Epoch 17/30\n",
      "100/100 [==============================] - 21s 211ms/step - loss: 0.6138 - acc: 0.6580 - val_loss: 0.5834 - val_acc: 0.6910\n",
      "Epoch 18/30\n",
      "100/100 [==============================] - 20s 201ms/step - loss: 0.5944 - acc: 0.6810 - val_loss: 0.5824 - val_acc: 0.6900\n",
      "Epoch 19/30\n",
      "100/100 [==============================] - 21s 208ms/step - loss: 0.5906 - acc: 0.6860 - val_loss: 0.5852 - val_acc: 0.6860\n",
      "Epoch 20/30\n",
      "100/100 [==============================] - 21s 207ms/step - loss: 0.5921 - acc: 0.6730 - val_loss: 0.5811 - val_acc: 0.6960\n",
      "Epoch 21/30\n",
      "100/100 [==============================] - 20s 204ms/step - loss: 0.5988 - acc: 0.6730 - val_loss: 0.5768 - val_acc: 0.7000\n",
      "Epoch 22/30\n",
      "100/100 [==============================] - 20s 202ms/step - loss: 0.5952 - acc: 0.6760 - val_loss: 0.5872 - val_acc: 0.6950\n",
      "Epoch 23/30\n",
      "100/100 [==============================] - 20s 201ms/step - loss: 0.5913 - acc: 0.6745 - val_loss: 0.5768 - val_acc: 0.6960\n",
      "Epoch 24/30\n",
      "100/100 [==============================] - 21s 207ms/step - loss: 0.5894 - acc: 0.6850 - val_loss: 0.5838 - val_acc: 0.6910\n",
      "Epoch 25/30\n",
      "100/100 [==============================] - 20s 197ms/step - loss: 0.5914 - acc: 0.6700 - val_loss: 0.5762 - val_acc: 0.6970\n",
      "Epoch 26/30\n",
      "100/100 [==============================] - 21s 206ms/step - loss: 0.5951 - acc: 0.6755 - val_loss: 0.5842 - val_acc: 0.6900\n",
      "Epoch 27/30\n",
      "100/100 [==============================] - 20s 204ms/step - loss: 0.5832 - acc: 0.6830 - val_loss: 0.5944 - val_acc: 0.6760\n",
      "Epoch 28/30\n",
      "100/100 [==============================] - 20s 204ms/step - loss: 0.5880 - acc: 0.6870 - val_loss: 0.5770 - val_acc: 0.7000\n",
      "Epoch 29/30\n",
      "100/100 [==============================] - 20s 203ms/step - loss: 0.5780 - acc: 0.6890 - val_loss: 0.5746 - val_acc: 0.6960\n",
      "Epoch 30/30\n",
      "100/100 [==============================] - 20s 201ms/step - loss: 0.5862 - acc: 0.6790 - val_loss: 0.5715 - val_acc: 0.7050\n"
     ]
    },
    {
     "name": "stderr",
     "output_type": "stream",
     "text": [
      "2023-04-18 16:11:00.520172: I tensorflow/core/common_runtime/executor.cc:1197] [/device:CPU:0] (DEBUG INFO) Executor start aborting (this does not indicate an error and you can ignore this message): INVALID_ARGUMENT: You must feed a value for placeholder tensor 'inputs' with dtype float and shape [?,512]\n",
      "\t [[{{node inputs}}]]\n",
      "2023-04-18 16:11:00.929042: I tensorflow/core/common_runtime/executor.cc:1197] [/device:CPU:0] (DEBUG INFO) Executor start aborting (this does not indicate an error and you can ignore this message): INVALID_ARGUMENT: You must feed a value for placeholder tensor 'inputs' with dtype float and shape [?,512]\n",
      "\t [[{{node inputs}}]]\n",
      "WARNING:absl:Found untraced functions such as _jit_compiled_convolution_op, _jit_compiled_convolution_op, _jit_compiled_convolution_op, _jit_compiled_convolution_op, _jit_compiled_convolution_op while saving (showing 5 of 14). These functions will not be directly callable after loading.\n"
     ]
    },
    {
     "name": "stdout",
     "output_type": "stream",
     "text": [
      "INFO:tensorflow:Assets written to: ./models/tensorflow/2.12.0/binary_classification_catdog_binarycrossentropy_keras.engine.functional.Functional.sav/assets\n"
     ]
    },
    {
     "name": "stderr",
     "output_type": "stream",
     "text": [
      "INFO:tensorflow:Assets written to: ./models/tensorflow/2.12.0/binary_classification_catdog_binarycrossentropy_keras.engine.functional.Functional.sav/assets\n"
     ]
    }
   ],
   "source": [
    "from keras.applications.vgg16 import VGG16\n",
    "base_model = VGG16(weights='imagenet', \n",
    "                   input_shape=(IMGSIZE, IMGSIZE, CHANNELS),\n",
    "                   include_top = False)\n",
    "\n",
    "# transfer learning to re-train VGG16 to binary classification model\n",
    "for layer in base_model.layers:\n",
    "    layer.trainable = False\n",
    "\n",
    "# Flatten the output layer to 1 dimension\n",
    "x = layers.Flatten()(base_model.output)\n",
    "\n",
    "# Add a fully connected layer with 512 hidden units and ReLU activation\n",
    "x = layers.Dense(512, activation='relu')(x)\n",
    "x = layers.Dropout(0.5)(x)\n",
    "x = layers.Dense(1, activation='sigmoid')(x)\n",
    "\n",
    "# our new model setup\n",
    "model = tf.keras.models.Model(base_model.input, x)\n",
    "\n",
    "# Change it to binary classification\n",
    "model.compile(optimizer = tf.keras.optimizers.RMSprop(learning_rate=0.0001), \n",
    "              loss = 'binary_crossentropy',\n",
    "              metrics = ['acc'])\n",
    "\n",
    "model.fit(train_data, validation_data = test_data,  steps_per_epoch = 100, epochs = EPOCHS)    \n",
    "model.save(\"{0}/binary_classification_catdog_binarycrossentropy_keras.engine.functional.Functional.sav\".format(save_dir))"
   ]
  },
  {
   "cell_type": "markdown",
   "id": "799ecd7a-8630-4205-8c90-117329d9cb9d",
   "metadata": {},
   "source": [
    "#### Binary Classification - Binary Focal Cross Entropy"
   ]
  },
  {
   "cell_type": "code",
   "execution_count": 41,
   "id": "29b8001d-5c88-473f-b966-a3cb701769f3",
   "metadata": {
    "tags": []
   },
   "outputs": [
    {
     "name": "stdout",
     "output_type": "stream",
     "text": [
      "Epoch 1/30\n"
     ]
    },
    {
     "name": "stderr",
     "output_type": "stream",
     "text": [
      "2023-04-18 16:56:15.712575: I tensorflow/core/common_runtime/executor.cc:1197] [/device:CPU:0] (DEBUG INFO) Executor start aborting (this does not indicate an error and you can ignore this message): INVALID_ARGUMENT: You must feed a value for placeholder tensor 'Placeholder/_0' with dtype int32\n",
      "\t [[{{node Placeholder/_0}}]]\n"
     ]
    },
    {
     "name": "stdout",
     "output_type": "stream",
     "text": [
      "100/100 [==============================] - ETA: 0s - loss: 0.1782 - acc: 0.5160"
     ]
    },
    {
     "name": "stderr",
     "output_type": "stream",
     "text": [
      "2023-04-18 16:56:30.052039: I tensorflow/core/common_runtime/executor.cc:1197] [/device:CPU:0] (DEBUG INFO) Executor start aborting (this does not indicate an error and you can ignore this message): INVALID_ARGUMENT: You must feed a value for placeholder tensor 'Placeholder/_0' with dtype int32\n",
      "\t [[{{node Placeholder/_0}}]]\n"
     ]
    },
    {
     "name": "stdout",
     "output_type": "stream",
     "text": [
      "100/100 [==============================] - 21s 199ms/step - loss: 0.1782 - acc: 0.5160 - val_loss: 0.1549 - val_acc: 0.5190\n",
      "Epoch 2/30\n",
      "100/100 [==============================] - 20s 197ms/step - loss: 0.1662 - acc: 0.5335 - val_loss: 0.1491 - val_acc: 0.5650\n",
      "Epoch 3/30\n",
      "100/100 [==============================] - 20s 197ms/step - loss: 0.1595 - acc: 0.5700 - val_loss: 0.1489 - val_acc: 0.6270\n",
      "Epoch 4/30\n",
      "100/100 [==============================] - 20s 199ms/step - loss: 0.1596 - acc: 0.5790 - val_loss: 0.1457 - val_acc: 0.6310\n",
      "Epoch 5/30\n",
      "100/100 [==============================] - 20s 196ms/step - loss: 0.1550 - acc: 0.5795 - val_loss: 0.1443 - val_acc: 0.6370\n",
      "Epoch 6/30\n",
      "100/100 [==============================] - 20s 196ms/step - loss: 0.1542 - acc: 0.5955 - val_loss: 0.1430 - val_acc: 0.6310\n",
      "Epoch 7/30\n",
      "100/100 [==============================] - 20s 195ms/step - loss: 0.1528 - acc: 0.5845 - val_loss: 0.1414 - val_acc: 0.6200\n",
      "Epoch 8/30\n",
      "100/100 [==============================] - 20s 196ms/step - loss: 0.1527 - acc: 0.5920 - val_loss: 0.1445 - val_acc: 0.6680\n",
      "Epoch 9/30\n",
      "100/100 [==============================] - 20s 201ms/step - loss: 0.1511 - acc: 0.6010 - val_loss: 0.1424 - val_acc: 0.6550\n",
      "Epoch 10/30\n",
      "100/100 [==============================] - 20s 199ms/step - loss: 0.1486 - acc: 0.6070 - val_loss: 0.1403 - val_acc: 0.6410\n",
      "Epoch 11/30\n",
      "100/100 [==============================] - 20s 198ms/step - loss: 0.1473 - acc: 0.6025 - val_loss: 0.1401 - val_acc: 0.6570\n",
      "Epoch 12/30\n",
      "100/100 [==============================] - 20s 198ms/step - loss: 0.1460 - acc: 0.6105 - val_loss: 0.1397 - val_acc: 0.6530\n",
      "Epoch 13/30\n",
      "100/100 [==============================] - 21s 209ms/step - loss: 0.1441 - acc: 0.6220 - val_loss: 0.1403 - val_acc: 0.6500\n",
      "Epoch 14/30\n",
      "100/100 [==============================] - 20s 201ms/step - loss: 0.1469 - acc: 0.6205 - val_loss: 0.1388 - val_acc: 0.6450\n",
      "Epoch 15/30\n",
      "100/100 [==============================] - 20s 196ms/step - loss: 0.1465 - acc: 0.6010 - val_loss: 0.1384 - val_acc: 0.6390\n",
      "Epoch 16/30\n",
      "100/100 [==============================] - 21s 210ms/step - loss: 0.1468 - acc: 0.6130 - val_loss: 0.1385 - val_acc: 0.6450\n",
      "Epoch 17/30\n",
      "100/100 [==============================] - 20s 197ms/step - loss: 0.1427 - acc: 0.6305 - val_loss: 0.1380 - val_acc: 0.6320\n",
      "Epoch 18/30\n",
      "100/100 [==============================] - 20s 196ms/step - loss: 0.1459 - acc: 0.6120 - val_loss: 0.1379 - val_acc: 0.6550\n",
      "Epoch 19/30\n",
      "100/100 [==============================] - 21s 210ms/step - loss: 0.1424 - acc: 0.6180 - val_loss: 0.1370 - val_acc: 0.6450\n",
      "Epoch 20/30\n",
      "100/100 [==============================] - 19s 192ms/step - loss: 0.1447 - acc: 0.6195 - val_loss: 0.1374 - val_acc: 0.6530\n",
      "Epoch 21/30\n",
      "100/100 [==============================] - 20s 196ms/step - loss: 0.1429 - acc: 0.6290 - val_loss: 0.1397 - val_acc: 0.6730\n",
      "Epoch 22/30\n",
      "100/100 [==============================] - 20s 197ms/step - loss: 0.1432 - acc: 0.6275 - val_loss: 0.1377 - val_acc: 0.6550\n",
      "Epoch 23/30\n",
      "100/100 [==============================] - 20s 196ms/step - loss: 0.1408 - acc: 0.6285 - val_loss: 0.1382 - val_acc: 0.6690\n",
      "Epoch 24/30\n",
      "100/100 [==============================] - 20s 201ms/step - loss: 0.1420 - acc: 0.6250 - val_loss: 0.1380 - val_acc: 0.6690\n",
      "Epoch 25/30\n",
      "100/100 [==============================] - 20s 203ms/step - loss: 0.1403 - acc: 0.6415 - val_loss: 0.1372 - val_acc: 0.6630\n",
      "Epoch 26/30\n",
      "100/100 [==============================] - 20s 200ms/step - loss: 0.1418 - acc: 0.6295 - val_loss: 0.1379 - val_acc: 0.6650\n",
      "Epoch 27/30\n",
      "100/100 [==============================] - 20s 202ms/step - loss: 0.1429 - acc: 0.6280 - val_loss: 0.1366 - val_acc: 0.6640\n",
      "Epoch 28/30\n",
      "100/100 [==============================] - 20s 201ms/step - loss: 0.1407 - acc: 0.6270 - val_loss: 0.1373 - val_acc: 0.6670\n",
      "Epoch 29/30\n",
      "100/100 [==============================] - 21s 206ms/step - loss: 0.1450 - acc: 0.6260 - val_loss: 0.1367 - val_acc: 0.6580\n",
      "Epoch 30/30\n",
      "100/100 [==============================] - 21s 205ms/step - loss: 0.1411 - acc: 0.6300 - val_loss: 0.1368 - val_acc: 0.6560\n"
     ]
    },
    {
     "name": "stderr",
     "output_type": "stream",
     "text": [
      "2023-04-18 17:07:29.235526: I tensorflow/core/common_runtime/executor.cc:1197] [/device:CPU:0] (DEBUG INFO) Executor start aborting (this does not indicate an error and you can ignore this message): INVALID_ARGUMENT: You must feed a value for placeholder tensor 'inputs' with dtype float and shape [?,512]\n",
      "\t [[{{node inputs}}]]\n",
      "2023-04-18 17:07:29.650819: I tensorflow/core/common_runtime/executor.cc:1197] [/device:CPU:0] (DEBUG INFO) Executor start aborting (this does not indicate an error and you can ignore this message): INVALID_ARGUMENT: You must feed a value for placeholder tensor 'inputs' with dtype float and shape [?,512]\n",
      "\t [[{{node inputs}}]]\n",
      "WARNING:absl:Found untraced functions such as _jit_compiled_convolution_op, _jit_compiled_convolution_op, _jit_compiled_convolution_op, _jit_compiled_convolution_op, _jit_compiled_convolution_op while saving (showing 5 of 14). These functions will not be directly callable after loading.\n"
     ]
    },
    {
     "name": "stdout",
     "output_type": "stream",
     "text": [
      "INFO:tensorflow:Assets written to: ./models/tensorflow/2.12.0/binary_classification_catdog_binaryfocalcrossentropy_keras.engine.functional.Functional.sav/assets\n"
     ]
    },
    {
     "name": "stderr",
     "output_type": "stream",
     "text": [
      "INFO:tensorflow:Assets written to: ./models/tensorflow/2.12.0/binary_classification_catdog_binaryfocalcrossentropy_keras.engine.functional.Functional.sav/assets\n"
     ]
    }
   ],
   "source": [
    "from keras.applications.vgg16 import VGG16\n",
    "base_model = VGG16(weights='imagenet', \n",
    "                   input_shape=(IMGSIZE, IMGSIZE, CHANNELS),\n",
    "                   include_top = False)\n",
    "\n",
    "# transfer learning to re-train VGG16 to binary classification model\n",
    "for layer in base_model.layers:\n",
    "    layer.trainable = False\n",
    "\n",
    "# Flatten the output layer to 1 dimension\n",
    "x = layers.Flatten()(base_model.output)\n",
    "\n",
    "# Add a fully connected layer with 512 hidden units and ReLU activation\n",
    "x = layers.Dense(512, activation='relu')(x)\n",
    "x = layers.Dropout(0.5)(x)\n",
    "x = layers.Dense(1, activation='sigmoid')(x)\n",
    "\n",
    "# our new model setup\n",
    "model = tf.keras.models.Model(base_model.input, x)\n",
    "\n",
    "# Change it to binary classification\n",
    "model.compile(optimizer = tf.keras.optimizers.RMSprop(learning_rate=0.0001), \n",
    "              loss = tf.keras.losses.BinaryFocalCrossentropy(from_logits=True),\n",
    "              metrics = ['acc'])\n",
    "\n",
    "model.fit(train_data, validation_data = test_data,  steps_per_epoch = 100, epochs = EPOCHS)    \n",
    "model.save(\"{0}/binary_classification_catdog_binaryfocalcrossentropy_keras.engine.functional.Functional.sav\".format(save_dir))"
   ]
  },
  {
   "cell_type": "code",
   "execution_count": 17,
   "id": "8f7bffd5-d35f-48e1-917a-ced24bd6ea21",
   "metadata": {},
   "outputs": [
    {
     "name": "stdout",
     "output_type": "stream",
     "text": [
      "32/32 [==============================] - 1s 45ms/step\n",
      "Predicted: 1000 images\n"
     ]
    },
    {
     "data": {
      "image/png": "[encoded data removed]",
      "text/plain": [
       "<Figure size 2000x2500 with 16 Axes>"
      ]
     },
     "metadata": {},
     "output_type": "display_data"
    }
   ],
   "source": [
    "# get the data from pandas\n",
    "testing = pickle.load(open(\"./data/pickle_pandas_image_catdog_testing.sav\", \"rb\"))\n",
    "images = testing.drop([\"label\", \"filename\"], axis=1).to_numpy().reshape(len(testing), IMGSIZE, IMGSIZE, 3)\n",
    "\n",
    "predictions = model.predict(images)\n",
    "print(\"Predicted: {0} images\".format(len(predictions)))\n",
    "\n",
    "im_test = []\n",
    "# show some sample results\n",
    "fig , ax = plt.subplots(4, 4, figsize=(20, 25))\n",
    "for i, axis in enumerate(ax.flat):\n",
    "    axis.imshow(images[i][:, :, 0])\n",
    "    #print(predictions[i])\n",
    "    pred_class =int( np.round(predictions[i]))\n",
    "    pred_prob = float(predictions[i])*100\n",
    "    axis.set_title(f'Predicted: {category[pred_class]}\\n', fontsize=18)"
   ]
  },
  {
   "cell_type": "markdown",
   "id": "a943cd29-b83f-4cae-8f11-65c27735773d",
   "metadata": {},
   "source": [
    "## Tensorflow Input Pipelines\n",
    "\n",
    "https://www.tensorflow.org/guide/data"
   ]
  },
  {
   "cell_type": "markdown",
   "id": "ebd271cf-54e1-4911-b5e5-91f77d688826",
   "metadata": {},
   "source": [
    "### If we support raw images, we can request users to upload pipeline to process the image..?"
   ]
  },
  {
   "cell_type": "code",
   "execution_count": null,
   "id": "bb459b8c-320d-4896-a434-7920d2a1ad97",
   "metadata": {},
   "outputs": [],
   "source": []
  }
 ],
 "metadata": {
  "kernelspec": {
   "display_name": "research",
   "language": "python",
   "name": "research"
  },
  "language_info": {
   "codemirror_mode": {
    "name": "ipython",
    "version": 3
   },
   "file_extension": ".py",
   "mimetype": "text/x-python",
   "name": "python",
   "nbconvert_exporter": "python",
   "pygments_lexer": "ipython3",
   "version": "3.10.0"
  }
 },
 "nbformat": 4,
 "nbformat_minor": 5
}
