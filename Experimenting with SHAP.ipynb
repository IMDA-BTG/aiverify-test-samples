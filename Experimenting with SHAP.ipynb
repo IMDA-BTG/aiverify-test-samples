{
 "cells": [
  {
   "cell_type": "code",
   "execution_count": 30,
   "id": "5e08c94c-05f7-4f5b-8cf7-1c3a8f4fdca2",
   "metadata": {
    "tags": []
   },
   "outputs": [],
   "source": [
    "import shap\n",
    "import pickle\n",
    "import pandas\n",
    "import sklearn\n",
    "import pkgutil\n",
    "import os\n",
    "import importlib, inspect\n",
    "import tensorflow\n",
    "import lightgbm\n",
    "import xgboost\n",
    "\n",
    "from sklearn.preprocessing import LabelEncoder\n",
    "\n",
    "import warnings\n",
    "warnings.filterwarnings(\"ignore\")"
   ]
  },
  {
   "cell_type": "markdown",
   "id": "f6fd5091-e2db-4d7e-9a21-f31adbac7749",
   "metadata": {},
   "source": [
    "# Data Preparation"
   ]
  },
  {
   "cell_type": "code",
   "execution_count": 3,
   "id": "a8db793d-de82-43d8-b829-63b2a2e93b1c",
   "metadata": {
    "tags": []
   },
   "outputs": [],
   "source": [
    "class featureEngineeringStage():\n",
    "    def __init__(self, columns, selection):\n",
    "        self.columns = columns\n",
    "        self.selection = selection\n",
    "    \n",
    "    def transform(self, X, y=None):\n",
    "        \"\"\"Transform columns of X using LabelEncoder.\n",
    "        \"\"\"\n",
    "        output = X.copy()\n",
    "        for col in self.columns:\n",
    "            output[col] = LabelEncoder().fit_transform(output[col])\n",
    "        return output[selection]\n",
    "    \n",
    "    def fit(self, X, y=None):\n",
    "        return self"
   ]
  },
  {
   "cell_type": "code",
   "execution_count": 4,
   "id": "7748c22f-1511-45a0-bbbe-fa89742df25f",
   "metadata": {
    "tags": []
   },
   "outputs": [],
   "source": [
    "save_dir = \"./models\""
   ]
  },
  {
   "cell_type": "code",
   "execution_count": 45,
   "id": "c36738e2-1653-4b6c-874d-8f239fa8ed9e",
   "metadata": {
    "tags": []
   },
   "outputs": [],
   "source": [
    "insurance_training = pickle.load(open(\"./data/pickle_pandas_tabular_insurance_training.sav\", \"rb\"))\n",
    "insurance_testing = pickle.load(open(\"./data/pickle_pandas_tabular_insurance_testing.sav\", \"rb\"))\n",
    "insurance_testing.describe()\n",
    "\n",
    "X_train = insurance_training.drop(\"charges\", axis=1)\n",
    "y_train = insurance_training[[\"charges\"]]\n",
    "X_test = insurance_testing.drop(\"charges\", axis=1)\n",
    "y_test = insurance_testing[[\"charges\"]]\n",
    "\n",
    "regression_background = X_test.sample(50)\n",
    "regression_test = X_test.sample(10)\n",
    "\n",
    "##\n",
    "\n",
    "compas_training = pickle.load(open(\"./data/pickle_pandas_tabular_compas_training.sav\", \"rb\"))\n",
    "compas_testing = pickle.load(open(\"./data/pickle_pandas_tabular_compas_testing.sav\", \"rb\"))\n",
    "\n",
    "X_train = compas_training.drop(\"two_year_recid\", axis=1)\n",
    "y_train = compas_training[[\"two_year_recid\"]]\n",
    "X_test = compas_testing.drop(\"two_year_recid\", axis=1)\n",
    "y_test = compas_testing[[\"two_year_recid\"]]\n",
    "\n",
    "bc_background = X_test.sample(50)\n",
    "bc_test = X_test.sample(10)\n",
    "\n",
    "##\n",
    "\n",
    "loan_training = pickle.load(open(\"./data/pickle_pandas_tabular_loan_training.sav\", \"rb\")).sample(5000)\n",
    "loan_testing = pickle.load(open(\"./data/pickle_pandas_tabular_loan_testing.sav\", \"rb\")).sample(2000)\n",
    "\n",
    "X_train = loan_training.drop(\"Interest_Rate\", axis=1)\n",
    "y_train = loan_training[[\"Interest_Rate\"]]\n",
    "X_test = loan_testing.drop(\"Interest_Rate\", axis=1)\n",
    "y_test = loan_testing[[\"Interest_Rate\"]]\n",
    "\n",
    "mc_background = X_test.sample(50)\n",
    "mc_test = X_test.sample(10)\n",
    "\n",
    "##\n",
    "\n",
    "regression_pipeline = pickle.load(open(\"./data/pickle_pandas_tabular_insurance_pipeline_testing.sav\".format(save_dir), \"rb\"))\n",
    "rp_background = regression_pipeline.sample(50)\n",
    "rp_test = regression_pipeline.sample(10)\n",
    "\n",
    "##\n",
    "bc_pipeline = pickle.load(open(\"./data/pickle_pandas_tabular_compas_pipeline_testing.sav\".format(save_dir), \"rb\"))\n",
    "bc_pipeline_background = bc_pipeline.sample(50)\n",
    "bc_pipeline_test = bc_pipeline.sample(10)"
   ]
  },
  {
   "cell_type": "markdown",
   "id": "185c1c45-31ed-416a-958a-5451e4a0697c",
   "metadata": {},
   "source": [
    "## BC, Regression, MC\n"
   ]
  },
  {
   "cell_type": "code",
   "execution_count": 46,
   "id": "fec72d3f-9e5f-4f13-bc89-510f2557a197",
   "metadata": {
    "tags": []
   },
   "outputs": [
    {
     "name": "stdout",
     "output_type": "stream",
     "text": [
      "Processing  ./models/xgboost/1.7.5/regression_insurance_squarederror_xgboost.core.Booster.sav\n",
      "processing for:  <xgboost.core.Booster object at 0x7f4cec456920>\n",
      "Processing  ./models/xgboost/1.7.5/binary_classification_compas_xgboost.sklearn.XGBRFClassifier.sav\n",
      "processing for:  XGBRFClassifier(base_score=None, booster=None, callbacks=None,\n",
      "                colsample_bylevel=None, colsample_bytree=None,\n",
      "                early_stopping_rounds=None, enable_categorical=False,\n",
      "                eval_metric=None, feature_types=None, gamma=None, gpu_id=None,\n",
      "                grow_policy=None, importance_type=None,\n",
      "                interaction_constraints=None, max_bin=None,\n",
      "                max_cat_threshold=None, max_cat_to_onehot=None,\n",
      "                max_delta_step=None, max_depth=None, max_leaves=None,\n",
      "                min_child_weight=None, missing=nan, monotone_constraints=None,\n",
      "                n_estimators=100, n_jobs=None, num_parallel_tree=None,\n",
      "                objective='binary:logistic', predictor=None, random_state=None,\n",
      "                reg_alpha=None, ...)\n",
      "Processing  ./models/xgboost/1.7.5/regression_insurance_pseudohubererror_xgboost.core.Booster.sav\n",
      "processing for:  <xgboost.core.Booster object at 0x7f4e21214280>\n",
      "Processing  ./models/xgboost/1.7.5/binary_classification_compas_logistic_xgboost.core.Booster.sav\n",
      "processing for:  <xgboost.core.Booster object at 0x7f4d3c510d90>\n",
      "Processing  ./models/xgboost/1.7.5/multiclass_classification_loan_xgboost.sklearn.XGBRFClassifier.sav\n",
      "processing for:  XGBRFClassifier(base_score=None, booster=None, callbacks=None,\n",
      "                colsample_bylevel=None, colsample_bytree=None,\n",
      "                early_stopping_rounds=None, enable_categorical=False,\n",
      "                eval_metric=None, feature_types=None, gamma=None, gpu_id=None,\n",
      "                grow_policy=None, importance_type=None,\n",
      "                interaction_constraints=None, max_bin=None,\n",
      "                max_cat_threshold=None, max_cat_to_onehot=None,\n",
      "                max_delta_step=None, max_depth=None, max_leaves=None,\n",
      "                min_child_weight=None, missing=nan, monotone_constraints=None,\n",
      "                n_estimators=100, n_jobs=None, num_parallel_tree=None,\n",
      "                objective='multi:softprob', predictor=None, random_state=None,\n",
      "                reg_alpha=None, ...)\n",
      "Processing  ./models/xgboost/1.7.5/binary_classification_compas_logitraw_xgboost.core.Booster.sav\n",
      "processing for:  <xgboost.core.Booster object at 0x7f4ce75aded0>\n",
      "Processing  ./models/xgboost/1.7.5/multiclass_classification_loan_xgboost.sklearn.XGBClassifier.sav\n",
      "processing for:  XGBClassifier(base_score=None, booster=None, callbacks=None,\n",
      "              colsample_bylevel=None, colsample_bynode=None,\n",
      "              colsample_bytree=None, early_stopping_rounds=None,\n",
      "              enable_categorical=False, eval_metric=None, feature_types=None,\n",
      "              gamma=None, gpu_id=None, grow_policy=None, importance_type=None,\n",
      "              interaction_constraints=None, learning_rate=None, max_bin=None,\n",
      "              max_cat_threshold=None, max_cat_to_onehot=None,\n",
      "              max_delta_step=None, max_depth=None, max_leaves=None,\n",
      "              min_child_weight=None, missing=nan, monotone_constraints=None,\n",
      "              n_estimators=100, n_jobs=None, num_parallel_tree=None,\n",
      "              objective='multi:softprob', predictor=None, ...)\n",
      "Processing  ./models/xgboost/1.7.5/binary_classification_compas_xgboost.sklearn.XGBClassifier.sav\n",
      "processing for:  XGBClassifier(base_score=None, booster=None, callbacks=None,\n",
      "              colsample_bylevel=None, colsample_bynode=None,\n",
      "              colsample_bytree=None, early_stopping_rounds=None,\n",
      "              enable_categorical=False, eval_metric=None, feature_types=None,\n",
      "              gamma=None, gpu_id=None, grow_policy=None, importance_type=None,\n",
      "              interaction_constraints=None, learning_rate=None, max_bin=None,\n",
      "              max_cat_threshold=None, max_cat_to_onehot=None,\n",
      "              max_delta_step=None, max_depth=None, max_leaves=None,\n",
      "              min_child_weight=None, missing=nan, monotone_constraints=None,\n",
      "              n_estimators=100, n_jobs=None, num_parallel_tree=None,\n",
      "              predictor=None, random_state=None, ...)\n",
      "Processing  ./models/xgboost/1.7.5/regression_insurance_xgboost.sklearn.XGBRFRegressor.sav\n",
      "processing for:  XGBRFRegressor(base_score=None, booster=None, callbacks=None,\n",
      "               colsample_bylevel=None, colsample_bytree=None,\n",
      "               early_stopping_rounds=None, enable_categorical=False,\n",
      "               eval_metric=None, feature_types=None, gamma=None, gpu_id=None,\n",
      "               grow_policy=None, importance_type=None,\n",
      "               interaction_constraints=None, max_bin=None,\n",
      "               max_cat_threshold=None, max_cat_to_onehot=None,\n",
      "               max_delta_step=None, max_depth=None, max_leaves=None,\n",
      "               min_child_weight=None, missing=nan, monotone_constraints=None,\n",
      "               n_estimators=100, n_jobs=None, num_parallel_tree=None,\n",
      "               objective='reg:squarederror', predictor=None, random_state=None,\n",
      "               reg_alpha=None, ...)\n",
      "Processing  ./models/xgboost/1.7.5/multiclass_classification_loan_softmax_xgboost.core.Booster.sav\n",
      "processing for:  <xgboost.core.Booster object at 0x7f4ce75ad900>\n",
      "Processing  ./models/xgboost/1.7.5/regression_insurance_xgboost.sklearn.XGBRegressor.sav\n",
      "processing for:  XGBRegressor(base_score=None, booster=None, callbacks=None,\n",
      "             colsample_bylevel=None, colsample_bynode=None,\n",
      "             colsample_bytree=None, early_stopping_rounds=None,\n",
      "             enable_categorical=False, eval_metric=None, feature_types=None,\n",
      "             gamma=None, gpu_id=None, grow_policy=None, importance_type=None,\n",
      "             interaction_constraints=None, learning_rate=None, max_bin=None,\n",
      "             max_cat_threshold=None, max_cat_to_onehot=None,\n",
      "             max_delta_step=None, max_depth=None, max_leaves=None,\n",
      "             min_child_weight=None, missing=nan, monotone_constraints=None,\n",
      "             n_estimators=100, n_jobs=None, num_parallel_tree=None,\n",
      "             predictor=None, random_state=None, ...)\n",
      "Processing  ./models/xgboost/1.7.5/multiclass_classification_loan_softprob_xgboost.core.Booster.sav\n",
      "processing for:  <xgboost.core.Booster object at 0x7f4e21214340>\n",
      "Processing  ./models/xgboost/1.7.5/regression_insurance__xgboost.core.Booster.sav\n",
      "processing for:  <xgboost.core.Booster object at 0x7f4cec456920>\n",
      "Processing  ./models/xgboost/1.7.5/regression_insurance_absoluteerror_xgboost.core.Booster.sav\n",
      "processing for:  <xgboost.core.Booster object at 0x7f4ce75aded0>\n",
      "Processing  ./models/sklearnpipeline/1.2.2/classification/binary_classification_compas_sklearn.pipeline.Pipeline.sav\n",
      "processing for:  Pipeline(steps=[('feature_engineering',\n",
      "                 <__main__.featureEngineeringStage object at 0x7f4cec455f00>),\n",
      "                ('model', LogisticRegression())])\n",
      "Processing  ./models/sklearnpipeline/1.2.2/regression/regression_insurance_sklearn.pipeline.Pipeline.sav\n",
      "processing for:  Pipeline(steps=[('feature_engineering',\n",
      "                 <__main__.featureEngineeringStage object at 0x7f4ce76f4b80>),\n",
      "                ('model', LinearRegression())])\n",
      "Processing  ./models/sklearn/1.2.2/multiclass_classification_loan_sklearn.naive_bayes.ComplementNB.sav\n",
      "processing for:  ComplementNB()\n"
     ]
    },
    {
     "name": "stderr",
     "output_type": "stream",
     "text": [
      "100%|███████████████████████████████████████████████████████████████████| 10/10 [00:02<00:00,  3.41it/s]\n"
     ]
    },
    {
     "name": "stdout",
     "output_type": "stream",
     "text": [
      "Processing  ./models/sklearn/1.2.2/multiclass_classification_loan_sklearn.discriminant_analysis.QuadraticDiscriminantAnalysis.sav\n",
      "processing for:  QuadraticDiscriminantAnalysis()\n"
     ]
    },
    {
     "name": "stderr",
     "output_type": "stream",
     "text": [
      "100%|███████████████████████████████████████████████████████████████████| 10/10 [00:03<00:00,  3.20it/s]\n"
     ]
    },
    {
     "name": "stdout",
     "output_type": "stream",
     "text": [
      "Processing  ./models/sklearn/1.2.2/multiclass_classification_loan_sklearn.discriminant_analysis.LinearDiscriminantAnalysis.sav\n",
      "processing for:  LinearDiscriminantAnalysis()\n"
     ]
    },
    {
     "name": "stderr",
     "output_type": "stream",
     "text": [
      "100%|███████████████████████████████████████████████████████████████████| 10/10 [00:02<00:00,  3.39it/s]\n"
     ]
    },
    {
     "name": "stdout",
     "output_type": "stream",
     "text": [
      "Processing  ./models/sklearn/1.2.2/multiclass_classification_loan_sklearn.svm._classes.SVC.sav\n",
      "processing for:  SVC()\n"
     ]
    },
    {
     "name": "stderr",
     "output_type": "stream",
     "text": [
      "100%|███████████████████████████████████████████████████████████████████| 10/10 [02:05<00:00, 12.51s/it]\n"
     ]
    },
    {
     "name": "stdout",
     "output_type": "stream",
     "text": [
      "Processing  ./models/sklearn/1.2.2/binary_classification_compas_sklearn.multiclass.OneVsOneClassifier.sav\n",
      "processing for:  OneVsOneClassifier(estimator=LinearSVC(random_state=42))\n"
     ]
    },
    {
     "name": "stderr",
     "output_type": "stream",
     "text": [
      "100%|███████████████████████████████████████████████████████████████████| 10/10 [00:00<00:00, 98.38it/s]\n"
     ]
    },
    {
     "name": "stdout",
     "output_type": "stream",
     "text": [
      "Processing  ./models/sklearn/1.2.2/regression_insurance_sklearn.neural_network._multilayer_perceptron.MLPRegressor.sav\n",
      "processing for:  MLPRegressor()\n"
     ]
    },
    {
     "name": "stderr",
     "output_type": "stream",
     "text": [
      "100%|███████████████████████████████████████████████████████████████████| 10/10 [00:00<00:00, 43.27it/s]\n"
     ]
    },
    {
     "name": "stdout",
     "output_type": "stream",
     "text": [
      "Processing  ./models/sklearn/1.2.2/regression_insurance_sklearn.linear_model._ridge.RidgeCV.sav\n",
      "processing for:  RidgeCV()\n"
     ]
    },
    {
     "name": "stderr",
     "output_type": "stream",
     "text": [
      "100%|███████████████████████████████████████████████████████████████████| 10/10 [00:00<00:00, 45.72it/s]\n"
     ]
    },
    {
     "name": "stdout",
     "output_type": "stream",
     "text": [
      "Processing  ./models/sklearn/1.2.2/binary_classification_compas_sklearn.linear_model._logistic.LogisticRegression.sav\n",
      "processing for:  LogisticRegression()\n"
     ]
    },
    {
     "name": "stderr",
     "output_type": "stream",
     "text": [
      "100%|███████████████████████████████████████████████████████████████████| 10/10 [00:00<00:00, 85.10it/s]\n"
     ]
    },
    {
     "name": "stdout",
     "output_type": "stream",
     "text": [
      "Processing  ./models/sklearn/1.2.2/binary_classification_compas_sklearn.linear_model._perceptron.Perceptron.sav\n",
      "processing for:  Perceptron()\n"
     ]
    },
    {
     "name": "stderr",
     "output_type": "stream",
     "text": [
      "100%|██████████████████████████████████████████████████████████████████| 10/10 [00:00<00:00, 139.27it/s]\n"
     ]
    },
    {
     "name": "stdout",
     "output_type": "stream",
     "text": [
      "Processing  ./models/sklearn/1.2.2/regression_insurance_sklearn.linear_model._coordinate_descent.MultiTaskElasticNetCV.sav\n",
      "processing for:  MultiTaskElasticNetCV()\n"
     ]
    },
    {
     "name": "stderr",
     "output_type": "stream",
     "text": [
      "100%|███████████████████████████████████████████████████████████████████| 10/10 [00:00<00:00, 45.21it/s]\n"
     ]
    },
    {
     "name": "stdout",
     "output_type": "stream",
     "text": [
      "Processing  ./models/sklearn/1.2.2/binary_classification_compas_sklearn.naive_bayes.CategoricalNB.sav\n",
      "processing for:  CategoricalNB()\n"
     ]
    },
    {
     "name": "stderr",
     "output_type": "stream",
     "text": [
      "100%|███████████████████████████████████████████████████████████████████| 10/10 [00:00<00:00, 85.70it/s]\n"
     ]
    },
    {
     "name": "stdout",
     "output_type": "stream",
     "text": [
      "Processing  ./models/sklearn/1.2.2/binary_classification_compas_sklearn.multiclass.OutputCodeClassifier.sav\n",
      "processing for:  OutputCodeClassifier(estimator=LinearSVC(random_state=42))\n"
     ]
    },
    {
     "name": "stderr",
     "output_type": "stream",
     "text": [
      "100%|██████████████████████████████████████████████████████████████████| 10/10 [00:00<00:00, 125.16it/s]\n"
     ]
    },
    {
     "name": "stdout",
     "output_type": "stream",
     "text": [
      "Processing  ./models/sklearn/1.2.2/regression_insurance_sklearn.ensemble._hist_gradient_boosting.gradient_boosting.HistGradientBoostingRegressor.sav\n",
      "processing for:  HistGradientBoostingRegressor()\n"
     ]
    },
    {
     "name": "stderr",
     "output_type": "stream",
     "text": [
      "100%|███████████████████████████████████████████████████████████████████| 10/10 [00:01<00:00,  9.06it/s]\n"
     ]
    },
    {
     "name": "stdout",
     "output_type": "stream",
     "text": [
      "Processing  ./models/sklearn/1.2.2/binary_classification_compas_sklearn.svm._classes.NuSVC.sav\n",
      "processing for:  NuSVC()\n"
     ]
    },
    {
     "name": "stderr",
     "output_type": "stream",
     "text": [
      "100%|███████████████████████████████████████████████████████████████████| 10/10 [00:01<00:00,  9.99it/s]\n"
     ]
    },
    {
     "name": "stdout",
     "output_type": "stream",
     "text": [
      "Processing  ./models/sklearn/1.2.2/binary_classification_compas_sklearn.naive_bayes.ComplementNB.sav\n",
      "processing for:  ComplementNB()\n"
     ]
    },
    {
     "name": "stderr",
     "output_type": "stream",
     "text": [
      "100%|██████████████████████████████████████████████████████████████████| 10/10 [00:00<00:00, 134.79it/s]\n"
     ]
    },
    {
     "name": "stdout",
     "output_type": "stream",
     "text": [
      "Processing  ./models/sklearn/1.2.2/multiclass_classification_loan_sklearn.ensemble._forest.ExtraTreesClassifier.sav\n",
      "processing for:  ExtraTreesClassifier()\n"
     ]
    },
    {
     "name": "stderr",
     "output_type": "stream",
     "text": [
      "100%|███████████████████████████████████████████████████████████████████| 10/10 [00:09<00:00,  1.02it/s]\n"
     ]
    },
    {
     "name": "stdout",
     "output_type": "stream",
     "text": [
      "Processing  ./models/sklearn/1.2.2/binary_classification_compas_sklearn.linear_model._stochastic_gradient.SGDClassifier.sav\n",
      "processing for:  SGDClassifier()\n"
     ]
    },
    {
     "name": "stderr",
     "output_type": "stream",
     "text": [
      "100%|██████████████████████████████████████████████████████████████████| 10/10 [00:00<00:00, 124.84it/s]\n"
     ]
    },
    {
     "name": "stdout",
     "output_type": "stream",
     "text": [
      "Processing  ./models/sklearn/1.2.2/multiclass_classification_loan_sklearn.naive_bayes.BernoulliNB.sav\n",
      "processing for:  BernoulliNB()\n"
     ]
    },
    {
     "name": "stderr",
     "output_type": "stream",
     "text": [
      "100%|███████████████████████████████████████████████████████████████████| 10/10 [00:02<00:00,  3.44it/s]\n"
     ]
    },
    {
     "name": "stdout",
     "output_type": "stream",
     "text": [
      "Processing  ./models/sklearn/1.2.2/regression_insurance_sklearn.linear_model._least_angle.LassoLars.sav\n",
      "processing for:  LassoLars()\n"
     ]
    },
    {
     "name": "stderr",
     "output_type": "stream",
     "text": [
      "100%|███████████████████████████████████████████████████████████████████| 10/10 [00:00<00:00, 48.45it/s]\n"
     ]
    },
    {
     "name": "stdout",
     "output_type": "stream",
     "text": [
      "Processing  ./models/sklearn/1.2.2/regression_insurance_sklearn.linear_model._bayes.BayesianRidge.sav\n",
      "processing for:  BayesianRidge()\n"
     ]
    },
    {
     "name": "stderr",
     "output_type": "stream",
     "text": [
      "100%|███████████████████████████████████████████████████████████████████| 10/10 [00:00<00:00, 45.00it/s]\n"
     ]
    },
    {
     "name": "stdout",
     "output_type": "stream",
     "text": [
      "Processing  ./models/sklearn/1.2.2/regression_insurance_sklearn.ensemble._forest.ExtraTreesRegressor.sav\n",
      "processing for:  ExtraTreesRegressor()\n"
     ]
    },
    {
     "name": "stderr",
     "output_type": "stream",
     "text": [
      "100%|███████████████████████████████████████████████████████████████████| 10/10 [00:00<00:00, 27.15it/s]\n"
     ]
    },
    {
     "name": "stdout",
     "output_type": "stream",
     "text": [
      "Processing  ./models/sklearn/1.2.2/binary_classification_compas_sklearn.semi_supervised._label_propagation.LabelPropagation.sav\n",
      "processing for:  LabelPropagation()\n"
     ]
    },
    {
     "name": "stderr",
     "output_type": "stream",
     "text": [
      "100%|███████████████████████████████████████████████████████████████████| 10/10 [00:01<00:00,  6.79it/s]\n"
     ]
    },
    {
     "name": "stdout",
     "output_type": "stream",
     "text": [
      "Processing  ./models/sklearn/1.2.2/multiclass_classification_loan_sklearn.linear_model._ridge.RidgeClassifierCV.sav\n",
      "processing for:  RidgeClassifierCV()\n"
     ]
    },
    {
     "name": "stderr",
     "output_type": "stream",
     "text": [
      "100%|███████████████████████████████████████████████████████████████████| 10/10 [00:02<00:00,  3.44it/s]\n"
     ]
    },
    {
     "name": "stdout",
     "output_type": "stream",
     "text": [
      "Processing  ./models/sklearn/1.2.2/regression_insurance_sklearn.svm._classes.SVR.sav\n",
      "processing for:  SVR()\n"
     ]
    },
    {
     "name": "stderr",
     "output_type": "stream",
     "text": [
      "100%|███████████████████████████████████████████████████████████████████| 10/10 [00:00<00:00, 11.18it/s]\n"
     ]
    },
    {
     "name": "stdout",
     "output_type": "stream",
     "text": [
      "Processing  ./models/sklearn/1.2.2/regression_insurance_sklearn.linear_model._least_angle.LarsCV.sav\n",
      "processing for:  LarsCV()\n"
     ]
    },
    {
     "name": "stderr",
     "output_type": "stream",
     "text": [
      "100%|███████████████████████████████████████████████████████████████████| 10/10 [00:00<00:00, 46.53it/s]\n"
     ]
    },
    {
     "name": "stdout",
     "output_type": "stream",
     "text": [
      "Processing  ./models/sklearn/1.2.2/multiclass_classification_loan_sklearn.ensemble._bagging.BaggingClassifier.sav\n",
      "processing for:  BaggingClassifier(estimator=LinearSVC(random_state=42))\n"
     ]
    },
    {
     "name": "stderr",
     "output_type": "stream",
     "text": [
      "100%|███████████████████████████████████████████████████████████████████| 10/10 [00:09<00:00,  1.07it/s]\n"
     ]
    },
    {
     "name": "stdout",
     "output_type": "stream",
     "text": [
      "Processing  ./models/sklearn/1.2.2/binary_classification_compas_sklearn.ensemble._hist_gradient_boosting.gradient_boosting.HistGradientBoostingClassifier.sav\n",
      "processing for:  HistGradientBoostingClassifier()\n"
     ]
    },
    {
     "name": "stderr",
     "output_type": "stream",
     "text": [
      "100%|███████████████████████████████████████████████████████████████████| 10/10 [00:00<00:00, 17.77it/s]\n"
     ]
    },
    {
     "name": "stdout",
     "output_type": "stream",
     "text": [
      "Processing  ./models/sklearn/1.2.2/multiclass_classification_loan_sklearn.multiclass.OutputCodeClassifier.sav\n",
      "processing for:  OutputCodeClassifier(estimator=LinearSVC(random_state=42))\n"
     ]
    },
    {
     "name": "stderr",
     "output_type": "stream",
     "text": [
      "100%|███████████████████████████████████████████████████████████████████| 10/10 [00:02<00:00,  3.44it/s]\n"
     ]
    },
    {
     "name": "stdout",
     "output_type": "stream",
     "text": [
      "Processing  ./models/sklearn/1.2.2/regression_insurance_sklearn.neighbors._regression.KNeighborsRegressor.sav\n",
      "processing for:  KNeighborsRegressor()\n"
     ]
    },
    {
     "name": "stderr",
     "output_type": "stream",
     "text": [
      "100%|███████████████████████████████████████████████████████████████████| 10/10 [00:00<00:00, 55.35it/s]\n"
     ]
    },
    {
     "name": "stdout",
     "output_type": "stream",
     "text": [
      "Processing  ./models/sklearn/1.2.2/regression_insurance_sklearn.linear_model._stochastic_gradient.SGDRegressor.sav\n",
      "processing for:  SGDRegressor()\n"
     ]
    },
    {
     "name": "stderr",
     "output_type": "stream",
     "text": [
      "100%|███████████████████████████████████████████████████████████████████| 10/10 [00:00<00:00, 47.08it/s]\n"
     ]
    },
    {
     "name": "stdout",
     "output_type": "stream",
     "text": [
      "Processing  ./models/sklearn/1.2.2/regression_insurance_sklearn.linear_model._coordinate_descent.MultiTaskLassoCV.sav\n",
      "processing for:  MultiTaskLassoCV()\n"
     ]
    },
    {
     "name": "stderr",
     "output_type": "stream",
     "text": [
      "100%|███████████████████████████████████████████████████████████████████| 10/10 [00:00<00:00, 44.42it/s]\n"
     ]
    },
    {
     "name": "stdout",
     "output_type": "stream",
     "text": [
      "Processing  ./models/sklearn/1.2.2/binary_classification_compas_sklearn.ensemble._gb.GradientBoostingClassifier.sav\n",
      "processing for:  GradientBoostingClassifier()\n"
     ]
    },
    {
     "name": "stderr",
     "output_type": "stream",
     "text": [
      "100%|███████████████████████████████████████████████████████████████████| 10/10 [00:00<00:00, 73.06it/s]\n"
     ]
    },
    {
     "name": "stdout",
     "output_type": "stream",
     "text": [
      "Processing  ./models/sklearn/1.2.2/regression_insurance_sklearn.kernel_ridge.KernelRidge.sav\n",
      "processing for:  KernelRidge()\n"
     ]
    },
    {
     "name": "stderr",
     "output_type": "stream",
     "text": [
      "100%|███████████████████████████████████████████████████████████████████| 10/10 [00:00<00:00, 42.61it/s]\n"
     ]
    },
    {
     "name": "stdout",
     "output_type": "stream",
     "text": [
      "Processing  ./models/sklearn/1.2.2/multiclass_classification_loan_sklearn.naive_bayes.MultinomialNB.sav\n",
      "processing for:  MultinomialNB()\n"
     ]
    },
    {
     "name": "stderr",
     "output_type": "stream",
     "text": [
      "100%|███████████████████████████████████████████████████████████████████| 10/10 [00:02<00:00,  3.42it/s]\n"
     ]
    },
    {
     "name": "stdout",
     "output_type": "stream",
     "text": [
      "Processing  ./models/sklearn/1.2.2/multiclass_classification_loan_sklearn.neighbors._classification.KNeighborsClassifier.sav\n",
      "processing for:  KNeighborsClassifier()\n"
     ]
    },
    {
     "name": "stderr",
     "output_type": "stream",
     "text": [
      "100%|███████████████████████████████████████████████████████████████████| 10/10 [00:15<00:00,  1.60s/it]\n"
     ]
    },
    {
     "name": "stdout",
     "output_type": "stream",
     "text": [
      "Processing  ./models/sklearn/1.2.2/binary_classification_compas_sklearn.tree._classes.DecisionTreeClassifier.sav\n",
      "processing for:  DecisionTreeClassifier()\n"
     ]
    },
    {
     "name": "stderr",
     "output_type": "stream",
     "text": [
      "100%|███████████████████████████████████████████████████████████████████| 10/10 [00:00<00:00, 87.33it/s]\n"
     ]
    },
    {
     "name": "stdout",
     "output_type": "stream",
     "text": [
      "Processing  ./models/sklearn/1.2.2/regression_insurance_sklearn.linear_model._omp.OrthogonalMatchingPursuit.sav\n",
      "processing for:  OrthogonalMatchingPursuit()\n"
     ]
    },
    {
     "name": "stderr",
     "output_type": "stream",
     "text": [
      "100%|███████████████████████████████████████████████████████████████████| 10/10 [00:00<00:00, 47.54it/s]\n"
     ]
    },
    {
     "name": "stdout",
     "output_type": "stream",
     "text": [
      "Processing  ./models/sklearn/1.2.2/binary_classification_compas_sklearn.calibration.CalibratedClassifierCV.sav\n",
      "processing for:  CalibratedClassifierCV(estimator=LinearSVC(random_state=42))\n"
     ]
    },
    {
     "name": "stderr",
     "output_type": "stream",
     "text": [
      "100%|███████████████████████████████████████████████████████████████████| 10/10 [00:00<00:00, 76.67it/s]\n"
     ]
    },
    {
     "name": "stdout",
     "output_type": "stream",
     "text": [
      "Processing  ./models/sklearn/1.2.2/binary_classification_compas_sklearn.discriminant_analysis.QuadraticDiscriminantAnalysis.sav\n",
      "processing for:  QuadraticDiscriminantAnalysis()\n"
     ]
    },
    {
     "name": "stderr",
     "output_type": "stream",
     "text": [
      "100%|██████████████████████████████████████████████████████████████████| 10/10 [00:00<00:00, 125.61it/s]\n"
     ]
    },
    {
     "name": "stdout",
     "output_type": "stream",
     "text": [
      "Processing  ./models/sklearn/1.2.2/regression_insurance_sklearn.linear_model._huber.HuberRegressor.sav\n",
      "processing for:  HuberRegressor()\n"
     ]
    },
    {
     "name": "stderr",
     "output_type": "stream",
     "text": [
      "100%|███████████████████████████████████████████████████████████████████| 10/10 [00:00<00:00, 46.82it/s]\n"
     ]
    },
    {
     "name": "stdout",
     "output_type": "stream",
     "text": [
      "Processing  ./models/sklearn/1.2.2/regression_insurance_sklearn.linear_model._passive_aggressive.PassiveAggressiveRegressor.sav\n",
      "processing for:  PassiveAggressiveRegressor()\n"
     ]
    },
    {
     "name": "stderr",
     "output_type": "stream",
     "text": [
      "100%|███████████████████████████████████████████████████████████████████| 10/10 [00:00<00:00, 45.87it/s]\n"
     ]
    },
    {
     "name": "stdout",
     "output_type": "stream",
     "text": [
      "Processing  ./models/sklearn/1.2.2/multiclass_classification_loan_sklearn.semi_supervised._label_propagation.LabelSpreading.sav\n",
      "processing for:  LabelSpreading()\n"
     ]
    },
    {
     "name": "stderr",
     "output_type": "stream",
     "text": [
      "100%|███████████████████████████████████████████████████████████████████| 10/10 [01:05<00:00,  6.56s/it]\n"
     ]
    },
    {
     "name": "stdout",
     "output_type": "stream",
     "text": [
      "Processing  ./models/sklearn/1.2.2/binary_classification_compas_sklearn.ensemble._forest.ExtraTreesClassifier.sav\n",
      "processing for:  ExtraTreesClassifier()\n"
     ]
    },
    {
     "name": "stderr",
     "output_type": "stream",
     "text": [
      "100%|███████████████████████████████████████████████████████████████████| 10/10 [00:00<00:00, 33.37it/s]\n"
     ]
    },
    {
     "name": "stdout",
     "output_type": "stream",
     "text": [
      "Processing  ./models/sklearn/1.2.2/regression_insurance_sklearn.linear_model._coordinate_descent.ElasticNetCV.sav\n",
      "processing for:  ElasticNetCV()\n"
     ]
    },
    {
     "name": "stderr",
     "output_type": "stream",
     "text": [
      "100%|███████████████████████████████████████████████████████████████████| 10/10 [00:00<00:00, 46.40it/s]\n"
     ]
    },
    {
     "name": "stdout",
     "output_type": "stream",
     "text": [
      "Processing  ./models/sklearn/1.2.2/binary_classification_compas_sklearn.naive_bayes.BernoulliNB.sav\n",
      "processing for:  BernoulliNB()\n"
     ]
    },
    {
     "name": "stderr",
     "output_type": "stream",
     "text": [
      "100%|███████████████████████████████████████████████████████████████████| 10/10 [00:00<00:00, 82.22it/s]\n"
     ]
    },
    {
     "name": "stdout",
     "output_type": "stream",
     "text": [
      "Processing  ./models/sklearn/1.2.2/multiclass_classification_loan_sklearn.linear_model._passive_aggressive.PassiveAggressiveClassifier.sav\n",
      "processing for:  PassiveAggressiveClassifier()\n"
     ]
    },
    {
     "name": "stderr",
     "output_type": "stream",
     "text": [
      "100%|███████████████████████████████████████████████████████████████████| 10/10 [00:02<00:00,  3.42it/s]\n"
     ]
    },
    {
     "name": "stdout",
     "output_type": "stream",
     "text": [
      "Processing  ./models/sklearn/1.2.2/binary_classification_compas_sklearn.linear_model._ridge.RidgeClassifier.sav\n",
      "processing for:  RidgeClassifier()\n"
     ]
    },
    {
     "name": "stderr",
     "output_type": "stream",
     "text": [
      "100%|███████████████████████████████████████████████████████████████████| 10/10 [00:00<00:00, 77.84it/s]\n"
     ]
    },
    {
     "name": "stdout",
     "output_type": "stream",
     "text": [
      "Processing  ./models/sklearn/1.2.2/regression_insurance_sklearn.ensemble._gb.GradientBoostingRegressor.sav\n",
      "processing for:  GradientBoostingRegressor()\n"
     ]
    },
    {
     "name": "stderr",
     "output_type": "stream",
     "text": [
      "100%|███████████████████████████████████████████████████████████████████| 10/10 [00:00<00:00, 80.08it/s]\n"
     ]
    },
    {
     "name": "stdout",
     "output_type": "stream",
     "text": [
      "Processing  ./models/sklearn/1.2.2/binary_classification_compas_sklearn.tree._classes.ExtraTreeClassifier.sav\n",
      "processing for:  ExtraTreeClassifier()\n"
     ]
    },
    {
     "name": "stderr",
     "output_type": "stream",
     "text": [
      "100%|██████████████████████████████████████████████████████████████████| 10/10 [00:00<00:00, 134.71it/s]\n"
     ]
    },
    {
     "name": "stdout",
     "output_type": "stream",
     "text": [
      "Processing  ./models/sklearn/1.2.2/multiclass_classification_loan_sklearn.ensemble._gb.GradientBoostingClassifier.sav\n",
      "processing for:  GradientBoostingClassifier()\n"
     ]
    },
    {
     "name": "stderr",
     "output_type": "stream",
     "text": [
      "100%|███████████████████████████████████████████████████████████████████| 10/10 [00:03<00:00,  2.74it/s]\n"
     ]
    },
    {
     "name": "stdout",
     "output_type": "stream",
     "text": [
      "Processing  ./models/sklearn/1.2.2/regression_insurance_sklearn.linear_model._base.LinearRegression.sav\n",
      "processing for:  LinearRegression()\n"
     ]
    },
    {
     "name": "stderr",
     "output_type": "stream",
     "text": [
      "100%|███████████████████████████████████████████████████████████████████| 10/10 [00:00<00:00, 42.80it/s]\n"
     ]
    },
    {
     "name": "stdout",
     "output_type": "stream",
     "text": [
      "Processing  ./models/sklearn/1.2.2/multiclass_classification_loan_sklearn.calibration.CalibratedClassifierCV.sav\n",
      "processing for:  CalibratedClassifierCV(estimator=LinearSVC(random_state=42))\n"
     ]
    },
    {
     "name": "stderr",
     "output_type": "stream",
     "text": [
      "100%|███████████████████████████████████████████████████████████████████| 10/10 [00:03<00:00,  2.86it/s]\n"
     ]
    },
    {
     "name": "stdout",
     "output_type": "stream",
     "text": [
      "Processing  ./models/sklearn/1.2.2/regression_insurance_sklearn.linear_model._coordinate_descent.Lasso.sav\n",
      "processing for:  Lasso()\n"
     ]
    },
    {
     "name": "stderr",
     "output_type": "stream",
     "text": [
      "100%|███████████████████████████████████████████████████████████████████| 10/10 [00:00<00:00, 45.10it/s]\n"
     ]
    },
    {
     "name": "stdout",
     "output_type": "stream",
     "text": [
      "Processing  ./models/sklearn/1.2.2/regression_insurance_sklearn.tree._classes.ExtraTreeRegressor.sav\n",
      "processing for:  ExtraTreeRegressor()\n"
     ]
    },
    {
     "name": "stderr",
     "output_type": "stream",
     "text": [
      "100%|███████████████████████████████████████████████████████████████████| 10/10 [00:00<00:00, 62.08it/s]\n"
     ]
    },
    {
     "name": "stdout",
     "output_type": "stream",
     "text": [
      "Processing  ./models/sklearn/1.2.2/binary_classification_compas_sklearn.linear_model._logistic.LogisticRegressionCV.sav\n",
      "processing for:  LogisticRegressionCV()\n"
     ]
    },
    {
     "name": "stderr",
     "output_type": "stream",
     "text": [
      "100%|██████████████████████████████████████████████████████████████████| 10/10 [00:00<00:00, 127.10it/s]\n"
     ]
    },
    {
     "name": "stdout",
     "output_type": "stream",
     "text": [
      "Processing  ./models/sklearn/1.2.2/multiclass_classification_loan_sklearn.linear_model._logistic.LogisticRegressionCV.sav\n",
      "processing for:  LogisticRegressionCV()\n"
     ]
    },
    {
     "name": "stderr",
     "output_type": "stream",
     "text": [
      "100%|███████████████████████████████████████████████████████████████████| 10/10 [00:02<00:00,  3.47it/s]\n"
     ]
    },
    {
     "name": "stdout",
     "output_type": "stream",
     "text": [
      "Processing  ./models/sklearn/1.2.2/multiclass_classification_loan_sklearn.ensemble._hist_gradient_boosting.gradient_boosting.HistGradientBoostingClassifier.sav\n",
      "processing for:  HistGradientBoostingClassifier()\n"
     ]
    },
    {
     "name": "stderr",
     "output_type": "stream",
     "text": [
      "100%|███████████████████████████████████████████████████████████████████| 10/10 [00:05<00:00,  1.99it/s]\n"
     ]
    },
    {
     "name": "stdout",
     "output_type": "stream",
     "text": [
      "Processing  ./models/sklearn/1.2.2/multiclass_classification_loan_sklearn.svm._classes.NuSVC.sav\n",
      "processing for:  NuSVC()\n"
     ]
    },
    {
     "name": "stderr",
     "output_type": "stream",
     "text": [
      "100%|███████████████████████████████████████████████████████████████████| 10/10 [01:27<00:00,  8.76s/it]\n"
     ]
    },
    {
     "name": "stdout",
     "output_type": "stream",
     "text": [
      "Processing  ./models/sklearn/1.2.2/multiclass_classification_loan_sklearn.naive_bayes.CategoricalNB.sav\n",
      "processing for:  CategoricalNB()\n"
     ]
    },
    {
     "name": "stderr",
     "output_type": "stream",
     "text": [
      "100%|███████████████████████████████████████████████████████████████████| 10/10 [00:02<00:00,  3.84it/s]\n"
     ]
    },
    {
     "name": "stdout",
     "output_type": "stream",
     "text": [
      "Processing  ./models/sklearn/1.2.2/regression_insurance_sklearn.ensemble._forest.RandomForestRegressor.sav\n",
      "processing for:  RandomForestRegressor()\n"
     ]
    },
    {
     "name": "stderr",
     "output_type": "stream",
     "text": [
      "100%|███████████████████████████████████████████████████████████████████| 10/10 [00:00<00:00, 29.61it/s]\n"
     ]
    },
    {
     "name": "stdout",
     "output_type": "stream",
     "text": [
      "Processing  ./models/sklearn/1.2.2/regression_insurance_sklearn.linear_model._quantile.QuantileRegressor.sav\n",
      "processing for:  QuantileRegressor()\n"
     ]
    },
    {
     "name": "stderr",
     "output_type": "stream",
     "text": [
      "100%|███████████████████████████████████████████████████████████████████| 10/10 [00:00<00:00, 48.21it/s]\n"
     ]
    },
    {
     "name": "stdout",
     "output_type": "stream",
     "text": [
      "Processing  ./models/sklearn/1.2.2/multiclass_classification_loan_sklearn.ensemble._forest.RandomForestClassifier.sav\n",
      "processing for:  RandomForestClassifier()\n"
     ]
    },
    {
     "name": "stderr",
     "output_type": "stream",
     "text": [
      "100%|███████████████████████████████████████████████████████████████████| 10/10 [00:08<00:00,  1.15it/s]\n"
     ]
    },
    {
     "name": "stdout",
     "output_type": "stream",
     "text": [
      "Processing  ./models/sklearn/1.2.2/multiclass_classification_loan_sklearn.multiclass.OneVsOneClassifier.sav\n",
      "processing for:  OneVsOneClassifier(estimator=LinearSVC(random_state=42))\n"
     ]
    },
    {
     "name": "stderr",
     "output_type": "stream",
     "text": [
      "100%|███████████████████████████████████████████████████████████████████| 10/10 [00:02<00:00,  3.46it/s]\n"
     ]
    },
    {
     "name": "stdout",
     "output_type": "stream",
     "text": [
      "Processing  ./models/sklearn/1.2.2/binary_classification_compas_sklearn.naive_bayes.MultinomialNB.sav\n",
      "processing for:  MultinomialNB()\n"
     ]
    },
    {
     "name": "stderr",
     "output_type": "stream",
     "text": [
      "100%|██████████████████████████████████████████████████████████████████| 10/10 [00:00<00:00, 120.97it/s]\n"
     ]
    },
    {
     "name": "stdout",
     "output_type": "stream",
     "text": [
      "Processing  ./models/sklearn/1.2.2/regression_insurance_sklearn.linear_model._coordinate_descent.LassoCV.sav\n",
      "processing for:  LassoCV()\n"
     ]
    },
    {
     "name": "stderr",
     "output_type": "stream",
     "text": [
      "100%|███████████████████████████████████████████████████████████████████| 10/10 [00:00<00:00, 46.82it/s]\n"
     ]
    },
    {
     "name": "stdout",
     "output_type": "stream",
     "text": [
      "Processing  ./models/sklearn/1.2.2/regression_insurance_sklearn.linear_model._coordinate_descent.MultiTaskLasso.sav\n",
      "processing for:  MultiTaskLasso()\n"
     ]
    },
    {
     "name": "stderr",
     "output_type": "stream",
     "text": [
      "100%|███████████████████████████████████████████████████████████████████| 10/10 [00:00<00:00, 46.39it/s]\n"
     ]
    },
    {
     "name": "stdout",
     "output_type": "stream",
     "text": [
      "Processing  ./models/sklearn/1.2.2/multiclass_classification_loan_sklearn.neural_network._multilayer_perceptron.MLPClassifier.sav\n",
      "processing for:  MLPClassifier()\n"
     ]
    },
    {
     "name": "stderr",
     "output_type": "stream",
     "text": [
      "100%|███████████████████████████████████████████████████████████████████| 10/10 [00:03<00:00,  2.65it/s]\n"
     ]
    },
    {
     "name": "stdout",
     "output_type": "stream",
     "text": [
      "Processing  ./models/sklearn/1.2.2/regression_insurance_sklearn.linear_model._least_angle.LassoLarsCV.sav\n",
      "processing for:  LassoLarsCV()\n"
     ]
    },
    {
     "name": "stderr",
     "output_type": "stream",
     "text": [
      "100%|███████████████████████████████████████████████████████████████████| 10/10 [00:00<00:00, 48.41it/s]\n"
     ]
    },
    {
     "name": "stdout",
     "output_type": "stream",
     "text": [
      "Processing  ./models/sklearn/1.2.2/binary_classification_compas_sklearn.svm._classes.SVC.sav\n",
      "processing for:  SVC()\n"
     ]
    },
    {
     "name": "stderr",
     "output_type": "stream",
     "text": [
      "100%|███████████████████████████████████████████████████████████████████| 10/10 [00:01<00:00,  7.76it/s]\n"
     ]
    },
    {
     "name": "stdout",
     "output_type": "stream",
     "text": [
      "Processing  ./models/sklearn/1.2.2/regression_insurance_sklearn.dummy.DummyRegressor.sav\n",
      "processing for:  DummyRegressor()\n"
     ]
    },
    {
     "name": "stderr",
     "output_type": "stream",
     "text": [
      "100%|███████████████████████████████████████████████████████████████████| 10/10 [00:00<00:00, 95.71it/s]\n"
     ]
    },
    {
     "name": "stdout",
     "output_type": "stream",
     "text": [
      "Processing  ./models/sklearn/1.2.2/multiclass_classification_loan_sklearn.svm._classes.LinearSVC.sav\n",
      "processing for:  LinearSVC()\n"
     ]
    },
    {
     "name": "stderr",
     "output_type": "stream",
     "text": [
      "100%|███████████████████████████████████████████████████████████████████| 10/10 [00:02<00:00,  3.65it/s]\n"
     ]
    },
    {
     "name": "stdout",
     "output_type": "stream",
     "text": [
      "Processing  ./models/sklearn/1.2.2/binary_classification_compas_sklearn.dummy.DummyClassifier.sav\n",
      "processing for:  DummyClassifier()\n"
     ]
    },
    {
     "name": "stderr",
     "output_type": "stream",
     "text": [
      "100%|███████████████████████████████████████████████████████████████████| 10/10 [00:00<00:00, 87.21it/s]\n"
     ]
    },
    {
     "name": "stdout",
     "output_type": "stream",
     "text": [
      "Processing  ./models/sklearn/1.2.2/multiclass_classification_loan_sklearn.naive_bayes.GaussianNB.sav\n",
      "processing for:  GaussianNB()\n"
     ]
    },
    {
     "name": "stderr",
     "output_type": "stream",
     "text": [
      "100%|███████████████████████████████████████████████████████████████████| 10/10 [00:02<00:00,  3.90it/s]\n"
     ]
    },
    {
     "name": "stdout",
     "output_type": "stream",
     "text": [
      "Processing  ./models/sklearn/1.2.2/multiclass_classification_loan_sklearn.linear_model._ridge.RidgeClassifier.sav\n",
      "processing for:  RidgeClassifier()\n"
     ]
    },
    {
     "name": "stderr",
     "output_type": "stream",
     "text": [
      "100%|███████████████████████████████████████████████████████████████████| 10/10 [00:02<00:00,  3.48it/s]\n"
     ]
    },
    {
     "name": "stdout",
     "output_type": "stream",
     "text": [
      "Processing  ./models/sklearn/1.2.2/regression_insurance_sklearn.compose._target.TransformedTargetRegressor.sav\n",
      "processing for:  TransformedTargetRegressor()\n"
     ]
    },
    {
     "name": "stderr",
     "output_type": "stream",
     "text": [
      "100%|███████████████████████████████████████████████████████████████████| 10/10 [00:00<00:00, 51.86it/s]\n"
     ]
    },
    {
     "name": "stdout",
     "output_type": "stream",
     "text": [
      "Processing  ./models/sklearn/1.2.2/binary_classification_compas_sklearn.neural_network._multilayer_perceptron.MLPClassifier.sav\n",
      "processing for:  MLPClassifier()\n"
     ]
    },
    {
     "name": "stderr",
     "output_type": "stream",
     "text": [
      "100%|███████████████████████████████████████████████████████████████████| 10/10 [00:00<00:00, 62.14it/s]\n"
     ]
    },
    {
     "name": "stdout",
     "output_type": "stream",
     "text": [
      "Processing  ./models/sklearn/1.2.2/multiclass_classification_loan_sklearn.linear_model._stochastic_gradient.SGDClassifier.sav\n",
      "processing for:  SGDClassifier()\n"
     ]
    },
    {
     "name": "stderr",
     "output_type": "stream",
     "text": [
      "100%|███████████████████████████████████████████████████████████████████| 10/10 [00:02<00:00,  3.48it/s]\n"
     ]
    },
    {
     "name": "stdout",
     "output_type": "stream",
     "text": [
      "Processing  ./models/sklearn/1.2.2/binary_classification_compas_sklearn.neighbors._classification.KNeighborsClassifier.sav\n",
      "processing for:  KNeighborsClassifier()\n"
     ]
    },
    {
     "name": "stderr",
     "output_type": "stream",
     "text": [
      "100%|███████████████████████████████████████████████████████████████████| 10/10 [00:00<00:00, 29.55it/s]\n"
     ]
    },
    {
     "name": "stdout",
     "output_type": "stream",
     "text": [
      "Processing  ./models/sklearn/1.2.2/regression_insurance_sklearn.linear_model._coordinate_descent.MultiTaskElasticNet.sav\n",
      "processing for:  MultiTaskElasticNet()\n"
     ]
    },
    {
     "name": "stderr",
     "output_type": "stream",
     "text": [
      "100%|███████████████████████████████████████████████████████████████████| 10/10 [00:00<00:00, 47.33it/s]\n"
     ]
    },
    {
     "name": "stdout",
     "output_type": "stream",
     "text": [
      "Processing  ./models/sklearn/1.2.2/binary_classification_compas_sklearn.multiclass.OneVsRestClassifier.sav\n",
      "processing for:  OneVsRestClassifier(estimator=LinearSVC(random_state=42))\n"
     ]
    },
    {
     "name": "stderr",
     "output_type": "stream",
     "text": [
      "100%|███████████████████████████████████████████████████████████████████| 10/10 [00:00<00:00, 82.59it/s]\n"
     ]
    },
    {
     "name": "stdout",
     "output_type": "stream",
     "text": [
      "Processing  ./models/sklearn/1.2.2/multiclass_classification_loan_sklearn.dummy.DummyClassifier.sav\n",
      "processing for:  DummyClassifier()\n"
     ]
    },
    {
     "name": "stderr",
     "output_type": "stream",
     "text": [
      "100%|███████████████████████████████████████████████████████████████████| 10/10 [00:02<00:00,  4.31it/s]\n"
     ]
    },
    {
     "name": "stdout",
     "output_type": "stream",
     "text": [
      "Processing  ./models/sklearn/1.2.2/regression_insurance_sklearn.gaussian_process._gpr.GaussianProcessRegressor.sav\n",
      "processing for:  GaussianProcessRegressor()\n"
     ]
    },
    {
     "name": "stderr",
     "output_type": "stream",
     "text": [
      "100%|███████████████████████████████████████████████████████████████████| 10/10 [00:01<00:00,  5.18it/s]\n"
     ]
    },
    {
     "name": "stdout",
     "output_type": "stream",
     "text": [
      "Processing  ./models/sklearn/1.2.2/regression_insurance_sklearn.linear_model._least_angle.Lars.sav\n",
      "processing for:  Lars()\n"
     ]
    },
    {
     "name": "stderr",
     "output_type": "stream",
     "text": [
      "100%|███████████████████████████████████████████████████████████████████| 10/10 [00:00<00:00, 37.81it/s]\n"
     ]
    },
    {
     "name": "stdout",
     "output_type": "stream",
     "text": [
      "Processing  ./models/sklearn/1.2.2/multiclass_classification_loan_sklearn.tree._classes.DecisionTreeClassifier.sav\n",
      "processing for:  DecisionTreeClassifier()\n"
     ]
    },
    {
     "name": "stderr",
     "output_type": "stream",
     "text": [
      "100%|███████████████████████████████████████████████████████████████████| 10/10 [00:02<00:00,  3.88it/s]\n"
     ]
    },
    {
     "name": "stdout",
     "output_type": "stream",
     "text": [
      "Processing  ./models/sklearn/1.2.2/binary_classification_compas_sklearn.neighbors._nearest_centroid.NearestCentroid.sav\n",
      "processing for:  NearestCentroid()\n"
     ]
    },
    {
     "name": "stderr",
     "output_type": "stream",
     "text": [
      "100%|███████████████████████████████████████████████████████████████████| 10/10 [00:01<00:00,  9.32it/s]\n"
     ]
    },
    {
     "name": "stdout",
     "output_type": "stream",
     "text": [
      "Processing  ./models/sklearn/1.2.2/binary_classification_compas_sklearn.ensemble._bagging.BaggingClassifier.sav\n",
      "processing for:  BaggingClassifier(estimator=LinearSVC(random_state=42))\n"
     ]
    },
    {
     "name": "stderr",
     "output_type": "stream",
     "text": [
      "100%|███████████████████████████████████████████████████████████████████| 10/10 [00:00<00:00, 80.29it/s]\n"
     ]
    },
    {
     "name": "stdout",
     "output_type": "stream",
     "text": [
      "Processing  ./models/sklearn/1.2.2/multiclass_classification_loan_sklearn.neighbors._nearest_centroid.NearestCentroid.sav\n",
      "processing for:  NearestCentroid()\n"
     ]
    },
    {
     "name": "stderr",
     "output_type": "stream",
     "text": [
      "100%|███████████████████████████████████████████████████████████████████| 10/10 [00:03<00:00,  3.22it/s]\n"
     ]
    },
    {
     "name": "stdout",
     "output_type": "stream",
     "text": [
      "Processing  ./models/sklearn/1.2.2/regression_insurance_sklearn.svm._classes.NuSVR.sav\n",
      "processing for:  NuSVR()\n"
     ]
    },
    {
     "name": "stderr",
     "output_type": "stream",
     "text": [
      "100%|███████████████████████████████████████████████████████████████████| 10/10 [00:00<00:00, 20.48it/s]\n"
     ]
    },
    {
     "name": "stdout",
     "output_type": "stream",
     "text": [
      "Processing  ./models/sklearn/1.2.2/regression_insurance_sklearn.linear_model._least_angle.LassoLarsIC.sav\n",
      "processing for:  LassoLarsIC()\n"
     ]
    },
    {
     "name": "stderr",
     "output_type": "stream",
     "text": [
      "100%|███████████████████████████████████████████████████████████████████| 10/10 [00:00<00:00, 47.08it/s]\n"
     ]
    },
    {
     "name": "stdout",
     "output_type": "stream",
     "text": [
      "Processing  ./models/sklearn/1.2.2/multiclass_classification_loan_sklearn.semi_supervised._label_propagation.LabelPropagation.sav\n",
      "processing for:  LabelPropagation()\n"
     ]
    },
    {
     "name": "stderr",
     "output_type": "stream",
     "text": [
      "100%|███████████████████████████████████████████████████████████████████| 10/10 [01:06<00:00,  6.60s/it]\n"
     ]
    },
    {
     "name": "stdout",
     "output_type": "stream",
     "text": [
      "Processing  ./models/sklearn/1.2.2/binary_classification_compas_sklearn.linear_model._ridge.RidgeClassifierCV.sav\n",
      "processing for:  RidgeClassifierCV()\n"
     ]
    },
    {
     "name": "stderr",
     "output_type": "stream",
     "text": [
      "100%|███████████████████████████████████████████████████████████████████| 10/10 [00:00<00:00, 83.72it/s]\n"
     ]
    },
    {
     "name": "stdout",
     "output_type": "stream",
     "text": [
      "Processing  ./models/sklearn/1.2.2/binary_classification_compas_sklearn.ensemble._forest.RandomForestClassifier.sav\n",
      "processing for:  RandomForestClassifier()\n"
     ]
    },
    {
     "name": "stderr",
     "output_type": "stream",
     "text": [
      "100%|███████████████████████████████████████████████████████████████████| 10/10 [00:00<00:00, 36.61it/s]\n"
     ]
    },
    {
     "name": "stdout",
     "output_type": "stream",
     "text": [
      "Processing  ./models/sklearn/1.2.2/regression_insurance_sklearn.svm._classes.LinearSVR.sav\n",
      "processing for:  LinearSVR()\n"
     ]
    },
    {
     "name": "stderr",
     "output_type": "stream",
     "text": [
      "100%|███████████████████████████████████████████████████████████████████| 10/10 [00:00<00:00, 44.04it/s]\n"
     ]
    },
    {
     "name": "stdout",
     "output_type": "stream",
     "text": [
      "Processing  ./models/sklearn/1.2.2/binary_classification_compas_sklearn.svm._classes.LinearSVC.sav\n",
      "processing for:  LinearSVC()\n"
     ]
    },
    {
     "name": "stderr",
     "output_type": "stream",
     "text": [
      "100%|███████████████████████████████████████████████████████████████████| 10/10 [00:00<00:00, 83.94it/s]\n"
     ]
    },
    {
     "name": "stdout",
     "output_type": "stream",
     "text": [
      "Processing  ./models/sklearn/1.2.2/binary_classification_compas_sklearn.linear_model._passive_aggressive.PassiveAggressiveClassifier.sav\n",
      "processing for:  PassiveAggressiveClassifier()\n"
     ]
    },
    {
     "name": "stderr",
     "output_type": "stream",
     "text": [
      "100%|██████████████████████████████████████████████████████████████████| 10/10 [00:00<00:00, 124.54it/s]\n"
     ]
    },
    {
     "name": "stdout",
     "output_type": "stream",
     "text": [
      "Processing  ./models/sklearn/1.2.2/multiclass_classification_loan_sklearn.tree._classes.ExtraTreeClassifier.sav\n",
      "processing for:  ExtraTreeClassifier()\n"
     ]
    },
    {
     "name": "stderr",
     "output_type": "stream",
     "text": [
      "100%|███████████████████████████████████████████████████████████████████| 10/10 [00:02<00:00,  3.93it/s]\n"
     ]
    },
    {
     "name": "stdout",
     "output_type": "stream",
     "text": [
      "Processing  ./models/sklearn/1.2.2/multiclass_classification_loan_sklearn.linear_model._perceptron.Perceptron.sav\n",
      "processing for:  Perceptron()\n"
     ]
    },
    {
     "name": "stderr",
     "output_type": "stream",
     "text": [
      "100%|███████████████████████████████████████████████████████████████████| 10/10 [00:02<00:00,  3.39it/s]\n"
     ]
    },
    {
     "name": "stdout",
     "output_type": "stream",
     "text": [
      "Processing  ./models/sklearn/1.2.2/binary_classification_compas_sklearn.naive_bayes.GaussianNB.sav\n",
      "processing for:  GaussianNB()\n"
     ]
    },
    {
     "name": "stderr",
     "output_type": "stream",
     "text": [
      "100%|███████████████████████████████████████████████████████████████████| 10/10 [00:00<00:00, 77.75it/s]\n"
     ]
    },
    {
     "name": "stdout",
     "output_type": "stream",
     "text": [
      "Processing  ./models/sklearn/1.2.2/regression_insurance_sklearn.linear_model._theil_sen.TheilSenRegressor.sav\n",
      "processing for:  TheilSenRegressor()\n"
     ]
    },
    {
     "name": "stderr",
     "output_type": "stream",
     "text": [
      "100%|███████████████████████████████████████████████████████████████████| 10/10 [00:00<00:00, 39.62it/s]\n"
     ]
    },
    {
     "name": "stdout",
     "output_type": "stream",
     "text": [
      "Processing  ./models/sklearn/1.2.2/regression_insurance_sklearn.linear_model._omp.OrthogonalMatchingPursuitCV.sav\n",
      "processing for:  OrthogonalMatchingPursuitCV()\n"
     ]
    },
    {
     "name": "stderr",
     "output_type": "stream",
     "text": [
      "100%|███████████████████████████████████████████████████████████████████| 10/10 [00:00<00:00, 28.36it/s]\n"
     ]
    },
    {
     "name": "stdout",
     "output_type": "stream",
     "text": [
      "Processing  ./models/sklearn/1.2.2/regression_insurance_sklearn.linear_model._bayes.ARDRegression.sav\n",
      "processing for:  ARDRegression()\n"
     ]
    },
    {
     "name": "stderr",
     "output_type": "stream",
     "text": [
      "100%|███████████████████████████████████████████████████████████████████| 10/10 [00:00<00:00, 31.83it/s]\n"
     ]
    },
    {
     "name": "stdout",
     "output_type": "stream",
     "text": [
      "Processing  ./models/sklearn/1.2.2/regression_insurance_sklearn.tree._classes.DecisionTreeRegressor.sav\n",
      "processing for:  DecisionTreeRegressor()\n"
     ]
    },
    {
     "name": "stderr",
     "output_type": "stream",
     "text": [
      "100%|███████████████████████████████████████████████████████████████████| 10/10 [00:00<00:00, 66.23it/s]\n"
     ]
    },
    {
     "name": "stdout",
     "output_type": "stream",
     "text": [
      "Processing  ./models/sklearn/1.2.2/regression_insurance_sklearn.linear_model._coordinate_descent.ElasticNet.sav\n",
      "processing for:  ElasticNet()\n"
     ]
    },
    {
     "name": "stderr",
     "output_type": "stream",
     "text": [
      "100%|███████████████████████████████████████████████████████████████████| 10/10 [00:00<00:00, 43.16it/s]\n"
     ]
    },
    {
     "name": "stdout",
     "output_type": "stream",
     "text": [
      "Processing  ./models/sklearn/1.2.2/binary_classification_compas_sklearn.semi_supervised._label_propagation.LabelSpreading.sav\n",
      "processing for:  LabelSpreading()\n"
     ]
    },
    {
     "name": "stderr",
     "output_type": "stream",
     "text": [
      "100%|███████████████████████████████████████████████████████████████████| 10/10 [00:01<00:00,  6.63it/s]\n"
     ]
    },
    {
     "name": "stdout",
     "output_type": "stream",
     "text": [
      "Processing  ./models/sklearn/1.2.2/multiclass_classification_loan_sklearn.linear_model._logistic.LogisticRegression.sav\n",
      "processing for:  LogisticRegression()\n"
     ]
    },
    {
     "name": "stderr",
     "output_type": "stream",
     "text": [
      "100%|███████████████████████████████████████████████████████████████████| 10/10 [00:02<00:00,  3.52it/s]\n"
     ]
    },
    {
     "name": "stdout",
     "output_type": "stream",
     "text": [
      "Processing  ./models/sklearn/1.2.2/multiclass_classification_loan_sklearn.multiclass.OneVsRestClassifier.sav\n",
      "processing for:  OneVsRestClassifier(estimator=LinearSVC(random_state=42))\n"
     ]
    },
    {
     "name": "stderr",
     "output_type": "stream",
     "text": [
      "100%|███████████████████████████████████████████████████████████████████| 10/10 [00:02<00:00,  3.38it/s]\n"
     ]
    },
    {
     "name": "stdout",
     "output_type": "stream",
     "text": [
      "Processing  ./models/sklearn/1.2.2/regression_insurance_sklearn.linear_model._ridge.Ridge.sav\n",
      "processing for:  Ridge()\n"
     ]
    },
    {
     "name": "stderr",
     "output_type": "stream",
     "text": [
      "100%|███████████████████████████████████████████████████████████████████| 10/10 [00:00<00:00, 46.41it/s]\n"
     ]
    },
    {
     "name": "stdout",
     "output_type": "stream",
     "text": [
      "Processing  ./models/sklearn/1.2.2/binary_classification_compas_sklearn.discriminant_analysis.LinearDiscriminantAnalysis.sav\n",
      "processing for:  LinearDiscriminantAnalysis()\n"
     ]
    },
    {
     "name": "stderr",
     "output_type": "stream",
     "text": [
      "100%|███████████████████████████████████████████████████████████████████| 10/10 [00:00<00:00, 85.34it/s]\n"
     ]
    },
    {
     "name": "stdout",
     "output_type": "stream",
     "text": [
      "Processing  ./models/lightgbm/3.3.5/regression_insurance_lightgbm.sklearn.LGBMRegressor.sav\n",
      "processing for:  LGBMRegressor()\n"
     ]
    },
    {
     "name": "stderr",
     "output_type": "stream",
     "text": [
      "100%|███████████████████████████████████████████████████████████████████| 10/10 [00:00<00:00, 12.20it/s]\n"
     ]
    },
    {
     "name": "stdout",
     "output_type": "stream",
     "text": [
      "Processing  ./models/lightgbm/3.3.5/binary_classification_compas_binary_lightgbm.basic.Booster.sav\n",
      "processing for:  <lightgbm.basic.Booster object at 0x7f4cec40f910>\n"
     ]
    },
    {
     "name": "stderr",
     "output_type": "stream",
     "text": [
      "100%|███████████████████████████████████████████████████████████████████| 10/10 [00:00<00:00, 15.65it/s]\n"
     ]
    },
    {
     "name": "stdout",
     "output_type": "stream",
     "text": [
      "Processing  ./models/lightgbm/3.3.5/regression_insurance_fair_lightgbm.basic.Booster.sav\n",
      "processing for:  <lightgbm.basic.Booster object at 0x7f4ce778fee0>\n"
     ]
    },
    {
     "name": "stderr",
     "output_type": "stream",
     "text": [
      "100%|███████████████████████████████████████████████████████████████████| 10/10 [00:00<00:00, 13.16it/s]\n"
     ]
    },
    {
     "name": "stdout",
     "output_type": "stream",
     "text": [
      "Processing  ./models/lightgbm/3.3.5/regression_insurance_mae_lightgbm.basic.Booster.sav\n",
      "processing for:  <lightgbm.basic.Booster object at 0x7f4ce778efe0>\n"
     ]
    },
    {
     "name": "stderr",
     "output_type": "stream",
     "text": [
      "100%|███████████████████████████████████████████████████████████████████| 10/10 [00:00<00:00, 12.59it/s]\n"
     ]
    },
    {
     "name": "stdout",
     "output_type": "stream",
     "text": [
      "Processing  ./models/lightgbm/3.3.5/regression_insurance_quantile_lightgbm.basic.Booster.sav\n",
      "processing for:  <lightgbm.basic.Booster object at 0x7f4cec40f910>\n"
     ]
    },
    {
     "name": "stderr",
     "output_type": "stream",
     "text": [
      "100%|███████████████████████████████████████████████████████████████████| 10/10 [00:00<00:00, 11.96it/s]\n"
     ]
    },
    {
     "name": "stdout",
     "output_type": "stream",
     "text": [
      "Processing  ./models/lightgbm/3.3.5/binary_classification_compas_lightgbm.sklearn.LGBMClassifier.sav\n",
      "processing for:  LGBMClassifier()\n"
     ]
    },
    {
     "name": "stderr",
     "output_type": "stream",
     "text": [
      "100%|███████████████████████████████████████████████████████████████████| 10/10 [00:00<00:00, 19.84it/s]\n"
     ]
    },
    {
     "name": "stdout",
     "output_type": "stream",
     "text": [
      "Processing  ./models/lightgbm/3.3.5/multiclass_classification_loan_onevsall_lightgbm.basic.Booster.sav\n",
      "processing for:  <lightgbm.basic.Booster object at 0x7f4ce778efe0>\n"
     ]
    },
    {
     "name": "stderr",
     "output_type": "stream",
     "text": [
      "100%|███████████████████████████████████████████████████████████████████| 10/10 [00:03<00:00,  3.16it/s]\n"
     ]
    },
    {
     "name": "stdout",
     "output_type": "stream",
     "text": [
      "Processing  ./models/lightgbm/3.3.5/regression_insurance_gamma_lightgbm.basic.Booster.sav\n",
      "processing for:  <lightgbm.basic.Booster object at 0x7f4e21214280>\n"
     ]
    },
    {
     "name": "stderr",
     "output_type": "stream",
     "text": [
      "100%|███████████████████████████████████████████████████████████████████| 10/10 [00:00<00:00, 11.54it/s]\n"
     ]
    },
    {
     "name": "stdout",
     "output_type": "stream",
     "text": [
      "Processing  ./models/lightgbm/3.3.5/multiclass_classification_loan_lightgbm.sklearn.LGBMClassifier.sav\n",
      "processing for:  LGBMClassifier()\n"
     ]
    },
    {
     "name": "stderr",
     "output_type": "stream",
     "text": [
      "100%|███████████████████████████████████████████████████████████████████| 10/10 [00:04<00:00,  2.40it/s]\n"
     ]
    },
    {
     "name": "stdout",
     "output_type": "stream",
     "text": [
      "Processing  ./models/lightgbm/3.3.5/regression_insurance_poisson_lightgbm.basic.Booster.sav\n",
      "processing for:  <lightgbm.basic.Booster object at 0x7f4ce778f610>\n"
     ]
    },
    {
     "name": "stderr",
     "output_type": "stream",
     "text": [
      "100%|███████████████████████████████████████████████████████████████████| 10/10 [00:00<00:00, 12.90it/s]\n"
     ]
    },
    {
     "name": "stdout",
     "output_type": "stream",
     "text": [
      "Processing  ./models/lightgbm/3.3.5/regression_insurance_mape_lightgbm.basic.Booster.sav\n",
      "processing for:  <lightgbm.basic.Booster object at 0x7f4e21214280>\n"
     ]
    },
    {
     "name": "stderr",
     "output_type": "stream",
     "text": [
      "100%|███████████████████████████████████████████████████████████████████| 10/10 [00:00<00:00, 12.38it/s]\n"
     ]
    },
    {
     "name": "stdout",
     "output_type": "stream",
     "text": [
      "Processing  ./models/lightgbm/3.3.5/multiclass_classification_loan_softmax_lightgbm.basic.Booster.sav\n",
      "processing for:  <lightgbm.basic.Booster object at 0x7f4ce778c2e0>\n"
     ]
    },
    {
     "name": "stderr",
     "output_type": "stream",
     "text": [
      "100%|███████████████████████████████████████████████████████████████████| 10/10 [00:03<00:00,  3.19it/s]\n"
     ]
    },
    {
     "name": "stdout",
     "output_type": "stream",
     "text": [
      "Processing  ./models/lightgbm/3.3.5/regression_insurance_mse_lightgbm.basic.Booster.sav\n",
      "processing for:  <lightgbm.basic.Booster object at 0x7f4ce778f880>\n"
     ]
    },
    {
     "name": "stderr",
     "output_type": "stream",
     "text": [
      "100%|███████████████████████████████████████████████████████████████████| 10/10 [00:00<00:00, 12.26it/s]\n"
     ]
    },
    {
     "name": "stdout",
     "output_type": "stream",
     "text": [
      "Processing  ./models/lightgbm/3.3.5/regression_insurance_tweedie_lightgbm.basic.Booster.sav\n",
      "processing for:  <lightgbm.basic.Booster object at 0x7f4cec40f910>\n"
     ]
    },
    {
     "name": "stderr",
     "output_type": "stream",
     "text": [
      "100%|███████████████████████████████████████████████████████████████████| 10/10 [00:00<00:00, 13.55it/s]\n"
     ]
    },
    {
     "name": "stdout",
     "output_type": "stream",
     "text": [
      "Processing  ./models/lightgbm/3.3.5/regression_insurance_huber_lightgbm.basic.Booster.sav\n",
      "processing for:  <lightgbm.basic.Booster object at 0x7f4ce778e4a0>\n"
     ]
    },
    {
     "name": "stderr",
     "output_type": "stream",
     "text": [
      "100%|███████████████████████████████████████████████████████████████████| 10/10 [00:00<00:00, 11.85it/s]\n"
     ]
    }
   ],
   "source": [
    "for root, dirs, files in os.walk(save_dir):\n",
    "    for filename in files:\n",
    "        name = os.path.join(root, filename)\n",
    "        \n",
    "        if \"tensorflow\" in name and name.endswith(\".sav\"):\n",
    "            print(\"Processing \", name)\n",
    "            model = tensorflow.keras.models.load_model(name)\n",
    "        \n",
    "        elif not name.endswith(\".py\") and not name.endswith(\"zip\") and  \"tensorflow\" not in name:\n",
    "            print(\"Processing \", name)\n",
    "            model = pickle.load(open(name, \"rb\"))\n",
    "        \n",
    "        else:\n",
    "            continue\n",
    "            \n",
    "        def predict_helper(data):\n",
    "            return model.predict(data)\n",
    "        \n",
    "        print(\"processing for: \", model)\n",
    "        \n",
    "        if \"pipeline\" in name:\n",
    "            continue\n",
    "        elif \"regression\" in name:\n",
    "            background = regression_background\n",
    "            test = regression_test\n",
    "        elif \"binary_classification\" in name:\n",
    "            background = bc_background\n",
    "            test = bc_test\n",
    "        elif \"multiclass_classification\" in name:\n",
    "            background = mc_background\n",
    "            test = mc_test\n",
    "            \n",
    "            \n",
    "        # cater for xgboost\n",
    "        if \"xgboost\" in name:\n",
    "            background = xgboost.DMatrix(background, background)\n",
    "            test = xgboost.DMatrix(test, test)\n",
    "            explainer = shap.TreeExplainer(model)\n",
    "            shap_values = explainer.shap_values(test)\n",
    "            \n",
    "        else:\n",
    "            explainer = shap.KernelExplainer(predict_helper, background)\n",
    "            shap_values = explainer.shap_values(test)"
   ]
  },
  {
   "cell_type": "markdown",
   "id": "a3ce7f57-d53e-471e-89ea-bf403b54c8d1",
   "metadata": {},
   "source": [
    "## Pipeline Test"
   ]
  }
 ],
 "metadata": {
  "kernelspec": {
   "display_name": "research",
   "language": "python",
   "name": "research"
  },
  "language_info": {
   "codemirror_mode": {
    "name": "ipython",
    "version": 3
   },
   "file_extension": ".py",
   "mimetype": "text/x-python",
   "name": "python",
   "nbconvert_exporter": "python",
   "pygments_lexer": "ipython3",
   "version": "3.10.0"
  }
 },
 "nbformat": 4,
 "nbformat_minor": 5
}
