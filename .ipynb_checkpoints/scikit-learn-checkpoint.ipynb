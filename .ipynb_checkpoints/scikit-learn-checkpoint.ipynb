{
 "cells": [
  {
   "cell_type": "code",
   "execution_count": 4,
   "id": "13aed560-3c0f-4d1f-bd54-3a085ccad7a2",
   "metadata": {
    "tags": []
   },
   "outputs": [],
   "source": [
    "import sklearn\n",
    "import xgboost\n",
    "import pkgutil\n",
    "import os\n",
    "import importlib, inspect\n",
    "import warnings\n",
    "warnings.filterwarnings(\"ignore\")\n",
    "from sklearn.preprocessing import StandardScaler\n",
    "from sklearn.ensemble import RandomForestClassifier\n",
    "from sklearn.linear_model import LogisticRegression\n",
    "from sklearn.pipeline import make_pipeline\n",
    "from sklearn.svm import LinearSVC\n",
    "import pickle\n",
    "\n",
    "save_dir = \"./models/sklearn/{0}\".format(sklearn.__version__)\n",
    "# print(save_dir)\n",
    "os.mkdir(save_dir)"
   ]
  },
  {
   "cell_type": "markdown",
   "id": "3898eb1f-31aa-47f8-88cc-0bf7bb9707e4",
   "metadata": {},
   "source": [
    "# Generate scikit-learn model samples for rocket\n",
    "\n",
    "The script will search for all the classifiers and regressors using \"ClassifierMixin\" and \"RegressorMixin\" as the first condition, and \"fit\" as the second condition in scikit-learn's package (`sklearn`)"
   ]
  },
  {
   "cell_type": "code",
   "execution_count": 5,
   "id": "0b0659f3-710b-41dc-9e37-5906bbace349",
   "metadata": {
    "tags": []
   },
   "outputs": [],
   "source": [
    "def get_algorithms(package, prefix=\"\", output_file=\"sklearn_algorithms.txt\"):\n",
    "    algorithms = {}\n",
    "    algorithms[\"classification\"] = []\n",
    "    algorithms[\"regression\"] = []\n",
    "    \n",
    "    fout = open(output_file, \"w+\")\n",
    "    number_of_regressors = 0\n",
    "    number_of_classifiers = 0\n",
    "\n",
    "    for module in package.__all__:\n",
    "        try:\n",
    "            modname = prefix + module\n",
    "            mod = importlib.import_module(modname)\n",
    "\n",
    "            for name, obj in inspect.getmembers(mod):\n",
    "                if inspect.isclass(obj) and (issubclass(obj, ClassifierMixin)):\n",
    "                    # test = importlib.import_module(obj)\n",
    "                    if \"fit\" in dir(obj): # only use those that got fit function\n",
    "                        algorithms[\"classification\"].append(obj)\n",
    "                        fout.write(\"classification,{0}\\n\".format(str(name)))\n",
    "                        number_of_classifiers = number_of_classifiers + 1\n",
    "\n",
    "                elif inspect.isclass(obj) and issubclass(obj, RegressorMixin):\n",
    "                    # test = importlib.import_module(obj)\n",
    "                    if \"fit\" in dir(obj): # only use those that got fit function\n",
    "                        algorithms[\"regression\"].append(obj)\n",
    "                        fout.write(\"regression,{0}\\n\".format(str(name)))\n",
    "                        number_of_regressors = number_of_regressors + 1\n",
    "                        \n",
    "        except ModuleNotFoundError as e:\n",
    "            continue\n",
    "\n",
    "    fout.write(\"=================================\\n\")\n",
    "    fout.write(\"Total number of classifiers: {0}\\n\".format(number_of_classifiers))\n",
    "    fout.write(\"Total number of regerssors: {0}\\n\".format(number_of_regressors))\n",
    "    return algorithms\n",
    "\n",
    "prefix = \"sklearn.\"\n",
    "from sklearn.base import ClassifierMixin, RegressorMixin\n",
    "algorithms = get_algorithms(sklearn, prefix)"
   ]
  },
  {
   "cell_type": "code",
   "execution_count": 10,
   "id": "2660ba9d-4a02-43e8-bf21-2809ec2ed7e4",
   "metadata": {
    "tags": []
   },
   "outputs": [],
   "source": [
    "def train_models(algorithms, model_type, dataset):\n",
    "    \"\"\"This method will mass train models given in the algorithms.\n",
    "    \n",
    "    Args:\n",
    "        algorithms (list of objects)\n",
    "        model_type (str) use to prefix log files\n",
    "        dataset (str) use to prefix log files\n",
    "    \"\"\"\n",
    "    # will overwrite existing files\n",
    "    # tracking purpose\n",
    "    stats = open(\"{0}_stats.log\".format(model_type), \"w+\")\n",
    "    error = open(\"{0}_error.log\".format(model_type), \"w+\")\n",
    "\n",
    "    for algorithm in algorithms:\n",
    "        try:\n",
    "            uniquename = algorithm.__module__, algorithm.__name__\n",
    "\n",
    "            if \"estimator\" in inspect.signature(algorithm).parameters.keys():\n",
    "                clf = algorithm(LinearSVC(random_state=42))\n",
    "            else:\n",
    "                clf = algorithm()\n",
    "\n",
    "            print(\"scoring {0}\".format(uniquename))\n",
    "            score = clf.fit(X=X_train, y=y_train).score(X_test, y_test)\n",
    "\n",
    "            # statistics for internal refernece\n",
    "            stats.write(\"{0},{1}\\n\".format(uniquename, score))\n",
    "            # write to pickle model\n",
    "            with open(\"algorithm.txt\", \"a+\") as f:\n",
    "                f.write(\"{0}.{1}\\n\".format(algorithm.__module__, algorithm.__name__))\n",
    "            pickle.dump(clf, open(\"{4}/{0}_{1}_{2}.{3}.sav\".format(model_type, dataset, algorithm.__module__, algorithm.__name__, save_dir), \"wb+\"))\n",
    "        except:\n",
    "            # some we can't do will skip, but we keep track first. might need special parameters to run them\n",
    "            print(\"skipping\",  algorithm.__module__)\n",
    "            error.write(\"skipping {0}\\n\".format(algorithm.__module__))\n",
    "            \n",
    "            import traceback\n",
    "            traceback.print_exc()\n",
    "            continue"
   ]
  },
  {
   "cell_type": "markdown",
   "id": "c4a24872-bed7-402c-b9dd-2e142db0c011",
   "metadata": {
    "tags": []
   },
   "source": [
    "## Binary Classification Models"
   ]
  },
  {
   "cell_type": "code",
   "execution_count": 11,
   "id": "551a7cda-8f2f-43cc-b127-3be79dbed520",
   "metadata": {
    "tags": []
   },
   "outputs": [
    {
     "name": "stdout",
     "output_type": "stream",
     "text": [
      "scoring ('sklearn.calibration', 'CalibratedClassifierCV')\n",
      "scoring ('sklearn.svm._classes', 'LinearSVC')\n",
      "scoring ('sklearn.dummy', 'DummyClassifier')\n",
      "scoring ('sklearn.ensemble._weight_boosting', 'AdaBoostClassifier')\n",
      "skipping sklearn.ensemble._weight_boosting\n",
      "scoring ('sklearn.ensemble._bagging', 'BaggingClassifier')\n"
     ]
    },
    {
     "name": "stderr",
     "output_type": "stream",
     "text": [
      "Traceback (most recent call last):\n",
      "  File \"/tmp/ipykernel_2987/998152166.py\", line 24, in train_models\n",
      "    score = clf.fit(X=X_train, y=y_train).score(X_test, y_test)\n",
      "  File \"/home/seokmin/miniconda3/envs/research/lib/python3.10/site-packages/sklearn/ensemble/_weight_boosting.py\", line 142, in fit\n",
      "    self._validate_estimator()\n",
      "  File \"/home/seokmin/miniconda3/envs/research/lib/python3.10/site-packages/sklearn/ensemble/_weight_boosting.py\", line 517, in _validate_estimator\n",
      "    raise TypeError(\n",
      "TypeError: AdaBoostClassifier with algorithm='SAMME.R' requires that the weak learner supports the calculation of class probabilities with a predict_proba method.\n",
      "Please change the base estimator or set algorithm='SAMME' instead.\n"
     ]
    },
    {
     "name": "stdout",
     "output_type": "stream",
     "text": [
      "scoring ('sklearn.ensemble._forest', 'ExtraTreesClassifier')\n",
      "scoring ('sklearn.ensemble._gb', 'GradientBoostingClassifier')\n",
      "scoring ('sklearn.ensemble._hist_gradient_boosting.gradient_boosting', 'HistGradientBoostingClassifier')\n",
      "scoring ('sklearn.ensemble._forest', 'RandomForestClassifier')\n",
      "skipping sklearn.ensemble._stacking\n",
      "skipping sklearn.ensemble._voting\n",
      "scoring ('sklearn.gaussian_process._gpc', 'GaussianProcessClassifier')\n"
     ]
    },
    {
     "name": "stderr",
     "output_type": "stream",
     "text": [
      "Traceback (most recent call last):\n",
      "  File \"/tmp/ipykernel_2987/998152166.py\", line 21, in train_models\n",
      "    clf = algorithm()\n",
      "TypeError: StackingClassifier.__init__() missing 1 required positional argument: 'estimators'\n",
      "Traceback (most recent call last):\n",
      "  File \"/tmp/ipykernel_2987/998152166.py\", line 21, in train_models\n",
      "    clf = algorithm()\n",
      "TypeError: VotingClassifier.__init__() missing 1 required positional argument: 'estimators'\n"
     ]
    },
    {
     "name": "stdout",
     "output_type": "stream",
     "text": [
      "scoring ('sklearn.linear_model._logistic', 'LogisticRegression')\n",
      "scoring ('sklearn.linear_model._logistic', 'LogisticRegressionCV')\n",
      "scoring ('sklearn.linear_model._passive_aggressive', 'PassiveAggressiveClassifier')\n",
      "scoring ('sklearn.linear_model._perceptron', 'Perceptron')\n",
      "scoring ('sklearn.linear_model._ridge', 'RidgeClassifier')\n",
      "scoring ('sklearn.linear_model._ridge', 'RidgeClassifierCV')\n",
      "scoring ('sklearn.linear_model._stochastic_gradient', 'SGDClassifier')\n",
      "scoring ('sklearn.multiclass', 'OneVsOneClassifier')\n",
      "scoring ('sklearn.multiclass', 'OneVsRestClassifier')\n",
      "scoring ('sklearn.multiclass', 'OutputCodeClassifier')\n",
      "skipping sklearn.multioutput\n",
      "scoring ('sklearn.multioutput', 'MultiOutputClassifier')\n",
      "skipping sklearn.multioutput\n",
      "scoring ('sklearn.naive_bayes', 'BernoulliNB')\n",
      "scoring ('sklearn.naive_bayes', 'CategoricalNB')\n",
      "scoring ('sklearn.naive_bayes', 'ComplementNB')\n",
      "scoring ('sklearn.naive_bayes', 'GaussianNB')\n"
     ]
    },
    {
     "name": "stderr",
     "output_type": "stream",
     "text": [
      "Traceback (most recent call last):\n",
      "  File \"/tmp/ipykernel_2987/998152166.py\", line 21, in train_models\n",
      "    clf = algorithm()\n",
      "TypeError: _BaseChain.__init__() missing 1 required positional argument: 'base_estimator'\n",
      "Traceback (most recent call last):\n",
      "  File \"/tmp/ipykernel_2987/998152166.py\", line 24, in train_models\n",
      "    score = clf.fit(X=X_train, y=y_train).score(X_test, y_test)\n",
      "TypeError: MultiOutputClassifier.fit() missing 1 required positional argument: 'Y'\n",
      "Traceback (most recent call last):\n",
      "  File \"/tmp/ipykernel_2987/998152166.py\", line 21, in train_models\n",
      "    clf = algorithm()\n",
      "TypeError: Can't instantiate abstract class _BaseDiscreteNB with abstract methods _count, _joint_log_likelihood, _update_feature_log_prob\n",
      "Traceback (most recent call last):\n",
      "  File \"/tmp/ipykernel_2987/998152166.py\", line 24, in train_models\n",
      "    score = clf.fit(X=X_train, y=y_train).score(X_test, y_test)\n",
      "  File \"/home/seokmin/miniconda3/envs/research/lib/python3.10/site-packages/sklearn/base.py\", line 668, in score\n",
      "    return accuracy_score(y, self.predict(X), sample_weight=sample_weight)\n",
      "  File \"/home/seokmin/miniconda3/envs/research/lib/python3.10/site-packages/sklearn/neighbors/_classification.py\", line 597, in predict\n",
      "    probs = self.predict_proba(X)\n",
      "  File \"/home/seokmin/miniconda3/envs/research/lib/python3.10/site-packages/sklearn/neighbors/_classification.py\", line 656, in predict_proba\n",
      "    raise ValueError(\n",
      "ValueError: No neighbors found for test samples array([  42,  328,  404,  609,  789, 1206]), you can try using larger radius, giving a label for outliers, or considering removing them from your dataset.\n"
     ]
    },
    {
     "name": "stdout",
     "output_type": "stream",
     "text": [
      "scoring ('sklearn.naive_bayes', 'MultinomialNB')\n",
      "skipping sklearn.naive_bayes\n",
      "scoring ('sklearn.neighbors._classification', 'KNeighborsClassifier')\n",
      "scoring ('sklearn.neighbors._nearest_centroid', 'NearestCentroid')\n",
      "scoring ('sklearn.neighbors._classification', 'RadiusNeighborsClassifier')\n",
      "skipping sklearn.neighbors._classification\n",
      "scoring ('sklearn.neural_network._multilayer_perceptron', 'MLPClassifier')\n",
      "scoring ('sklearn.semi_supervised._label_propagation', 'LabelPropagation')\n",
      "scoring ('sklearn.semi_supervised._label_propagation', 'LabelSpreading')\n",
      "scoring ('sklearn.svm._classes', 'LinearSVC')\n",
      "scoring ('sklearn.svm._classes', 'NuSVC')\n",
      "scoring ('sklearn.svm._classes', 'SVC')\n",
      "scoring ('sklearn.tree._classes', 'DecisionTreeClassifier')\n",
      "scoring ('sklearn.tree._classes', 'ExtraTreeClassifier')\n",
      "scoring ('sklearn.discriminant_analysis', 'LinearDiscriminantAnalysis')\n",
      "scoring ('sklearn.discriminant_analysis', 'QuadraticDiscriminantAnalysis')\n"
     ]
    }
   ],
   "source": [
    "compas_training = pickle.load(open(\"./data/pickle_pandas_tabular_compas_training.sav\", \"rb\"))\n",
    "compas_testing = pickle.load(open(\"./data/pickle_pandas_tabular_compas_testing.sav\", \"rb\"))\n",
    "\n",
    "# Consider to do more tests\n",
    "# cardio_testing = pickle.load(open(\"./data/pickle_pandas_tabular_cardio_testing.sav\", \"rb\"))\n",
    "# cardio_training = pickle.load(open(\"./data/pickle_pandas_tabular_cardio_training.sav\", \"rb\"))\n",
    "\n",
    "X_train = compas_training.drop(\"two_year_recid\", axis=1)\n",
    "y_train = compas_training[[\"two_year_recid\"]]\n",
    "X_test = compas_testing.drop(\"two_year_recid\", axis=1)\n",
    "y_test = compas_testing[[\"two_year_recid\"]]\n",
    "\n",
    "classifiers = algorithms[\"classification\"]\n",
    "train_models(classifiers, \"binary_classification\", \"compas\")"
   ]
  },
  {
   "cell_type": "markdown",
   "id": "761df281-b13e-4bdc-889b-e91380ef1943",
   "metadata": {},
   "source": [
    "## Multiclass Classification Models"
   ]
  },
  {
   "cell_type": "code",
   "execution_count": 12,
   "id": "af365cf7-7403-4d8e-a2ae-0fe9bec65405",
   "metadata": {
    "tags": []
   },
   "outputs": [
    {
     "name": "stdout",
     "output_type": "stream",
     "text": [
      "scoring ('sklearn.calibration', 'CalibratedClassifierCV')\n",
      "scoring ('sklearn.svm._classes', 'LinearSVC')\n",
      "scoring ('sklearn.dummy', 'DummyClassifier')\n",
      "scoring ('sklearn.ensemble._weight_boosting', 'AdaBoostClassifier')\n",
      "skipping sklearn.ensemble._weight_boosting\n",
      "scoring ('sklearn.ensemble._bagging', 'BaggingClassifier')\n"
     ]
    },
    {
     "name": "stderr",
     "output_type": "stream",
     "text": [
      "Traceback (most recent call last):\n",
      "  File \"/tmp/ipykernel_2987/998152166.py\", line 24, in train_models\n",
      "    score = clf.fit(X=X_train, y=y_train).score(X_test, y_test)\n",
      "  File \"/home/seokmin/miniconda3/envs/research/lib/python3.10/site-packages/sklearn/ensemble/_weight_boosting.py\", line 142, in fit\n",
      "    self._validate_estimator()\n",
      "  File \"/home/seokmin/miniconda3/envs/research/lib/python3.10/site-packages/sklearn/ensemble/_weight_boosting.py\", line 517, in _validate_estimator\n",
      "    raise TypeError(\n",
      "TypeError: AdaBoostClassifier with algorithm='SAMME.R' requires that the weak learner supports the calculation of class probabilities with a predict_proba method.\n",
      "Please change the base estimator or set algorithm='SAMME' instead.\n"
     ]
    },
    {
     "name": "stdout",
     "output_type": "stream",
     "text": [
      "scoring ('sklearn.ensemble._forest', 'ExtraTreesClassifier')\n",
      "scoring ('sklearn.ensemble._gb', 'GradientBoostingClassifier')\n",
      "scoring ('sklearn.ensemble._hist_gradient_boosting.gradient_boosting', 'HistGradientBoostingClassifier')\n",
      "scoring ('sklearn.ensemble._forest', 'RandomForestClassifier')\n",
      "skipping sklearn.ensemble._stacking\n",
      "skipping sklearn.ensemble._voting\n",
      "scoring ('sklearn.gaussian_process._gpc', 'GaussianProcessClassifier')\n"
     ]
    },
    {
     "name": "stderr",
     "output_type": "stream",
     "text": [
      "Traceback (most recent call last):\n",
      "  File \"/tmp/ipykernel_2987/998152166.py\", line 21, in train_models\n",
      "    clf = algorithm()\n",
      "TypeError: StackingClassifier.__init__() missing 1 required positional argument: 'estimators'\n",
      "Traceback (most recent call last):\n",
      "  File \"/tmp/ipykernel_2987/998152166.py\", line 21, in train_models\n",
      "    clf = algorithm()\n",
      "TypeError: VotingClassifier.__init__() missing 1 required positional argument: 'estimators'\n"
     ]
    },
    {
     "name": "stdout",
     "output_type": "stream",
     "text": [
      "scoring ('sklearn.linear_model._logistic', 'LogisticRegression')\n",
      "scoring ('sklearn.linear_model._logistic', 'LogisticRegressionCV')\n",
      "scoring ('sklearn.linear_model._passive_aggressive', 'PassiveAggressiveClassifier')\n",
      "scoring ('sklearn.linear_model._perceptron', 'Perceptron')\n",
      "scoring ('sklearn.linear_model._ridge', 'RidgeClassifier')\n",
      "scoring ('sklearn.linear_model._ridge', 'RidgeClassifierCV')\n",
      "scoring ('sklearn.linear_model._stochastic_gradient', 'SGDClassifier')\n",
      "scoring ('sklearn.multiclass', 'OneVsOneClassifier')\n",
      "scoring ('sklearn.multiclass', 'OneVsRestClassifier')\n",
      "scoring ('sklearn.multiclass', 'OutputCodeClassifier')\n",
      "skipping sklearn.multioutput\n",
      "scoring ('sklearn.multioutput', 'MultiOutputClassifier')\n",
      "skipping sklearn.multioutput\n",
      "scoring ('sklearn.naive_bayes', 'BernoulliNB')\n",
      "scoring ('sklearn.naive_bayes', 'CategoricalNB')\n"
     ]
    },
    {
     "name": "stderr",
     "output_type": "stream",
     "text": [
      "Traceback (most recent call last):\n",
      "  File \"/tmp/ipykernel_2987/998152166.py\", line 21, in train_models\n",
      "    clf = algorithm()\n",
      "TypeError: _BaseChain.__init__() missing 1 required positional argument: 'base_estimator'\n",
      "Traceback (most recent call last):\n",
      "  File \"/tmp/ipykernel_2987/998152166.py\", line 24, in train_models\n",
      "    score = clf.fit(X=X_train, y=y_train).score(X_test, y_test)\n",
      "TypeError: MultiOutputClassifier.fit() missing 1 required positional argument: 'Y'\n"
     ]
    },
    {
     "name": "stdout",
     "output_type": "stream",
     "text": [
      "scoring ('sklearn.naive_bayes', 'ComplementNB')\n",
      "scoring ('sklearn.naive_bayes', 'GaussianNB')\n",
      "scoring ('sklearn.naive_bayes', 'MultinomialNB')\n",
      "skipping sklearn.naive_bayes\n",
      "scoring ('sklearn.neighbors._classification', 'KNeighborsClassifier')\n",
      "scoring ('sklearn.neighbors._nearest_centroid', 'NearestCentroid')\n",
      "scoring ('sklearn.neighbors._classification', 'RadiusNeighborsClassifier')\n",
      "skipping sklearn.neighbors._classification\n",
      "scoring ('sklearn.neural_network._multilayer_perceptron', 'MLPClassifier')\n"
     ]
    },
    {
     "name": "stderr",
     "output_type": "stream",
     "text": [
      "Traceback (most recent call last):\n",
      "  File \"/tmp/ipykernel_2987/998152166.py\", line 21, in train_models\n",
      "    clf = algorithm()\n",
      "TypeError: Can't instantiate abstract class _BaseDiscreteNB with abstract methods _count, _joint_log_likelihood, _update_feature_log_prob\n",
      "Traceback (most recent call last):\n",
      "  File \"/tmp/ipykernel_2987/998152166.py\", line 24, in train_models\n",
      "    score = clf.fit(X=X_train, y=y_train).score(X_test, y_test)\n",
      "  File \"/home/seokmin/miniconda3/envs/research/lib/python3.10/site-packages/sklearn/base.py\", line 668, in score\n",
      "    return accuracy_score(y, self.predict(X), sample_weight=sample_weight)\n",
      "  File \"/home/seokmin/miniconda3/envs/research/lib/python3.10/site-packages/sklearn/neighbors/_classification.py\", line 597, in predict\n",
      "    probs = self.predict_proba(X)\n",
      "  File \"/home/seokmin/miniconda3/envs/research/lib/python3.10/site-packages/sklearn/neighbors/_classification.py\", line 656, in predict_proba\n",
      "    raise ValueError(\n",
      "ValueError: No neighbors found for test samples array([   0,    1,    2, ..., 1997, 1998, 1999]), you can try using larger radius, giving a label for outliers, or considering removing them from your dataset.\n"
     ]
    },
    {
     "name": "stdout",
     "output_type": "stream",
     "text": [
      "scoring ('sklearn.semi_supervised._label_propagation', 'LabelPropagation')\n",
      "scoring ('sklearn.semi_supervised._label_propagation', 'LabelSpreading')\n",
      "scoring ('sklearn.svm._classes', 'LinearSVC')\n",
      "scoring ('sklearn.svm._classes', 'NuSVC')\n",
      "scoring ('sklearn.svm._classes', 'SVC')\n",
      "scoring ('sklearn.tree._classes', 'DecisionTreeClassifier')\n",
      "scoring ('sklearn.tree._classes', 'ExtraTreeClassifier')\n",
      "scoring ('sklearn.discriminant_analysis', 'LinearDiscriminantAnalysis')\n",
      "scoring ('sklearn.discriminant_analysis', 'QuadraticDiscriminantAnalysis')\n"
     ]
    }
   ],
   "source": [
    "loan_training = pickle.load(open(\"./data/pickle_pandas_tabular_loan_training.sav\", \"rb\")).sample(5000)\n",
    "loan_testing = pickle.load(open(\"./data/pickle_pandas_tabular_loan_testing.sav\", \"rb\")).sample(2000)\n",
    "\n",
    "X_train = loan_training.drop(\"Interest_Rate\", axis=1)\n",
    "y_train = loan_training[[\"Interest_Rate\"]]\n",
    "X_test = loan_testing.drop(\"Interest_Rate\", axis=1)\n",
    "y_test = loan_testing[[\"Interest_Rate\"]]\n",
    "\n",
    "loan_training.describe()\n",
    "\n",
    "classifiers = algorithms[\"classification\"]\n",
    "train_models(classifiers, \"multiclass_classification\", \"loan\")"
   ]
  },
  {
   "cell_type": "markdown",
   "id": "921a6b58-4228-4d36-84f8-e566ca6f00b4",
   "metadata": {},
   "source": [
    "## Regression Models"
   ]
  },
  {
   "cell_type": "code",
   "execution_count": 13,
   "id": "fc957442-1d4c-4f51-abd0-75e971089118",
   "metadata": {
    "tags": []
   },
   "outputs": [
    {
     "name": "stdout",
     "output_type": "stream",
     "text": [
      "scoring ('sklearn.isotonic', 'IsotonicRegression')\n",
      "skipping sklearn.isotonic\n",
      "scoring ('sklearn.calibration', '_SigmoidCalibration')\n",
      "skipping sklearn.calibration\n",
      "scoring ('sklearn.cross_decomposition._pls', 'CCA')\n",
      "skipping sklearn.cross_decomposition._pls\n",
      "scoring ('sklearn.cross_decomposition._pls', 'PLSCanonical')\n",
      "skipping sklearn.cross_decomposition._pls\n",
      "scoring ('sklearn.cross_decomposition._pls', 'PLSRegression')\n",
      "skipping sklearn.cross_decomposition._pls\n",
      "scoring ('sklearn.dummy', 'DummyRegressor')\n",
      "scoring ('sklearn.ensemble._weight_boosting', 'AdaBoostRegressor')\n",
      "skipping sklearn.ensemble._weight_boosting\n",
      "scoring ('sklearn.ensemble._bagging', 'BaggingRegressor')\n",
      "skipping sklearn.ensemble._bagging\n",
      "scoring ('sklearn.ensemble._forest', 'ExtraTreesRegressor')\n"
     ]
    },
    {
     "name": "stderr",
     "output_type": "stream",
     "text": [
      "Traceback (most recent call last):\n",
      "  File \"/tmp/ipykernel_2987/998152166.py\", line 24, in train_models\n",
      "    score = clf.fit(X=X_train, y=y_train).score(X_test, y_test)\n",
      "  File \"/home/seokmin/miniconda3/envs/research/lib/python3.10/site-packages/sklearn/isotonic.py\", line 351, in fit\n",
      "    X, y = self._build_y(X, y, sample_weight)\n",
      "  File \"/home/seokmin/miniconda3/envs/research/lib/python3.10/site-packages/sklearn/isotonic.py\", line 266, in _build_y\n",
      "    self._check_input_data_shape(X)\n",
      "  File \"/home/seokmin/miniconda3/envs/research/lib/python3.10/site-packages/sklearn/isotonic.py\", line 250, in _check_input_data_shape\n",
      "    raise ValueError(msg)\n",
      "ValueError: Isotonic regression input X should be a 1d array or 2d array with 1 feature\n",
      "Traceback (most recent call last):\n",
      "  File \"/tmp/ipykernel_2987/998152166.py\", line 24, in train_models\n",
      "    score = clf.fit(X=X_train, y=y_train).score(X_test, y_test)\n",
      "  File \"/home/seokmin/miniconda3/envs/research/lib/python3.10/site-packages/sklearn/calibration.py\", line 885, in fit\n",
      "    X = column_or_1d(X)\n",
      "  File \"/home/seokmin/miniconda3/envs/research/lib/python3.10/site-packages/sklearn/utils/validation.py\", line 1202, in column_or_1d\n",
      "    raise ValueError(\n",
      "ValueError: y should be a 1d array, got an array of shape (1070, 6) instead.\n",
      "Traceback (most recent call last):\n",
      "  File \"/tmp/ipykernel_2987/998152166.py\", line 24, in train_models\n",
      "    score = clf.fit(X=X_train, y=y_train).score(X_test, y_test)\n",
      "TypeError: _PLS.fit() got an unexpected keyword argument 'y'\n",
      "Traceback (most recent call last):\n",
      "  File \"/tmp/ipykernel_2987/998152166.py\", line 24, in train_models\n",
      "    score = clf.fit(X=X_train, y=y_train).score(X_test, y_test)\n",
      "TypeError: _PLS.fit() got an unexpected keyword argument 'y'\n",
      "Traceback (most recent call last):\n",
      "  File \"/tmp/ipykernel_2987/998152166.py\", line 24, in train_models\n",
      "    score = clf.fit(X=X_train, y=y_train).score(X_test, y_test)\n",
      "TypeError: PLSRegression.fit() got an unexpected keyword argument 'y'\n",
      "Traceback (most recent call last):\n",
      "  File \"/tmp/ipykernel_2987/998152166.py\", line 24, in train_models\n",
      "    score = clf.fit(X=X_train, y=y_train).score(X_test, y_test)\n",
      "  File \"/home/seokmin/miniconda3/envs/research/lib/python3.10/site-packages/sklearn/ensemble/_weight_boosting.py\", line 162, in fit\n",
      "    sample_weight, estimator_weight, estimator_error = self._boost(\n",
      "  File \"/home/seokmin/miniconda3/envs/research/lib/python3.10/site-packages/sklearn/ensemble/_weight_boosting.py\", line 1152, in _boost\n",
      "    estimator.fit(X_, y_)\n",
      "  File \"/home/seokmin/miniconda3/envs/research/lib/python3.10/site-packages/sklearn/svm/_classes.py\", line 271, in fit\n",
      "    check_classification_targets(y)\n",
      "  File \"/home/seokmin/miniconda3/envs/research/lib/python3.10/site-packages/sklearn/utils/multiclass.py\", line 218, in check_classification_targets\n",
      "    raise ValueError(\"Unknown label type: %r\" % y_type)\n",
      "ValueError: Unknown label type: 'continuous'\n",
      "Traceback (most recent call last):\n",
      "  File \"/tmp/ipykernel_2987/998152166.py\", line 24, in train_models\n",
      "    score = clf.fit(X=X_train, y=y_train).score(X_test, y_test)\n",
      "  File \"/home/seokmin/miniconda3/envs/research/lib/python3.10/site-packages/sklearn/ensemble/_bagging.py\", line 337, in fit\n",
      "    return self._fit(X, y, self.max_samples, sample_weight=sample_weight)\n",
      "  File \"/home/seokmin/miniconda3/envs/research/lib/python3.10/site-packages/sklearn/ensemble/_bagging.py\", line 472, in _fit\n",
      "    all_results = Parallel(\n",
      "  File \"/home/seokmin/miniconda3/envs/research/lib/python3.10/site-packages/sklearn/utils/parallel.py\", line 63, in __call__\n",
      "    return super().__call__(iterable_with_config)\n",
      "  File \"/home/seokmin/miniconda3/envs/research/lib/python3.10/site-packages/joblib/parallel.py\", line 1085, in __call__\n",
      "    if self.dispatch_one_batch(iterator):\n",
      "  File \"/home/seokmin/miniconda3/envs/research/lib/python3.10/site-packages/joblib/parallel.py\", line 901, in dispatch_one_batch\n",
      "    self._dispatch(tasks)\n",
      "  File \"/home/seokmin/miniconda3/envs/research/lib/python3.10/site-packages/joblib/parallel.py\", line 819, in _dispatch\n",
      "    job = self._backend.apply_async(batch, callback=cb)\n",
      "  File \"/home/seokmin/miniconda3/envs/research/lib/python3.10/site-packages/joblib/_parallel_backends.py\", line 208, in apply_async\n",
      "    result = ImmediateResult(func)\n",
      "  File \"/home/seokmin/miniconda3/envs/research/lib/python3.10/site-packages/joblib/_parallel_backends.py\", line 597, in __init__\n",
      "    self.results = batch()\n",
      "  File \"/home/seokmin/miniconda3/envs/research/lib/python3.10/site-packages/joblib/parallel.py\", line 288, in __call__\n",
      "    return [func(*args, **kwargs)\n",
      "  File \"/home/seokmin/miniconda3/envs/research/lib/python3.10/site-packages/joblib/parallel.py\", line 288, in <listcomp>\n",
      "    return [func(*args, **kwargs)\n",
      "  File \"/home/seokmin/miniconda3/envs/research/lib/python3.10/site-packages/sklearn/utils/parallel.py\", line 123, in __call__\n",
      "    return self.function(*args, **kwargs)\n",
      "  File \"/home/seokmin/miniconda3/envs/research/lib/python3.10/site-packages/sklearn/ensemble/_bagging.py\", line 141, in _parallel_build_estimators\n",
      "    estimator_fit(X_, y, sample_weight=curr_sample_weight)\n",
      "  File \"/home/seokmin/miniconda3/envs/research/lib/python3.10/site-packages/sklearn/svm/_classes.py\", line 271, in fit\n",
      "    check_classification_targets(y)\n",
      "  File \"/home/seokmin/miniconda3/envs/research/lib/python3.10/site-packages/sklearn/utils/multiclass.py\", line 218, in check_classification_targets\n",
      "    raise ValueError(\"Unknown label type: %r\" % y_type)\n",
      "ValueError: Unknown label type: 'continuous'\n"
     ]
    },
    {
     "name": "stdout",
     "output_type": "stream",
     "text": [
      "scoring ('sklearn.ensemble._gb', 'GradientBoostingRegressor')\n",
      "scoring ('sklearn.ensemble._hist_gradient_boosting.gradient_boosting', 'HistGradientBoostingRegressor')\n",
      "scoring ('sklearn.ensemble._forest', 'RandomForestRegressor')\n",
      "skipping sklearn.ensemble._stacking\n",
      "skipping sklearn.ensemble._voting\n",
      "scoring ('sklearn.gaussian_process._gpr', 'GaussianProcessRegressor')\n",
      "scoring ('sklearn.isotonic', 'IsotonicRegression')\n",
      "skipping sklearn.isotonic\n",
      "scoring ('sklearn.kernel_ridge', 'KernelRidge')\n",
      "scoring ('sklearn.linear_model._bayes', 'ARDRegression')\n",
      "scoring ('sklearn.linear_model._bayes', 'BayesianRidge')\n",
      "scoring ('sklearn.linear_model._coordinate_descent', 'ElasticNet')\n",
      "scoring ('sklearn.linear_model._coordinate_descent', 'ElasticNetCV')\n"
     ]
    },
    {
     "name": "stderr",
     "output_type": "stream",
     "text": [
      "Traceback (most recent call last):\n",
      "  File \"/tmp/ipykernel_2987/998152166.py\", line 21, in train_models\n",
      "    clf = algorithm()\n",
      "TypeError: StackingRegressor.__init__() missing 1 required positional argument: 'estimators'\n",
      "Traceback (most recent call last):\n",
      "  File \"/tmp/ipykernel_2987/998152166.py\", line 21, in train_models\n",
      "    clf = algorithm()\n",
      "TypeError: VotingRegressor.__init__() missing 1 required positional argument: 'estimators'\n",
      "Traceback (most recent call last):\n",
      "  File \"/tmp/ipykernel_2987/998152166.py\", line 24, in train_models\n",
      "    score = clf.fit(X=X_train, y=y_train).score(X_test, y_test)\n",
      "  File \"/home/seokmin/miniconda3/envs/research/lib/python3.10/site-packages/sklearn/isotonic.py\", line 351, in fit\n",
      "    X, y = self._build_y(X, y, sample_weight)\n",
      "  File \"/home/seokmin/miniconda3/envs/research/lib/python3.10/site-packages/sklearn/isotonic.py\", line 266, in _build_y\n",
      "    self._check_input_data_shape(X)\n",
      "  File \"/home/seokmin/miniconda3/envs/research/lib/python3.10/site-packages/sklearn/isotonic.py\", line 250, in _check_input_data_shape\n",
      "    raise ValueError(msg)\n",
      "ValueError: Isotonic regression input X should be a 1d array or 2d array with 1 feature\n"
     ]
    },
    {
     "name": "stdout",
     "output_type": "stream",
     "text": [
      "scoring ('sklearn.linear_model._glm.glm', 'GammaRegressor')\n",
      "skipping sklearn.linear_model._glm.glm\n",
      "scoring ('sklearn.linear_model._huber', 'HuberRegressor')\n",
      "scoring ('sklearn.linear_model._least_angle', 'Lars')\n",
      "scoring ('sklearn.linear_model._least_angle', 'LarsCV')\n",
      "scoring ('sklearn.linear_model._coordinate_descent', 'Lasso')\n",
      "scoring ('sklearn.linear_model._coordinate_descent', 'LassoCV')\n",
      "scoring ('sklearn.linear_model._least_angle', 'LassoLars')\n",
      "scoring ('sklearn.linear_model._least_angle', 'LassoLarsCV')\n",
      "scoring ('sklearn.linear_model._least_angle', 'LassoLarsIC')\n",
      "scoring ('sklearn.linear_model._base', 'LinearRegression')\n",
      "scoring ('sklearn.linear_model._coordinate_descent', 'MultiTaskElasticNet')\n",
      "scoring ('sklearn.linear_model._coordinate_descent', 'MultiTaskElasticNetCV')\n",
      "scoring ('sklearn.linear_model._coordinate_descent', 'MultiTaskLasso')\n",
      "scoring ('sklearn.linear_model._coordinate_descent', 'MultiTaskLassoCV')\n"
     ]
    },
    {
     "name": "stderr",
     "output_type": "stream",
     "text": [
      "Traceback (most recent call last):\n",
      "  File \"/tmp/ipykernel_2987/998152166.py\", line 24, in train_models\n",
      "    score = clf.fit(X=X_train, y=y_train).score(X_test, y_test)\n",
      "  File \"/home/seokmin/miniconda3/envs/research/lib/python3.10/site-packages/sklearn/linear_model/_glm/glm.py\", line 426, in score\n",
      "    deviance = base_loss(\n",
      "  File \"/home/seokmin/miniconda3/envs/research/lib/python3.10/site-packages/sklearn/_loss/loss.py\", line 408, in __call__\n",
      "    self.loss(\n",
      "  File \"/home/seokmin/miniconda3/envs/research/lib/python3.10/site-packages/sklearn/_loss/loss.py\", line 192, in loss\n",
      "    return self.closs.loss(\n",
      "  File \"sklearn/_loss/_loss.pyx\", line 1192, in sklearn._loss._loss.CyHalfGammaLoss.__pyx_fused_cpdef\n",
      "TypeError: No matching signature found\n"
     ]
    },
    {
     "name": "stdout",
     "output_type": "stream",
     "text": [
      "scoring ('sklearn.linear_model._omp', 'OrthogonalMatchingPursuit')\n",
      "scoring ('sklearn.linear_model._omp', 'OrthogonalMatchingPursuitCV')\n",
      "scoring ('sklearn.linear_model._passive_aggressive', 'PassiveAggressiveRegressor')\n",
      "scoring ('sklearn.linear_model._glm.glm', 'PoissonRegressor')\n",
      "skipping sklearn.linear_model._glm.glm\n",
      "scoring ('sklearn.linear_model._quantile', 'QuantileRegressor')\n"
     ]
    },
    {
     "name": "stderr",
     "output_type": "stream",
     "text": [
      "Traceback (most recent call last):\n",
      "  File \"/tmp/ipykernel_2987/998152166.py\", line 24, in train_models\n",
      "    score = clf.fit(X=X_train, y=y_train).score(X_test, y_test)\n",
      "  File \"/home/seokmin/miniconda3/envs/research/lib/python3.10/site-packages/sklearn/linear_model/_glm/glm.py\", line 426, in score\n",
      "    deviance = base_loss(\n",
      "  File \"/home/seokmin/miniconda3/envs/research/lib/python3.10/site-packages/sklearn/_loss/loss.py\", line 408, in __call__\n",
      "    self.loss(\n",
      "  File \"/home/seokmin/miniconda3/envs/research/lib/python3.10/site-packages/sklearn/_loss/loss.py\", line 192, in loss\n",
      "    return self.closs.loss(\n",
      "  File \"sklearn/_loss/_loss.pyx\", line 1053, in sklearn._loss._loss.CyHalfPoissonLoss.__pyx_fused_cpdef\n",
      "TypeError: No matching signature found\n"
     ]
    },
    {
     "name": "stdout",
     "output_type": "stream",
     "text": [
      "scoring ('sklearn.linear_model._ransac', 'RANSACRegressor')\n",
      "skipping sklearn.linear_model._ransac\n",
      "scoring ('sklearn.linear_model._ridge', 'Ridge')\n",
      "scoring ('sklearn.linear_model._ridge', 'RidgeCV')\n",
      "scoring ('sklearn.linear_model._stochastic_gradient', 'SGDRegressor')\n",
      "scoring ('sklearn.linear_model._theil_sen', 'TheilSenRegressor')\n"
     ]
    },
    {
     "name": "stderr",
     "output_type": "stream",
     "text": [
      "Traceback (most recent call last):\n",
      "  File \"/tmp/ipykernel_2987/998152166.py\", line 24, in train_models\n",
      "    score = clf.fit(X=X_train, y=y_train).score(X_test, y_test)\n",
      "  File \"/home/seokmin/miniconda3/envs/research/lib/python3.10/site-packages/sklearn/linear_model/_ransac.py\", line 357, in fit\n",
      "    raise ValueError(\n",
      "ValueError: `min_samples` needs to be explicitly set when estimator is not a LinearRegression.\n"
     ]
    },
    {
     "name": "stdout",
     "output_type": "stream",
     "text": [
      "scoring ('sklearn.linear_model._glm.glm', 'TweedieRegressor')\n",
      "skipping sklearn.linear_model._glm.glm\n",
      "scoring ('sklearn.multioutput', 'MultiOutputRegressor')\n",
      "skipping sklearn.multioutput\n",
      "skipping sklearn.multioutput\n",
      "scoring ('sklearn.neighbors._regression', 'KNeighborsRegressor')\n",
      "scoring ('sklearn.neighbors._regression', 'RadiusNeighborsRegressor')\n",
      "skipping sklearn.neighbors._regression\n",
      "scoring ('sklearn.neural_network._multilayer_perceptron', 'MLPRegressor')\n"
     ]
    },
    {
     "name": "stderr",
     "output_type": "stream",
     "text": [
      "Traceback (most recent call last):\n",
      "  File \"/tmp/ipykernel_2987/998152166.py\", line 24, in train_models\n",
      "    score = clf.fit(X=X_train, y=y_train).score(X_test, y_test)\n",
      "  File \"/home/seokmin/miniconda3/envs/research/lib/python3.10/site-packages/sklearn/linear_model/_glm/glm.py\", line 426, in score\n",
      "    deviance = base_loss(\n",
      "  File \"/home/seokmin/miniconda3/envs/research/lib/python3.10/site-packages/sklearn/_loss/loss.py\", line 408, in __call__\n",
      "    self.loss(\n",
      "  File \"/home/seokmin/miniconda3/envs/research/lib/python3.10/site-packages/sklearn/_loss/loss.py\", line 192, in loss\n",
      "    return self.closs.loss(\n",
      "  File \"sklearn/_loss/_loss.pyx\", line 1493, in sklearn._loss._loss.CyHalfTweedieLossIdentity.__pyx_fused_cpdef\n",
      "TypeError: No matching signature found\n",
      "Traceback (most recent call last):\n",
      "  File \"/tmp/ipykernel_2987/998152166.py\", line 24, in train_models\n",
      "    score = clf.fit(X=X_train, y=y_train).score(X_test, y_test)\n",
      "  File \"/home/seokmin/miniconda3/envs/research/lib/python3.10/site-packages/sklearn/multioutput.py\", line 216, in fit\n",
      "    self.estimators_ = Parallel(n_jobs=self.n_jobs)(\n",
      "  File \"/home/seokmin/miniconda3/envs/research/lib/python3.10/site-packages/sklearn/utils/parallel.py\", line 63, in __call__\n",
      "    return super().__call__(iterable_with_config)\n",
      "  File \"/home/seokmin/miniconda3/envs/research/lib/python3.10/site-packages/joblib/parallel.py\", line 1085, in __call__\n",
      "    if self.dispatch_one_batch(iterator):\n",
      "  File \"/home/seokmin/miniconda3/envs/research/lib/python3.10/site-packages/joblib/parallel.py\", line 901, in dispatch_one_batch\n",
      "    self._dispatch(tasks)\n",
      "  File \"/home/seokmin/miniconda3/envs/research/lib/python3.10/site-packages/joblib/parallel.py\", line 819, in _dispatch\n",
      "    job = self._backend.apply_async(batch, callback=cb)\n",
      "  File \"/home/seokmin/miniconda3/envs/research/lib/python3.10/site-packages/joblib/_parallel_backends.py\", line 208, in apply_async\n",
      "    result = ImmediateResult(func)\n",
      "  File \"/home/seokmin/miniconda3/envs/research/lib/python3.10/site-packages/joblib/_parallel_backends.py\", line 597, in __init__\n",
      "    self.results = batch()\n",
      "  File \"/home/seokmin/miniconda3/envs/research/lib/python3.10/site-packages/joblib/parallel.py\", line 288, in __call__\n",
      "    return [func(*args, **kwargs)\n",
      "  File \"/home/seokmin/miniconda3/envs/research/lib/python3.10/site-packages/joblib/parallel.py\", line 288, in <listcomp>\n",
      "    return [func(*args, **kwargs)\n",
      "  File \"/home/seokmin/miniconda3/envs/research/lib/python3.10/site-packages/sklearn/utils/parallel.py\", line 123, in __call__\n",
      "    return self.function(*args, **kwargs)\n",
      "  File \"/home/seokmin/miniconda3/envs/research/lib/python3.10/site-packages/sklearn/multioutput.py\", line 49, in _fit_estimator\n",
      "    estimator.fit(X, y, **fit_params)\n",
      "  File \"/home/seokmin/miniconda3/envs/research/lib/python3.10/site-packages/sklearn/svm/_classes.py\", line 271, in fit\n",
      "    check_classification_targets(y)\n",
      "  File \"/home/seokmin/miniconda3/envs/research/lib/python3.10/site-packages/sklearn/utils/multiclass.py\", line 218, in check_classification_targets\n",
      "    raise ValueError(\"Unknown label type: %r\" % y_type)\n",
      "ValueError: Unknown label type: 'continuous'\n",
      "Traceback (most recent call last):\n",
      "  File \"/tmp/ipykernel_2987/998152166.py\", line 21, in train_models\n",
      "    clf = algorithm()\n",
      "TypeError: _BaseChain.__init__() missing 1 required positional argument: 'base_estimator'\n",
      "Traceback (most recent call last):\n",
      "  File \"/tmp/ipykernel_2987/998152166.py\", line 24, in train_models\n",
      "    score = clf.fit(X=X_train, y=y_train).score(X_test, y_test)\n",
      "  File \"/home/seokmin/miniconda3/envs/research/lib/python3.10/site-packages/sklearn/base.py\", line 723, in score\n",
      "    return r2_score(y, y_pred, sample_weight=sample_weight)\n",
      "  File \"/home/seokmin/miniconda3/envs/research/lib/python3.10/site-packages/sklearn/metrics/_regression.py\", line 911, in r2_score\n",
      "    y_type, y_true, y_pred, multioutput = _check_reg_targets(\n",
      "  File \"/home/seokmin/miniconda3/envs/research/lib/python3.10/site-packages/sklearn/metrics/_regression.py\", line 102, in _check_reg_targets\n",
      "    y_pred = check_array(y_pred, ensure_2d=False, dtype=dtype)\n",
      "  File \"/home/seokmin/miniconda3/envs/research/lib/python3.10/site-packages/sklearn/utils/validation.py\", line 921, in check_array\n",
      "    _assert_all_finite(\n",
      "  File \"/home/seokmin/miniconda3/envs/research/lib/python3.10/site-packages/sklearn/utils/validation.py\", line 161, in _assert_all_finite\n",
      "    raise ValueError(msg_err)\n",
      "ValueError: Input contains NaN.\n"
     ]
    },
    {
     "name": "stdout",
     "output_type": "stream",
     "text": [
      "scoring ('sklearn.svm._classes', 'LinearSVR')\n",
      "scoring ('sklearn.svm._classes', 'NuSVR')\n",
      "scoring ('sklearn.svm._classes', 'SVR')\n",
      "scoring ('sklearn.tree._classes', 'DecisionTreeRegressor')\n",
      "scoring ('sklearn.tree._classes', 'ExtraTreeRegressor')\n",
      "scoring ('sklearn.compose._target', 'TransformedTargetRegressor')\n"
     ]
    }
   ],
   "source": [
    "insurance_training = pickle.load(open(\"./data/pickle_pandas_tabular_insurance_training.sav\", \"rb\"))\n",
    "insurance_testing = pickle.load(open(\"./data/pickle_pandas_tabular_insurance_testing.sav\", \"rb\"))\n",
    "insurance_testing.describe()\n",
    "\n",
    "X_train = insurance_training.drop(\"charges\", axis=1)\n",
    "y_train = insurance_training[[\"charges\"]]\n",
    "X_test = insurance_testing.drop(\"charges\", axis=1)\n",
    "y_test = insurance_testing[[\"charges\"]]\n",
    "\n",
    "regressors = algorithms[\"regression\"]\n",
    "train_models(regressors, \"regression\", \"insurance\")"
   ]
  }
 ],
 "metadata": {
  "kernelspec": {
   "display_name": "Python 3 (ipykernel)",
   "language": "python",
   "name": "python3"
  },
  "language_info": {
   "codemirror_mode": {
    "name": "ipython",
    "version": 3
   },
   "file_extension": ".py",
   "mimetype": "text/x-python",
   "name": "python",
   "nbconvert_exporter": "python",
   "pygments_lexer": "ipython3",
   "version": "3.10.10"
  }
 },
 "nbformat": 4,
 "nbformat_minor": 5
}
